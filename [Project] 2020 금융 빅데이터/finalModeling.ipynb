{
 "metadata": {
  "language_info": {
   "codemirror_mode": {
    "name": "ipython",
    "version": 3
   },
   "file_extension": ".py",
   "mimetype": "text/x-python",
   "name": "python",
   "nbconvert_exporter": "python",
   "pygments_lexer": "ipython3",
   "version": "3.8.3-final"
  },
  "orig_nbformat": 2,
  "kernelspec": {
   "name": "python_defaultSpec_1600682610504",
   "display_name": "Python 3.8.3 64-bit ('pytorch': conda)"
  }
 },
 "nbformat": 4,
 "nbformat_minor": 2,
 "cells": [
  {
   "cell_type": "code",
   "execution_count": 2,
   "metadata": {
    "tags": []
   },
   "outputs": [
    {
     "output_type": "stream",
     "name": "stdout",
     "text": "weight_idx : [0, 6144, 12336, 18528, 24864, 31248, 37680, 44112]\nweight_idx : [0, 3840, 7710, 11580, 15540, 19530, 23550, 27570]\nweight_idx : [0, 1408, 2827, 4246, 5698, 7161, 8635, 10109]\nweight_idx : [0, 896, 1799, 2702, 3626, 4557, 5495, 6433]\n"
    }
   ],
   "source": [
    "import pandas as pd\n",
    "import numpy as np\n",
    "import matplotlib.pyplot as plt\n",
    "import seaborn as sns\n",
    "\n",
    "trade = pd.read_csv('trade_train.csv', index_col=0)\n",
    "stock = pd.read_csv('stocks.csv'\n",
    ", index_col=0)\n",
    "answer = pd.read_csv('answer_sheet.csv')\n",
    "\n",
    "from makeDataSet2 import makeDataset, makeCV, encoding, makeSub\n",
    "from myModel import modelCatboost, modelLightgbm, linear\n",
    "from sklearn.metrics import mean_squared_error\n",
    "\n",
    "best_feature = [\n",
    "       '종목번호', \n",
    "       '거래량_mean_weekdiff41',  '거래금액_mean', '거래량4_mean', \n",
    "       '그룹번호', \n",
    "       '매수고객수', '매수고객수rolling_mean2', '매수고객수rolling_mean3',\n",
    "       '매수고객수rolling_std2', '매수고객수rolling_std3',\n",
    "       '매수고객수rolling_max2', '매수고객수rolling_max3', \n",
    "       '매수고객수rolling_min2', '매수고객수rolling_min3', \n",
    "       '매수고객수diff1', '매수고객수diff2']\n",
    "\n",
    "#df_rolling23_diff12_MinMax.to_csv('df_rolling23_diff12_MinMax.csv', index=False)\n",
    "df= pd.read_csv('df_rolling23_diff12_MinMax.csv')\n",
    "\n",
    "X_train_cat, y_train_cat, X_val_cat, y_val_cat, X_test_cat = \\\n",
    "    makeCV(df.reset_index(), train_=[201909, 201910, 201911, 201912, 202001, 202002, 202003, 202004], use_catboost=True)\n",
    "\n",
    "X_train_cat1, y_train_cat1, X_val_cat1, y_val_cat1, X_test_cat1 = \\\n",
    "    makeCV(df.loc[df['group_mse']==1].reset_index(drop=True), \n",
    "    train_=[201909, 201910, 201911, 201912, 202001, 202002, 202003, 202004], use_catboost=True)\n",
    "X_train_cat2, y_train_cat2, X_val_cat2, y_val_cat2, X_test_cat2 = \\\n",
    "    makeCV(df.loc[df['group_mse']==2].reset_index(drop=True), \n",
    "    train_=[201909, 201910, 201911, 201912, 202001, 202002, 202003, 202004], use_catboost=True)\n",
    "X_train_cat3, y_train_cat3, X_val_cat3, y_val_cat3, X_test_cat3 = \\\n",
    "    makeCV(df.loc[df['group_mse']==3].reset_index(drop=True), \n",
    "    train_=[201909, 201910, 201911, 201912, 202001, 202002, 202003, 202004], use_catboost=True)\n"
   ]
  },
  {
   "cell_type": "code",
   "execution_count": 3,
   "metadata": {
    "tags": []
   },
   "outputs": [
    {
     "output_type": "stream",
     "name": "stdout",
     "text": "Learning rate set to 0.040956\n0:\tlearn: 3.2095593\ttest: 4.8485333\tbest: 4.8485333 (0)\ttotal: 30.6ms\tremaining: 2m 33s\n100:\tlearn: 2.3066920\ttest: 3.4327772\tbest: 3.4327772 (100)\ttotal: 2.22s\tremaining: 1m 47s\n200:\tlearn: 2.1771183\ttest: 3.3039421\tbest: 3.3039421 (200)\ttotal: 4.49s\tremaining: 1m 47s\n300:\tlearn: 2.1029081\ttest: 3.2773136\tbest: 3.2749927 (297)\ttotal: 6.91s\tremaining: 1m 47s\n400:\tlearn: 2.0611716\ttest: 3.2640066\tbest: 3.2636803 (392)\ttotal: 9.18s\tremaining: 1m 45s\n500:\tlearn: 2.0157569\ttest: 3.2440001\tbest: 3.2433481 (489)\ttotal: 11.2s\tremaining: 1m 40s\n600:\tlearn: 1.9741701\ttest: 3.2342000\tbest: 3.2341280 (598)\ttotal: 13.4s\tremaining: 1m 38s\n700:\tlearn: 1.9541880\ttest: 3.2374594\tbest: 3.2317958 (680)\ttotal: 15.7s\tremaining: 1m 36s\n800:\tlearn: 1.9358283\ttest: 3.2423251\tbest: 3.2272873 (724)\ttotal: 17.8s\tremaining: 1m 33s\n900:\tlearn: 1.8970111\ttest: 3.2312539\tbest: 3.2272873 (724)\ttotal: 20s\tremaining: 1m 30s\n1000:\tlearn: 1.8618266\ttest: 3.2146237\tbest: 3.2037550 (936)\ttotal: 22.1s\tremaining: 1m 28s\n1100:\tlearn: 1.8353334\ttest: 3.1931775\tbest: 3.1928625 (1098)\ttotal: 24.3s\tremaining: 1m 26s\n1200:\tlearn: 1.8217162\ttest: 3.1892442\tbest: 3.1875450 (1187)\ttotal: 26.4s\tremaining: 1m 23s\n1300:\tlearn: 1.8119341\ttest: 3.1882309\tbest: 3.1868687 (1262)\ttotal: 28.5s\tremaining: 1m 21s\n1400:\tlearn: 1.8061732\ttest: 3.1880141\tbest: 3.1868687 (1262)\ttotal: 30.7s\tremaining: 1m 18s\n1500:\tlearn: 1.7973895\ttest: 3.1785326\tbest: 3.1759789 (1427)\ttotal: 32.8s\tremaining: 1m 16s\n1600:\tlearn: 1.7794120\ttest: 3.1636137\tbest: 3.1619092 (1594)\ttotal: 35s\tremaining: 1m 14s\n1700:\tlearn: 1.7658024\ttest: 3.1520625\tbest: 3.1518450 (1698)\ttotal: 37.1s\tremaining: 1m 12s\n1800:\tlearn: 1.7516204\ttest: 3.1369829\tbest: 3.1324741 (1749)\ttotal: 39.4s\tremaining: 1m 10s\n1900:\tlearn: 1.7471104\ttest: 3.1294724\tbest: 3.1283319 (1869)\ttotal: 41.5s\tremaining: 1m 7s\n2000:\tlearn: 1.7404735\ttest: 3.1308504\tbest: 3.1283319 (1869)\ttotal: 43.8s\tremaining: 1m 5s\n2100:\tlearn: 1.7379953\ttest: 3.1331838\tbest: 3.1283319 (1869)\ttotal: 46.1s\tremaining: 1m 3s\n2200:\tlearn: 1.7325349\ttest: 3.1271588\tbest: 3.1269860 (2188)\ttotal: 48.4s\tremaining: 1m 1s\n2300:\tlearn: 1.7218613\ttest: 3.1101774\tbest: 3.1088760 (2283)\ttotal: 50.8s\tremaining: 59.5s\n2400:\tlearn: 1.7080192\ttest: 3.0892997\tbest: 3.0883691 (2387)\ttotal: 53.2s\tremaining: 57.6s\n2500:\tlearn: 1.6974140\ttest: 3.0773437\tbest: 3.0764658 (2482)\ttotal: 55.6s\tremaining: 55.5s\n2600:\tlearn: 1.6940989\ttest: 3.0813401\tbest: 3.0764658 (2482)\ttotal: 58.1s\tremaining: 53.6s\n2700:\tlearn: 1.6881019\ttest: 3.0713654\tbest: 3.0709386 (2688)\ttotal: 1m\tremaining: 51.4s\n2800:\tlearn: 1.6800350\ttest: 3.0621338\tbest: 3.0588466 (2739)\ttotal: 1m 2s\tremaining: 49.2s\n2900:\tlearn: 1.6765520\ttest: 3.0612015\tbest: 3.0588466 (2739)\ttotal: 1m 5s\tremaining: 47.1s\n3000:\tlearn: 1.6578761\ttest: 3.0405476\tbest: 3.0405476 (3000)\ttotal: 1m 7s\tremaining: 44.9s\n3100:\tlearn: 1.6523322\ttest: 3.0423179\tbest: 3.0399726 (3024)\ttotal: 1m 9s\tremaining: 42.7s\n3200:\tlearn: 1.6482973\ttest: 3.0386257\tbest: 3.0364582 (3125)\ttotal: 1m 12s\tremaining: 40.5s\n3300:\tlearn: 1.6464149\ttest: 3.0378829\tbest: 3.0364497 (3269)\ttotal: 1m 14s\tremaining: 38.2s\n3400:\tlearn: 1.6420733\ttest: 3.0317883\tbest: 3.0307619 (3379)\ttotal: 1m 16s\tremaining: 36.1s\n3500:\tlearn: 1.6301701\ttest: 3.0175886\tbest: 3.0175211 (3496)\ttotal: 1m 19s\tremaining: 33.9s\n3600:\tlearn: 1.6167069\ttest: 2.9994355\tbest: 2.9990858 (3591)\ttotal: 1m 21s\tremaining: 31.7s\n3700:\tlearn: 1.6086088\ttest: 2.9912148\tbest: 2.9903305 (3692)\ttotal: 1m 23s\tremaining: 29.5s\n3800:\tlearn: 1.6062470\ttest: 2.9916197\tbest: 2.9903305 (3692)\ttotal: 1m 26s\tremaining: 27.2s\n3900:\tlearn: 1.6006156\ttest: 2.9926865\tbest: 2.9903305 (3692)\ttotal: 1m 28s\tremaining: 24.9s\n4000:\tlearn: 1.5991716\ttest: 2.9873920\tbest: 2.9870414 (3994)\ttotal: 1m 30s\tremaining: 22.7s\n4100:\tlearn: 1.5968251\ttest: 2.9841120\tbest: 2.9834760 (4078)\ttotal: 1m 33s\tremaining: 20.5s\n4200:\tlearn: 1.5940437\ttest: 2.9845506\tbest: 2.9834760 (4078)\ttotal: 1m 35s\tremaining: 18.2s\n4300:\tlearn: 1.5921237\ttest: 2.9817625\tbest: 2.9817625 (4300)\ttotal: 1m 37s\tremaining: 15.9s\n4400:\tlearn: 1.5859407\ttest: 2.9714782\tbest: 2.9706058 (4331)\ttotal: 1m 40s\tremaining: 13.7s\n4500:\tlearn: 1.5835540\ttest: 2.9667472\tbest: 2.9663117 (4485)\ttotal: 1m 42s\tremaining: 11.4s\n4600:\tlearn: 1.5818773\ttest: 2.9684335\tbest: 2.9662829 (4504)\ttotal: 1m 45s\tremaining: 9.11s\n4700:\tlearn: 1.5801597\ttest: 2.9672622\tbest: 2.9662829 (4504)\ttotal: 1m 47s\tremaining: 6.83s\n4800:\tlearn: 1.5772586\ttest: 2.9658645\tbest: 2.9653651 (4788)\ttotal: 1m 49s\tremaining: 4.55s\n4900:\tlearn: 1.5739406\ttest: 2.9680568\tbest: 2.9642944 (4859)\ttotal: 1m 52s\tremaining: 2.27s\n4999:\tlearn: 1.5598056\ttest: 2.9499488\tbest: 2.9477606 (4958)\ttotal: 1m 54s\tremaining: 0us\nbestTest = 2.947760641\nbestIteration = 4958\nShrink model to first 4959 iterations.\ncatboost best score\n{'learn': {'RMSE': 1.5598055638490016}, 'validation': {'RMSE': 2.9477606405275316}}\n"
    }
   ],
   "source": [
    "params = {\n",
    "    'iterations': 5000,\n",
    "    # 'learning_rate': 0.01,\n",
    "    'random_seed': 42,\n",
    "    'use_best_model': True,\n",
    "    'task_type' : 'GPU',\n",
    "    'border_count' : 254,\n",
    "    'depth' : 6,\n",
    "    'early_stopping_rounds' : 500,\n",
    "    'eval_metric' : 'RMSE' \n",
    "}\n",
    "category_cols = ['종목번호', '그룹번호']\n",
    "weight = {0:1, 3840:1, 7710:1, 11580:1, 15540:5, 19530:5, 23550:5, 27570:5}\n",
    "\n",
    "model_cat_1, pred_train_cat_1, pred_val_cat_1, pred_test_cat_1=\\\n",
    "    modelCatboost(X_train_cat1, y_train_cat1, X_val_cat1, y_val_cat1, X_test_cat1, \\\n",
    "                  category_cols, params=params, selected_feature=best_feature, weight=weight)"
   ]
  },
  {
   "cell_type": "code",
   "execution_count": 4,
   "metadata": {
    "tags": []
   },
   "outputs": [
    {
     "output_type": "stream",
     "name": "stdout",
     "text": "Learning rate set to 0.038913\n0:\tlearn: 9.2605969\ttest: 13.5467485\tbest: 13.5467485 (0)\ttotal: 28.3ms\tremaining: 2m 21s\n100:\tlearn: 4.9180111\ttest: 7.5498246\tbest: 7.5498246 (100)\ttotal: 1.82s\tremaining: 1m 28s\n200:\tlearn: 4.2078121\ttest: 6.8971008\tbest: 6.8971008 (200)\ttotal: 3.92s\tremaining: 1m 33s\n300:\tlearn: 3.9484521\ttest: 6.7228728\tbest: 6.7222374 (298)\ttotal: 5.92s\tremaining: 1m 32s\n400:\tlearn: 3.8280189\ttest: 6.7079365\tbest: 6.6913800 (371)\ttotal: 7.92s\tremaining: 1m 30s\n500:\tlearn: 3.7300998\ttest: 6.6382688\tbest: 6.6381948 (498)\ttotal: 9.96s\tremaining: 1m 29s\n600:\tlearn: 3.6474997\ttest: 6.6208431\tbest: 6.6123587 (543)\ttotal: 12.1s\tremaining: 1m 28s\n700:\tlearn: 3.5949017\ttest: 6.5710043\tbest: 6.5701430 (697)\ttotal: 14.3s\tremaining: 1m 27s\n800:\tlearn: 3.5492615\ttest: 6.5056698\tbest: 6.5025401 (796)\ttotal: 16.3s\tremaining: 1m 25s\n900:\tlearn: 3.5067455\ttest: 6.4681540\tbest: 6.4629003 (882)\ttotal: 18.5s\tremaining: 1m 24s\n1000:\tlearn: 3.4779978\ttest: 6.4394656\tbest: 6.4379271 (938)\ttotal: 20.7s\tremaining: 1m 22s\n1100:\tlearn: 3.4329581\ttest: 6.4439315\tbest: 6.4262131 (1020)\ttotal: 22.9s\tremaining: 1m 21s\n1200:\tlearn: 3.4026553\ttest: 6.4453153\tbest: 6.4221430 (1144)\ttotal: 25s\tremaining: 1m 19s\n1300:\tlearn: 3.3650251\ttest: 6.4668325\tbest: 6.4221430 (1144)\ttotal: 27.2s\tremaining: 1m 17s\n1400:\tlearn: 3.3375901\ttest: 6.5049442\tbest: 6.4221430 (1144)\ttotal: 29.3s\tremaining: 1m 15s\n1500:\tlearn: 3.3217715\ttest: 6.5101220\tbest: 6.4221430 (1144)\ttotal: 31.4s\tremaining: 1m 13s\n1600:\tlearn: 3.2993743\ttest: 6.5072739\tbest: 6.4221430 (1144)\ttotal: 33.4s\tremaining: 1m 11s\nbestTest = 6.422142996\nbestIteration = 1144\nShrink model to first 1145 iterations.\ncatboost best score\n{'learn': {'RMSE': 3.292432519049115}, 'validation': {'RMSE': 6.422142996426785}}\n"
    }
   ],
   "source": [
    "params = {\n",
    "    'iterations': 5000,\n",
    "    # 'learning_rate': 0.01,\n",
    "    'random_seed': 42,\n",
    "    'use_best_model': True,\n",
    "    'task_type' : 'GPU',\n",
    "    'border_count' : 254,\n",
    "    'depth' : 6,\n",
    "    'early_stopping_rounds' : 500,\n",
    "    'eval_metric' : 'RMSE' \n",
    "}\n",
    "category_cols = ['종목번호', '그룹번호']\n",
    "weight = {0:1, 1408:1, 2827:1, 4246:1, 5698:5, 7161:5, 8635:5, 10109:5}\n",
    "\n",
    "model_cat_2, pred_train_cat_2, pred_val_cat_2, pred_test_cat_2=\\\n",
    "    modelCatboost(X_train_cat2, y_train_cat2, X_val_cat2, y_val_cat2, X_test_cat2, \\\n",
    "                  category_cols, params=params, selected_feature=best_feature, weight=weight)"
   ]
  },
  {
   "cell_type": "code",
   "execution_count": 5,
   "metadata": {
    "tags": []
   },
   "outputs": [
    {
     "output_type": "stream",
     "name": "stdout",
     "text": "Learning rate set to 0.038027\n0:\tlearn: 32.1910764\ttest: 48.7606639\tbest: 48.7606639 (0)\ttotal: 19.5ms\tremaining: 1m 37s\n100:\tlearn: 12.4884260\ttest: 21.9255895\tbest: 21.9255895 (100)\ttotal: 2.29s\tremaining: 1m 51s\n200:\tlearn: 10.8514450\ttest: 19.1332465\tbest: 19.1332465 (200)\ttotal: 4.73s\tremaining: 1m 52s\n300:\tlearn: 10.4076796\ttest: 18.9454349\tbest: 18.9454349 (300)\ttotal: 7.13s\tremaining: 1m 51s\n400:\tlearn: 9.9701408\ttest: 18.7086084\tbest: 18.7086084 (400)\ttotal: 9.55s\tremaining: 1m 49s\n500:\tlearn: 9.6798351\ttest: 18.4110207\tbest: 18.4110207 (500)\ttotal: 12s\tremaining: 1m 47s\n600:\tlearn: 9.4803954\ttest: 18.3475656\tbest: 18.3430791 (589)\ttotal: 14.3s\tremaining: 1m 44s\n700:\tlearn: 9.3154876\ttest: 18.4723508\tbest: 18.3430791 (589)\ttotal: 16.5s\tremaining: 1m 41s\n800:\tlearn: 9.1514690\ttest: 18.4967906\tbest: 18.3430791 (589)\ttotal: 18.9s\tremaining: 1m 38s\n900:\tlearn: 8.9538528\ttest: 18.6433641\tbest: 18.3430791 (589)\ttotal: 21.3s\tremaining: 1m 36s\n1000:\tlearn: 8.8324004\ttest: 18.7690708\tbest: 18.3430791 (589)\ttotal: 23.6s\tremaining: 1m 34s\nbestTest = 18.34307908\nbestIteration = 589\nShrink model to first 590 iterations.\ncatboost best score\n{'learn': {'RMSE': 8.73410628200161}, 'validation': {'RMSE': 18.34307907922249}}\n"
    }
   ],
   "source": [
    "params = {\n",
    "    'iterations': 5000,\n",
    "    # 'learning_rate': 0.01,\n",
    "    'random_seed': 42,\n",
    "    'use_best_model': True,\n",
    "    'task_type' : 'GPU',\n",
    "    'border_count' : 254,\n",
    "    'depth' : 6,\n",
    "    'early_stopping_rounds' : 500,\n",
    "    'eval_metric' : 'RMSE' \n",
    "}\n",
    "category_cols = ['종목번호', '그룹번호']\n",
    "weight = {0:1, 896:1, 1799:1, 2702:1, 3626:5, 4557:5, 5495:5, 6433:5}\n",
    "\n",
    "model_cat_3, pred_train_cat_3, pred_val_cat_3, pred_test_cat_3=\\\n",
    "    modelCatboost(X_train_cat3, y_train_cat3, X_val_cat3, y_val_cat3, X_test_cat3, \\\n",
    "                  category_cols, params=params, selected_feature=best_feature, weight=weight)"
   ]
  },
  {
   "source": [
    "# 약간 under fitting 시킨 catboost"
   ],
   "cell_type": "markdown",
   "metadata": {}
  },
  {
   "cell_type": "code",
   "execution_count": 6,
   "metadata": {
    "tags": []
   },
   "outputs": [
    {
     "output_type": "stream",
     "name": "stdout",
     "text": "0:\tlearn: 35.3724010\ttest: 23.4024178\tbest: 23.4024178 (0)\ttotal: 17.5ms\tremaining: 2m 54s\n100:\tlearn: 33.3710784\ttest: 22.4419130\tbest: 22.4419130 (100)\ttotal: 1.23s\tremaining: 2m\n200:\tlearn: 29.1140797\ttest: 20.2528972\tbest: 20.2528972 (200)\ttotal: 2.5s\tremaining: 2m 2s\n300:\tlearn: 27.0635326\ttest: 18.0694293\tbest: 18.0694293 (300)\ttotal: 3.95s\tremaining: 2m 7s\n400:\tlearn: 25.0101216\ttest: 16.0004567\tbest: 16.0004567 (400)\ttotal: 5.43s\tremaining: 2m 10s\n500:\tlearn: 24.0460292\ttest: 14.1855397\tbest: 14.1855397 (500)\ttotal: 6.83s\tremaining: 2m 9s\n600:\tlearn: 22.5544251\ttest: 11.3619401\tbest: 11.3619401 (600)\ttotal: 8.24s\tremaining: 2m 8s\n700:\tlearn: 21.5922678\ttest: 9.9431702\tbest: 9.9431702 (700)\ttotal: 9.52s\tremaining: 2m 6s\n800:\tlearn: 20.9236454\ttest: 8.9616285\tbest: 8.9616285 (800)\ttotal: 10.9s\tremaining: 2m 4s\n900:\tlearn: 20.5370286\ttest: 8.6189031\tbest: 8.6189031 (900)\ttotal: 12.2s\tremaining: 2m 3s\n1000:\tlearn: 20.1123771\ttest: 8.4194640\tbest: 8.4148356 (995)\ttotal: 13.6s\tremaining: 2m 2s\n1100:\tlearn: 19.7885129\ttest: 8.2469197\tbest: 8.2393951 (1088)\ttotal: 15s\tremaining: 2m 1s\n1200:\tlearn: 19.4923696\ttest: 8.1311616\tbest: 8.1301583 (1193)\ttotal: 16.4s\tremaining: 1m 59s\n1300:\tlearn: 19.3706523\ttest: 8.0245271\tbest: 8.0245271 (1300)\ttotal: 17.7s\tremaining: 1m 58s\n1400:\tlearn: 19.2269061\ttest: 7.9156705\tbest: 7.9156705 (1400)\ttotal: 19s\tremaining: 1m 56s\n1500:\tlearn: 19.1016261\ttest: 7.8051866\tbest: 7.8051866 (1500)\ttotal: 20.4s\tremaining: 1m 55s\n1600:\tlearn: 19.0033128\ttest: 7.7434981\tbest: 7.7420675 (1597)\ttotal: 21.7s\tremaining: 1m 54s\n1700:\tlearn: 18.9570451\ttest: 7.7094970\tbest: 7.7056669 (1649)\ttotal: 23.1s\tremaining: 1m 52s\n1800:\tlearn: 18.9017065\ttest: 7.6561383\tbest: 7.6531923 (1791)\ttotal: 24.5s\tremaining: 1m 51s\n1900:\tlearn: 18.8506458\ttest: 7.6356316\tbest: 7.6333683 (1894)\ttotal: 25.9s\tremaining: 1m 50s\n2000:\tlearn: 18.7999967\ttest: 7.5912486\tbest: 7.5912486 (2000)\ttotal: 27.4s\tremaining: 1m 49s\n2100:\tlearn: 18.7544630\ttest: 7.5605213\tbest: 7.5598443 (2090)\ttotal: 28.8s\tremaining: 1m 48s\n2200:\tlearn: 18.7067820\ttest: 7.5471366\tbest: 7.5427858 (2195)\ttotal: 30.2s\tremaining: 1m 46s\n2300:\tlearn: 18.6855136\ttest: 7.5259666\tbest: 7.5254408 (2298)\ttotal: 31.6s\tremaining: 1m 45s\n2400:\tlearn: 18.6653541\ttest: 7.4962859\tbest: 7.4954815 (2399)\ttotal: 33.1s\tremaining: 1m 44s\n2500:\tlearn: 18.6467798\ttest: 7.4975247\tbest: 7.4851561 (2438)\ttotal: 34.6s\tremaining: 1m 43s\n2600:\tlearn: 18.6350026\ttest: 7.4679069\tbest: 7.4678513 (2599)\ttotal: 36s\tremaining: 1m 42s\n2700:\tlearn: 18.6167323\ttest: 7.4761921\tbest: 7.4652436 (2609)\ttotal: 37.4s\tremaining: 1m 41s\n2800:\tlearn: 18.6071591\ttest: 7.4712524\tbest: 7.4652436 (2609)\ttotal: 38.9s\tremaining: 1m 39s\n2900:\tlearn: 18.5974065\ttest: 7.4846200\tbest: 7.4652436 (2609)\ttotal: 40.2s\tremaining: 1m 38s\n3000:\tlearn: 18.5859287\ttest: 7.4600082\tbest: 7.4567061 (2995)\ttotal: 41.7s\tremaining: 1m 37s\n3100:\tlearn: 18.5770712\ttest: 7.4661446\tbest: 7.4567061 (2995)\ttotal: 43s\tremaining: 1m 35s\n3200:\tlearn: 18.5584641\ttest: 7.4654632\tbest: 7.4567061 (2995)\ttotal: 44.5s\tremaining: 1m 34s\n3300:\tlearn: 18.5253568\ttest: 7.4528244\tbest: 7.4498978 (3298)\ttotal: 45.9s\tremaining: 1m 33s\n3400:\tlearn: 18.5156106\ttest: 7.4561751\tbest: 7.4478047 (3314)\ttotal: 47.4s\tremaining: 1m 31s\n3500:\tlearn: 18.5080911\ttest: 7.4315613\tbest: 7.4315613 (3500)\ttotal: 48.9s\tremaining: 1m 30s\n3600:\tlearn: 18.5010276\ttest: 7.4218248\tbest: 7.4151833 (3543)\ttotal: 50.4s\tremaining: 1m 29s\n3700:\tlearn: 18.4945816\ttest: 7.4060335\tbest: 7.4060335 (3700)\ttotal: 51.9s\tremaining: 1m 28s\n3800:\tlearn: 18.4879073\ttest: 7.3985557\tbest: 7.3978261 (3787)\ttotal: 53.4s\tremaining: 1m 27s\n3900:\tlearn: 18.4808506\ttest: 7.3980451\tbest: 7.3925068 (3822)\ttotal: 55s\tremaining: 1m 25s\n4000:\tlearn: 18.4703255\ttest: 7.4027583\tbest: 7.3925068 (3822)\ttotal: 56.5s\tremaining: 1m 24s\n4100:\tlearn: 18.4633964\ttest: 7.4079593\tbest: 7.3925068 (3822)\ttotal: 58s\tremaining: 1m 23s\n4200:\tlearn: 18.4585608\ttest: 7.3929724\tbest: 7.3925068 (3822)\ttotal: 59.5s\tremaining: 1m 22s\n4300:\tlearn: 18.4535399\ttest: 7.3897341\tbest: 7.3860971 (4221)\ttotal: 1m\tremaining: 1m 20s\n4400:\tlearn: 18.4324297\ttest: 7.3888846\tbest: 7.3801472 (4375)\ttotal: 1m 2s\tremaining: 1m 19s\n4500:\tlearn: 18.4283245\ttest: 7.3725341\tbest: 7.3717785 (4490)\ttotal: 1m 3s\tremaining: 1m 18s\n4600:\tlearn: 18.4184513\ttest: 7.3515179\tbest: 7.3515179 (4600)\ttotal: 1m 5s\tremaining: 1m 16s\n4700:\tlearn: 18.4045121\ttest: 7.3522547\tbest: 7.3461644 (4659)\ttotal: 1m 6s\tremaining: 1m 15s\n4800:\tlearn: 18.3829334\ttest: 7.3698337\tbest: 7.3461644 (4659)\ttotal: 1m 8s\tremaining: 1m 14s\n4900:\tlearn: 18.3696811\ttest: 7.3836549\tbest: 7.3461644 (4659)\ttotal: 1m 10s\tremaining: 1m 12s\n5000:\tlearn: 18.3613835\ttest: 7.3910601\tbest: 7.3461644 (4659)\ttotal: 1m 11s\tremaining: 1m 11s\n5100:\tlearn: 18.3550996\ttest: 7.3974327\tbest: 7.3461644 (4659)\ttotal: 1m 13s\tremaining: 1m 10s\n5200:\tlearn: 18.3452796\ttest: 7.3959462\tbest: 7.3461644 (4659)\ttotal: 1m 14s\tremaining: 1m 8s\n5300:\tlearn: 18.3389475\ttest: 7.4063638\tbest: 7.3461644 (4659)\ttotal: 1m 16s\tremaining: 1m 7s\n5400:\tlearn: 18.3355355\ttest: 7.4073169\tbest: 7.3461644 (4659)\ttotal: 1m 17s\tremaining: 1m 6s\n5500:\tlearn: 18.3317084\ttest: 7.4035868\tbest: 7.3461644 (4659)\ttotal: 1m 19s\tremaining: 1m 5s\n5600:\tlearn: 18.3210404\ttest: 7.4023710\tbest: 7.3461644 (4659)\ttotal: 1m 21s\tremaining: 1m 3s\nbestTest = 7.346164391\nbestIteration = 4659\nShrink model to first 4660 iterations.\ncatboost best score\n{'learn': {'RMSE': 18.31353370796595}, 'validation': {'RMSE': 7.346164390875938}}\n"
    }
   ],
   "source": [
    "# catboost\n",
    "params = {\n",
    "    'iterations': 10000,\n",
    "    'learning_rate': 0.03,\n",
    "    'random_seed': 42,\n",
    "    'use_best_model': True,\n",
    "    'task_type' : 'GPU',\n",
    "    'border_count' : 254,\n",
    "    'depth' : 8,\n",
    "    'early_stopping_rounds' : 1000,\n",
    "    'eval_metric' : 'RMSE' \n",
    "}\n",
    "category_cols = ['종목번호', '그룹번호']\n",
    "#weight = {0:1, 6144:1, 12336:1, 18528:1, 24864:3, 31248:3, 37680:3, 44112:3}\n",
    "model_cat_4, pred_train_cat_4, pred_val_cat_4, pred_test_cat_4=\\\n",
    "    modelCatboost(X_train_cat, y_train_cat, X_val_cat, y_val_cat, X_test_cat, \\\n",
    "                  category_cols, params=params, selected_feature=best_feature, weight=None, targetWeight=3)"
   ]
  },
  {
   "source": [
    "# lightgbm"
   ],
   "cell_type": "markdown",
   "metadata": {}
  },
  {
   "cell_type": "code",
   "execution_count": 7,
   "metadata": {
    "tags": []
   },
   "outputs": [
    {
     "output_type": "stream",
     "name": "stdout",
     "text": "weight_idx : [0, 6144, 12336, 18528, 24864, 31248, 37680, 44112]\n"
    }
   ],
   "source": [
    "X_train, y_train, X_val, y_val, X_test = \\\n",
    "     makeCV(df, train_=[201909, 201910, 201911, 201912, 202001, 202002, 202003, 202004], use_catboost=False)\n",
    "\n",
    "# label encoding\n",
    "X_train_en, X_val_en, X_test_en = X_train.copy(), X_val.copy(), X_test.copy()\n",
    "\n",
    "from sklearn.preprocessing import LabelEncoder\n",
    "encoder = LabelEncoder()\n",
    "category_cols = ['종목번호', '그룹번호']\n",
    "for i in category_cols:\n",
    "    encoder.fit(X_train.loc[:,i])\n",
    "    X_train_en.loc[:,i] = encoder.transform(X_train.loc[:,i])\n",
    "    X_val_en.loc[:,i] = encoder.transform(X_val.loc[:,i])\n",
    "    X_test_en.loc[:,i] = encoder.transform(X_test.loc[:,i])"
   ]
  },
  {
   "cell_type": "code",
   "execution_count": 8,
   "metadata": {
    "tags": []
   },
   "outputs": [
    {
     "output_type": "stream",
     "name": "stdout",
     "text": "[LightGBM] [Warning] Auto-choosing row-wise multi-threading, the overhead of testing was 0.001167 seconds.\nYou can set `force_row_wise=true` to remove the overhead.\nAnd if memory is not enough, you can set `force_col_wise=true`.\n[LightGBM] [Info] Total Bins 2153\n[LightGBM] [Info] Number of data points in the train set: 50544, number of used features: 16\n[LightGBM] [Info] Start training from score 2.015553\n[100]\ttraining's huber: 0.597787\tvalid_1's huber: 1.59221\n[200]\ttraining's huber: 0.554928\tvalid_1's huber: 1.5968\n[300]\ttraining's huber: 0.499297\tvalid_1's huber: 1.58903\n[400]\ttraining's huber: 0.470829\tvalid_1's huber: 1.58228\n[500]\ttraining's huber: 0.438278\tvalid_1's huber: 1.57531\n[600]\ttraining's huber: 0.418243\tvalid_1's huber: 1.57687\n[700]\ttraining's huber: 0.385236\tvalid_1's huber: 1.56585\n[800]\ttraining's huber: 0.358077\tvalid_1's huber: 1.56177\n[900]\ttraining's huber: 0.339056\tvalid_1's huber: 1.56845\n[1000]\ttraining's huber: 0.326057\tvalid_1's huber: 1.57344\n[1100]\ttraining's huber: 0.306151\tvalid_1's huber: 1.57867\n[1200]\ttraining's huber: 0.298743\tvalid_1's huber: 1.58767\n[1300]\ttraining's huber: 0.288427\tvalid_1's huber: 1.58608\n[1400]\ttraining's huber: 0.276754\tvalid_1's huber: 1.58686\n[1500]\ttraining's huber: 0.272009\tvalid_1's huber: 1.58584\n[1600]\ttraining's huber: 0.256274\tvalid_1's huber: 1.586\n[1700]\ttraining's huber: 0.249609\tvalid_1's huber: 1.58064\n[1800]\ttraining's huber: 0.247236\tvalid_1's huber: 1.57805\n[1900]\ttraining's huber: 0.239721\tvalid_1's huber: 1.58231\n[2000]\ttraining's huber: 0.230932\tvalid_1's huber: 1.57705\n[2100]\ttraining's huber: 0.225924\tvalid_1's huber: 1.57433\n[2200]\ttraining's huber: 0.222461\tvalid_1's huber: 1.57545\n[2300]\ttraining's huber: 0.215843\tvalid_1's huber: 1.57429\n[2400]\ttraining's huber: 0.212906\tvalid_1's huber: 1.57587\n[2500]\ttraining's huber: 0.208739\tvalid_1's huber: 1.57348\n[2600]\ttraining's huber: 0.203836\tvalid_1's huber: 1.5733\n[2700]\ttraining's huber: 0.197638\tvalid_1's huber: 1.57213\n[2800]\ttraining's huber: 0.195606\tvalid_1's huber: 1.56787\n[2900]\ttraining's huber: 0.190077\tvalid_1's huber: 1.56661\n[3000]\ttraining's huber: 0.184097\tvalid_1's huber: 1.5635\n[3100]\ttraining's huber: 0.180487\tvalid_1's huber: 1.56368\n[3200]\ttraining's huber: 0.176487\tvalid_1's huber: 1.5634\n[3300]\ttraining's huber: 0.173402\tvalid_1's huber: 1.56063\n[3400]\ttraining's huber: 0.168094\tvalid_1's huber: 1.56286\n[3500]\ttraining's huber: 0.165381\tvalid_1's huber: 1.56203\n[3600]\ttraining's huber: 0.162647\tvalid_1's huber: 1.56215\n[3700]\ttraining's huber: 0.157174\tvalid_1's huber: 1.56118\n[3800]\ttraining's huber: 0.15546\tvalid_1's huber: 1.56036\n[3900]\ttraining's huber: 0.153047\tvalid_1's huber: 1.56122\n[4000]\ttraining's huber: 0.151094\tvalid_1's huber: 1.56136\n[4100]\ttraining's huber: 0.148101\tvalid_1's huber: 1.56026\n[4200]\ttraining's huber: 0.144568\tvalid_1's huber: 1.56105\n[4300]\ttraining's huber: 0.140829\tvalid_1's huber: 1.56139\n[4400]\ttraining's huber: 0.140692\tvalid_1's huber: 1.5598\n[4500]\ttraining's huber: 0.138055\tvalid_1's huber: 1.55771\n[4600]\ttraining's huber: 0.133781\tvalid_1's huber: 1.55647\n[4700]\ttraining's huber: 0.132549\tvalid_1's huber: 1.5559\n[4800]\ttraining's huber: 0.130365\tvalid_1's huber: 1.55637\n[4900]\ttraining's huber: 0.127382\tvalid_1's huber: 1.55533\n[5000]\ttraining's huber: 0.126748\tvalid_1's huber: 1.55536\n"
    }
   ],
   "source": [
    "params = {'objective': 'regression',\n",
    "             'metric': 'huber',\n",
    "             'boosting_type': 'dart',\n",
    "             'seed': 42,\n",
    "             'num_iterations' : 5000,\n",
    "             'early_stopping_rounds' : 500\n",
    "            }\n",
    "weight = {0:1, 6144:1, 12336:1, 18528:1, 24864:3, 31248:3, 37680:5, 44112:5}\n",
    "category_cols = ['종목번호', '그룹번호']\n",
    "model_lgb_1, pred_train_lgb_1, pred_val_lgb_1, pred_test_lgb_1=\\\n",
    "    modelLightgbm(X_train_en, y_train, X_val_en, y_val, X_test_en , \\\n",
    "                  category_cols, weight=weight, params=params, selected_feature=best_feature)"
   ]
  },
  {
   "source": [
    "# 합치기, Stacking\n"
   ],
   "cell_type": "markdown",
   "metadata": {}
  },
  {
   "cell_type": "code",
   "execution_count": 9,
   "metadata": {},
   "outputs": [],
   "source": [
    "X_train_g = X_train_cat.copy()\n",
    "X_train_g['pred'] = np.nan\n",
    "X_train_g.loc[X_train_g['group_mse']==1, 'pred'] = pred_train_cat_1\n",
    "X_train_g.loc[X_train_g['group_mse']==2, 'pred'] = pred_train_cat_2\n",
    "X_train_g.loc[X_train_g['group_mse']==3, 'pred'] = pred_train_cat_3\n",
    "\n",
    "X_val_g = X_val_cat.copy()\n",
    "X_val_g['pred'] = np.nan\n",
    "X_val_g.loc[X_val_g['group_mse']==1, 'pred'] = pred_val_cat_1\n",
    "X_val_g.loc[X_val_g['group_mse']==2, 'pred'] = pred_val_cat_2\n",
    "X_val_g.loc[X_val_g['group_mse']==3, 'pred'] = pred_val_cat_3\n",
    "\n",
    "X_test_g = X_test_cat.copy()\n",
    "X_test_g['pred'] = np.nan\n",
    "X_test_g.loc[X_test_g['group_mse']==1, 'pred'] = pred_test_cat_1\n",
    "X_test_g.loc[X_test_g['group_mse']==2, 'pred'] = pred_test_cat_2\n",
    "X_test_g.loc[X_test_g['group_mse']==3, 'pred'] = pred_test_cat_3"
   ]
  },
  {
   "cell_type": "code",
   "execution_count": 10,
   "metadata": {},
   "outputs": [],
   "source": [
    "pred_train_month = X_train_cat['매수고객수']\n",
    "pred_val_month = X_val_cat['매수고객수']\n",
    "pred_test_month = X_test_cat['매수고객수']"
   ]
  },
  {
   "cell_type": "code",
   "execution_count": 11,
   "metadata": {
    "tags": []
   },
   "outputs": [
    {
     "output_type": "stream",
     "name": "stdout",
     "text": "8.511871186049\n"
    }
   ],
   "source": [
    "from sklearn.linear_model import LinearRegression\n",
    "\n",
    "stacking_df = pd.DataFrame(pred_train_month)\n",
    "stacking_df['lgb1'] = pred_train_lgb_1\n",
    "stacking_df['cat1'] = X_train_g['pred']\n",
    "stacking_df['cat2'] = pred_train_cat_4\n",
    "\n",
    "stacking_df_val = pd.DataFrame(pred_val_month)\n",
    "stacking_df_val['lgb1'] = pred_val_lgb_1\n",
    "stacking_df_val['cat1'] = X_val_g['pred']\n",
    "stacking_df_val['cat2'] = pred_val_cat_4\n",
    "\n",
    "stacking_df_test = pd.DataFrame(pred_test_month)\n",
    "stacking_df_test['lgb1'] = pred_test_lgb_1\n",
    "stacking_df_test['cat1'] = X_test_g['pred']\n",
    "stacking_df_test['cat2'] = pred_test_cat_4\n",
    "\n",
    "stackModel = LinearRegression()\n",
    "stackModel.fit(stacking_df, y_train)\n",
    "stack_pred = stackModel.predict(stacking_df_val)\n",
    "print(np.sqrt(mean_squared_error(y_val, stack_pred)))\n"
   ]
  },
  {
   "cell_type": "code",
   "execution_count": 12,
   "metadata": {},
   "outputs": [
    {
     "output_type": "execute_result",
     "data": {
      "text/plain": "          매수고객수      lgb1      cat1      cat2\n매수고객수  1.000000  0.937814  0.969674  0.955161\nlgb1   0.937814  1.000000  0.955747  0.936590\ncat1   0.969674  0.955747  1.000000  0.952502\ncat2   0.955161  0.936590  0.952502  1.000000",
      "text/html": "<div>\n<style scoped>\n    .dataframe tbody tr th:only-of-type {\n        vertical-align: middle;\n    }\n\n    .dataframe tbody tr th {\n        vertical-align: top;\n    }\n\n    .dataframe thead th {\n        text-align: right;\n    }\n</style>\n<table border=\"1\" class=\"dataframe\">\n  <thead>\n    <tr style=\"text-align: right;\">\n      <th></th>\n      <th>매수고객수</th>\n      <th>lgb1</th>\n      <th>cat1</th>\n      <th>cat2</th>\n    </tr>\n  </thead>\n  <tbody>\n    <tr>\n      <th>매수고객수</th>\n      <td>1.000000</td>\n      <td>0.937814</td>\n      <td>0.969674</td>\n      <td>0.955161</td>\n    </tr>\n    <tr>\n      <th>lgb1</th>\n      <td>0.937814</td>\n      <td>1.000000</td>\n      <td>0.955747</td>\n      <td>0.936590</td>\n    </tr>\n    <tr>\n      <th>cat1</th>\n      <td>0.969674</td>\n      <td>0.955747</td>\n      <td>1.000000</td>\n      <td>0.952502</td>\n    </tr>\n    <tr>\n      <th>cat2</th>\n      <td>0.955161</td>\n      <td>0.936590</td>\n      <td>0.952502</td>\n      <td>1.000000</td>\n    </tr>\n  </tbody>\n</table>\n</div>"
     },
     "metadata": {},
     "execution_count": 12
    }
   ],
   "source": [
    "stacking_df_val.corr()"
   ]
  },
  {
   "source": [
    "idx 24864 이후가 2020 년도"
   ],
   "cell_type": "markdown",
   "metadata": {}
  },
  {
   "cell_type": "code",
   "execution_count": 13,
   "metadata": {},
   "outputs": [],
   "source": [
    "finalStack_X = pd.concat([stacking_df, stacking_df_val])\n",
    "finalStack_y = pd.concat([y_train, y_val])\n",
    "\n",
    "stackModel = LinearRegression()\n",
    "stackModel.fit(stacking_df_val, y_val)\n",
    "stack_pred = stackModel.predict(stacking_df_test)"
   ]
  },
  {
   "cell_type": "code",
   "execution_count": 14,
   "metadata": {},
   "outputs": [
    {
     "output_type": "execute_result",
     "data": {
      "text/plain": "array([ 0.99106318, -0.04806165,  0.11929187,  0.19879218])"
     },
     "metadata": {},
     "execution_count": 14
    }
   ],
   "source": [
    "stackModel.coef_"
   ]
  },
  {
   "cell_type": "code",
   "execution_count": 16,
   "metadata": {},
   "outputs": [],
   "source": [
    "cat_answer = makeSub(X_test_cat, stack_pred)\n",
    "cat_answer.to_csv('0921_stacking_catg1cat1lgb1_targetNot0Weight.csv', index=False)\n"
   ]
  },
  {
   "cell_type": "code",
   "execution_count": null,
   "metadata": {},
   "outputs": [],
   "source": []
  }
 ]
}