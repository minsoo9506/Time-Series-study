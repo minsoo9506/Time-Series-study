{
 "metadata": {
  "language_info": {
   "codemirror_mode": {
    "name": "ipython",
    "version": 3
   },
   "file_extension": ".py",
   "mimetype": "text/x-python",
   "name": "python",
   "nbconvert_exporter": "python",
   "pygments_lexer": "ipython3",
   "version": "3.8.3-final"
  },
  "orig_nbformat": 2,
  "kernelspec": {
   "name": "python_defaultSpec_1601690150711",
   "display_name": "Python 3.8.3 64-bit ('pytorch': conda)"
  }
 },
 "nbformat": 4,
 "nbformat_minor": 2,
 "cells": [
  {
   "source": [
    "# concept : Simple is the best!\n",
    "- 딥러닝 사용하지 않음\n",
    "- 외부데이터 사용하지 않음\n",
    "- **최소한의 노력으로 최대한의 결과를 얻어보자!**\n",
    "    - competition의 목표가 모든 매수고객수를 맞추는 것이였다면 더 많은 모델을 사용했을 것이다.\n",
    "    - 하지만 상위 3개만을 맞추는 것이 목표였기에 굳이 많은 수의 모델, 딥러닝은 필요하지 않다고 판단하였다.\n",
    "\n",
    "## 0 make data, feature engineering\n",
    "- 다소 복잡\n",
    "\n",
    "## 1 feature selection\n",
    "- shap value importance\n",
    "- model feature importance\n",
    "\n",
    "## 2 hyperparameter optimization\n",
    "- bayesian optimization\n",
    "\n",
    "## 3 final modeling\n",
    "- stacking\n",
    "    - 전체 데이터 대상 **catboost model 1개**\n",
    "        - 매수고객이 0이 아닌 sample에 가중치 (만든 dataset이 0이 많은 sparse한 데이터였기에)\n",
    "    - **6월 매수고객 데이터**\n",
    "        - 시계열에서 아직까지도 기초적인 통계모델링들의 ensemble을 많이 사용하기에 예측달 7월의 직전달인 6월의 데이터 사용\n",
    "- 총 2개의 모델이용\n",
    "\n",
    "## 결과\n",
    "- 공개리더보드 81.18809999999999\n",
    "\n",
    "## 추가적인 발전 가능성\n",
    "- 외부 데이터 활용\n",
    "- rnn 계열의 딥러닝 이용\n",
    "- 최적의 하이퍼파라미터\n",
    "- 더 많은 수의 모델링"
   ],
   "cell_type": "markdown",
   "metadata": {}
  },
  {
   "cell_type": "code",
   "execution_count": 2,
   "metadata": {
    "tags": []
   },
   "outputs": [
    {
     "output_type": "stream",
     "name": "stdout",
     "text": "weight_idx : [0, 6144, 12336, 18528, 24864, 31248, 37680, 44112]\nweight_idx : [0, 3840, 7710, 11580, 15540, 19530, 23550, 27570]\nweight_idx : [0, 1408, 2827, 4246, 5698, 7161, 8635, 10109]\nweight_idx : [0, 896, 1799, 2702, 3626, 4557, 5495, 6433]\n"
    }
   ],
   "source": [
    "import pandas as pd\n",
    "import numpy as np\n",
    "import matplotlib.pyplot as plt\n",
    "import seaborn as sns\n",
    "\n",
    "trade = pd.read_csv('trade_train.csv', index_col=0)\n",
    "stock = pd.read_csv('stocks.csv', index_col=0)\n",
    "answer = pd.read_csv('answer_sheet.csv')\n",
    "\n",
    "from makeDataSet2 import makeDataset, makeCV, encoding, makeSub\n",
    "from myModel import modelCatboost, modelLightgbm, linear\n",
    "from sklearn.metrics import mean_squared_error\n",
    "\n",
    "best_feature = [\n",
    "       '종목번호', \n",
    "       '거래량_mean_weekdiff41',  '거래금액_mean', '거래량4_mean', \n",
    "       '그룹번호', \n",
    "       '매수고객수', '매수고객수rolling_mean2', '매수고객수rolling_mean3',\n",
    "       '매수고객수rolling_std2', '매수고객수rolling_std3',\n",
    "       '매수고객수rolling_max2', '매수고객수rolling_max3', \n",
    "       '매수고객수rolling_min2', '매수고객수rolling_min3', \n",
    "       '매수고객수diff1', '매수고객수diff2']\n",
    "\n",
    "df= pd.read_csv('df_rolling23_diff12_MinMax.csv')\n",
    "\n",
    "X_train_cat, y_train_cat, X_val_cat, y_val_cat, X_test_cat = \\\n",
    "    makeCV(df.reset_index(), train_=[201909, 201910, 201911, 201912, 202001, 202002, 202003, 202004], use_catboost=True)\n",
    "\n",
    "X_train_cat1, y_train_cat1, X_val_cat1, y_val_cat1, X_test_cat1 = \\\n",
    "    makeCV(df.loc[df['group_mse']==1].reset_index(drop=True), \n",
    "    train_=[201909, 201910, 201911, 201912, 202001, 202002, 202003, 202004], use_catboost=True)\n",
    "X_train_cat2, y_train_cat2, X_val_cat2, y_val_cat2, X_test_cat2 = \\\n",
    "    makeCV(df.loc[df['group_mse']==2].reset_index(drop=True), \n",
    "    train_=[201909, 201910, 201911, 201912, 202001, 202002, 202003, 202004], use_catboost=True)\n",
    "X_train_cat3, y_train_cat3, X_val_cat3, y_val_cat3, X_test_cat3 = \\\n",
    "    makeCV(df.loc[df['group_mse']==3].reset_index(drop=True), \n",
    "    train_=[201909, 201910, 201911, 201912, 202001, 202002, 202003, 202004], use_catboost=True)\n"
   ]
  },
  {
   "source": [
    "# Catboost"
   ],
   "cell_type": "markdown",
   "metadata": {}
  },
  {
   "cell_type": "code",
   "execution_count": 4,
   "metadata": {
    "tags": []
   },
   "outputs": [
    {
     "output_type": "stream",
     "name": "stdout",
     "text": "0:\tlearn: 35.3785594\ttest: 23.4101445\tbest: 23.4101445 (0)\ttotal: 25.1ms\tremaining: 4m 11s\n100:\tlearn: 33.7180573\ttest: 22.6301584\tbest: 22.6301584 (100)\ttotal: 1.54s\tremaining: 2m 30s\n200:\tlearn: 31.1775157\ttest: 21.4715785\tbest: 21.4715785 (200)\ttotal: 3.23s\tremaining: 2m 37s\n300:\tlearn: 28.6363993\ttest: 19.8888450\tbest: 19.8888450 (300)\ttotal: 4.93s\tremaining: 2m 38s\n400:\tlearn: 27.1869963\ttest: 18.6249374\tbest: 18.6249374 (400)\ttotal: 6.66s\tremaining: 2m 39s\n500:\tlearn: 25.8386882\ttest: 17.0858795\tbest: 17.0858795 (500)\ttotal: 8.47s\tremaining: 2m 40s\n600:\tlearn: 24.8136373\ttest: 15.6561338\tbest: 15.6561338 (600)\ttotal: 10.2s\tremaining: 2m 38s\n700:\tlearn: 24.0467817\ttest: 14.1753337\tbest: 14.1753337 (700)\ttotal: 11.8s\tremaining: 2m 36s\n800:\tlearn: 23.1500636\ttest: 12.4023318\tbest: 12.4023318 (800)\ttotal: 13.5s\tremaining: 2m 34s\n900:\tlearn: 22.1610521\ttest: 10.6542070\tbest: 10.6542070 (900)\ttotal: 15.2s\tremaining: 2m 33s\n1000:\tlearn: 21.7482402\ttest: 9.8957888\tbest: 9.8957044 (999)\ttotal: 16.7s\tremaining: 2m 30s\n1100:\tlearn: 21.1168972\ttest: 9.2462369\tbest: 9.2457256 (1099)\ttotal: 18.3s\tremaining: 2m 28s\n1200:\tlearn: 20.7743716\ttest: 8.9768209\tbest: 8.9768098 (1199)\ttotal: 20s\tremaining: 2m 26s\n1300:\tlearn: 20.4857413\ttest: 8.8428693\tbest: 8.8400915 (1296)\ttotal: 21.6s\tremaining: 2m 24s\n1400:\tlearn: 20.1805392\ttest: 8.7385995\tbest: 8.7113828 (1355)\ttotal: 23.2s\tremaining: 2m 22s\n1500:\tlearn: 19.9066630\ttest: 8.6696613\tbest: 8.6595353 (1480)\ttotal: 24.9s\tremaining: 2m 21s\n1600:\tlearn: 19.8000493\ttest: 8.5781736\tbest: 8.5725383 (1599)\ttotal: 26.6s\tremaining: 2m 19s\n1700:\tlearn: 19.6160378\ttest: 8.4296700\tbest: 8.4284876 (1694)\ttotal: 28.3s\tremaining: 2m 17s\n1800:\tlearn: 19.4558172\ttest: 8.3048427\tbest: 8.3048427 (1800)\ttotal: 29.9s\tremaining: 2m 15s\n1900:\tlearn: 19.3593727\ttest: 8.2487376\tbest: 8.2480914 (1899)\ttotal: 31.5s\tremaining: 2m 14s\n2000:\tlearn: 19.2724150\ttest: 8.2439956\tbest: 8.2284017 (1934)\ttotal: 33.2s\tremaining: 2m 12s\n2100:\tlearn: 19.1804763\ttest: 8.2101457\tbest: 8.2098306 (2099)\ttotal: 34.8s\tremaining: 2m 10s\n2200:\tlearn: 19.0951360\ttest: 8.1202468\tbest: 8.1202468 (2200)\ttotal: 36.6s\tremaining: 2m 9s\n2300:\tlearn: 19.0492777\ttest: 8.0794360\tbest: 8.0794360 (2300)\ttotal: 38.3s\tremaining: 2m 8s\n2400:\tlearn: 19.0093563\ttest: 8.0064025\tbest: 8.0062229 (2399)\ttotal: 40s\tremaining: 2m 6s\n2500:\tlearn: 18.9546618\ttest: 7.9565886\tbest: 7.9565886 (2500)\ttotal: 41.8s\tremaining: 2m 5s\n2600:\tlearn: 18.9098538\ttest: 7.9172493\tbest: 7.9054754 (2577)\ttotal: 43.4s\tremaining: 2m 3s\n2700:\tlearn: 18.8712588\ttest: 7.8834025\tbest: 7.8834025 (2700)\ttotal: 45.1s\tremaining: 2m 1s\n2800:\tlearn: 18.8491067\ttest: 7.8882974\tbest: 7.8739162 (2708)\ttotal: 46.9s\tremaining: 2m\n2900:\tlearn: 18.8093581\ttest: 7.8624235\tbest: 7.8597804 (2897)\ttotal: 48.6s\tremaining: 1m 58s\n3000:\tlearn: 18.7591663\ttest: 7.8324335\tbest: 7.8305804 (2924)\ttotal: 50.3s\tremaining: 1m 57s\n3100:\tlearn: 18.7410395\ttest: 7.7961919\tbest: 7.7961919 (3100)\ttotal: 51.9s\tremaining: 1m 55s\n3200:\tlearn: 18.7151825\ttest: 7.7777917\tbest: 7.7724671 (3181)\ttotal: 53.6s\tremaining: 1m 53s\n3300:\tlearn: 18.6727776\ttest: 7.7579896\tbest: 7.7502573 (3285)\ttotal: 55.3s\tremaining: 1m 52s\n3400:\tlearn: 18.6491933\ttest: 7.7742015\tbest: 7.7475917 (3336)\ttotal: 57.1s\tremaining: 1m 50s\n3500:\tlearn: 18.5764773\ttest: 7.7658536\tbest: 7.7475917 (3336)\ttotal: 58.9s\tremaining: 1m 49s\n3600:\tlearn: 18.5440331\ttest: 7.7374574\tbest: 7.7319102 (3596)\ttotal: 1m\tremaining: 1m 47s\n3700:\tlearn: 18.5236619\ttest: 7.7142107\tbest: 7.7142107 (3700)\ttotal: 1m 2s\tremaining: 1m 46s\n3800:\tlearn: 18.5122703\ttest: 7.7066426\tbest: 7.7059834 (3796)\ttotal: 1m 4s\tremaining: 1m 44s\n3900:\tlearn: 18.4800966\ttest: 7.7246834\tbest: 7.7059834 (3796)\ttotal: 1m 6s\tremaining: 1m 43s\n4000:\tlearn: 18.4683113\ttest: 7.6909121\tbest: 7.6909121 (4000)\ttotal: 1m 8s\tremaining: 1m 42s\n4100:\tlearn: 18.4550189\ttest: 7.6715006\tbest: 7.6664780 (4069)\ttotal: 1m 9s\tremaining: 1m 40s\n4200:\tlearn: 18.4399864\ttest: 7.6282572\tbest: 7.6282572 (4200)\ttotal: 1m 11s\tremaining: 1m 39s\n4300:\tlearn: 18.4090944\ttest: 7.5923845\tbest: 7.5893197 (4279)\ttotal: 1m 13s\tremaining: 1m 37s\n4400:\tlearn: 18.3990780\ttest: 7.5707487\tbest: 7.5706483 (4398)\ttotal: 1m 15s\tremaining: 1m 36s\n4500:\tlearn: 18.3863460\ttest: 7.5606277\tbest: 7.5565955 (4472)\ttotal: 1m 17s\tremaining: 1m 34s\n4600:\tlearn: 18.3703616\ttest: 7.5241349\tbest: 7.5224817 (4596)\ttotal: 1m 19s\tremaining: 1m 32s\n4700:\tlearn: 18.3564982\ttest: 7.5055085\tbest: 7.5031454 (4690)\ttotal: 1m 21s\tremaining: 1m 31s\n4800:\tlearn: 18.3513505\ttest: 7.4915865\tbest: 7.4915865 (4800)\ttotal: 1m 22s\tremaining: 1m 29s\n4900:\tlearn: 18.3449820\ttest: 7.4778153\tbest: 7.4774088 (4898)\ttotal: 1m 24s\tremaining: 1m 27s\n5000:\tlearn: 18.3314180\ttest: 7.4678178\tbest: 7.4643132 (4972)\ttotal: 1m 26s\tremaining: 1m 26s\n5100:\tlearn: 18.3229676\ttest: 7.4539515\tbest: 7.4494722 (5093)\ttotal: 1m 28s\tremaining: 1m 24s\n5200:\tlearn: 18.3157858\ttest: 7.4458131\tbest: 7.4422019 (5132)\ttotal: 1m 29s\tremaining: 1m 22s\n5300:\tlearn: 18.3104245\ttest: 7.4553723\tbest: 7.4422019 (5132)\ttotal: 1m 31s\tremaining: 1m 21s\n5400:\tlearn: 18.3042055\ttest: 7.4436866\tbest: 7.4422019 (5132)\ttotal: 1m 33s\tremaining: 1m 19s\n5500:\tlearn: 18.3003458\ttest: 7.4304452\tbest: 7.4301081 (5466)\ttotal: 1m 35s\tremaining: 1m 17s\n5600:\tlearn: 18.2960378\ttest: 7.4181950\tbest: 7.4171552 (5583)\ttotal: 1m 37s\tremaining: 1m 16s\n5700:\tlearn: 18.2924446\ttest: 7.4109933\tbest: 7.4079859 (5665)\ttotal: 1m 38s\tremaining: 1m 14s\n5800:\tlearn: 18.2871651\ttest: 7.4170504\tbest: 7.4079859 (5665)\ttotal: 1m 40s\tremaining: 1m 12s\n5900:\tlearn: 18.2838823\ttest: 7.4420367\tbest: 7.4079859 (5665)\ttotal: 1m 42s\tremaining: 1m 11s\n6000:\tlearn: 18.2747238\ttest: 7.4394892\tbest: 7.4079859 (5665)\ttotal: 1m 44s\tremaining: 1m 9s\n6100:\tlearn: 18.2707409\ttest: 7.4346183\tbest: 7.4079859 (5665)\ttotal: 1m 46s\tremaining: 1m 7s\n6200:\tlearn: 18.2660623\ttest: 7.4338210\tbest: 7.4079859 (5665)\ttotal: 1m 47s\tremaining: 1m 6s\n6300:\tlearn: 18.2603863\ttest: 7.4227517\tbest: 7.4079859 (5665)\ttotal: 1m 49s\tremaining: 1m 4s\n6400:\tlearn: 18.2552398\ttest: 7.4178731\tbest: 7.4079859 (5665)\ttotal: 1m 51s\tremaining: 1m 2s\n6500:\tlearn: 18.2492206\ttest: 7.4014475\tbest: 7.4014475 (6500)\ttotal: 1m 53s\tremaining: 1m 1s\n6600:\tlearn: 18.2467678\ttest: 7.4060479\tbest: 7.4014475 (6500)\ttotal: 1m 55s\tremaining: 59.4s\n6700:\tlearn: 18.2444893\ttest: 7.4036984\tbest: 7.4014475 (6500)\ttotal: 1m 57s\tremaining: 57.7s\n6800:\tlearn: 18.2427882\ttest: 7.3987747\tbest: 7.3987747 (6800)\ttotal: 1m 59s\tremaining: 56s\n6900:\tlearn: 18.2406191\ttest: 7.3823266\tbest: 7.3823266 (6900)\ttotal: 2m\tremaining: 54.3s\n7000:\tlearn: 18.2364676\ttest: 7.3819920\tbest: 7.3819920 (7000)\ttotal: 2m 2s\tremaining: 52.5s\n7100:\tlearn: 18.2349164\ttest: 7.3759295\tbest: 7.3749822 (7097)\ttotal: 2m 4s\tremaining: 50.8s\n7200:\tlearn: 18.2303543\ttest: 7.3797582\tbest: 7.3747085 (7108)\ttotal: 2m 6s\tremaining: 49s\n7300:\tlearn: 18.2282759\ttest: 7.3919100\tbest: 7.3747085 (7108)\ttotal: 2m 7s\tremaining: 47.3s\n7400:\tlearn: 18.2203622\ttest: 7.3956348\tbest: 7.3747085 (7108)\ttotal: 2m 9s\tremaining: 45.6s\n7500:\tlearn: 18.2162616\ttest: 7.3834467\tbest: 7.3747085 (7108)\ttotal: 2m 11s\tremaining: 43.8s\n7600:\tlearn: 18.2074465\ttest: 7.3871117\tbest: 7.3747085 (7108)\ttotal: 2m 13s\tremaining: 42.1s\n7700:\tlearn: 18.2049388\ttest: 7.3957889\tbest: 7.3747085 (7108)\ttotal: 2m 15s\tremaining: 40.4s\n7800:\tlearn: 18.2007099\ttest: 7.3916928\tbest: 7.3747085 (7108)\ttotal: 2m 17s\tremaining: 38.7s\n7900:\tlearn: 18.1983062\ttest: 7.3888935\tbest: 7.3747085 (7108)\ttotal: 2m 18s\tremaining: 36.9s\n8000:\tlearn: 18.1962189\ttest: 7.3920973\tbest: 7.3747085 (7108)\ttotal: 2m 20s\tremaining: 35.2s\n8100:\tlearn: 18.1939373\ttest: 7.3798961\tbest: 7.3747085 (7108)\ttotal: 2m 22s\tremaining: 33.4s\nbestTest = 7.374708483\nbestIteration = 7108\nShrink model to first 7109 iterations.\ncatboost best score\n{'learn': {'RMSE': 18.193404349550224}, 'validation': {'RMSE': 7.374708483044469}}\n"
    }
   ],
   "source": [
    "# catboost\n",
    "params = {\n",
    "    'iterations': 10000,\n",
    "    'learning_rate': 0.02,\n",
    "    'random_seed': 42,\n",
    "    'use_best_model': True,\n",
    "    'task_type' : 'GPU',\n",
    "    'border_count' : 254,\n",
    "    'depth' : 10,\n",
    "    'early_stopping_rounds' : 1000,\n",
    "    'eval_metric' : 'RMSE' \n",
    "}\n",
    "category_cols = ['종목번호', '그룹번호']\n",
    "#weight = {0:1, 6144:1, 12336:1, 18528:1, 24864:3, 31248:3, 37680:3, 44112:3}\n",
    "model_cat_4, pred_train_cat_4, pred_val_cat_4, pred_test_cat_4=\\\n",
    "    modelCatboost(X_train_cat, y_train_cat, X_val_cat, y_val_cat, X_test_cat, \\\n",
    "                  category_cols, params=params, selected_feature=best_feature, weight=None, targetWeight=3)"
   ]
  },
  {
   "source": [
    "# 6월 매수고객수"
   ],
   "cell_type": "markdown",
   "metadata": {}
  },
  {
   "cell_type": "code",
   "execution_count": 17,
   "metadata": {},
   "outputs": [],
   "source": [
    "pred_train_month = X_train_cat['매수고객수']\n",
    "pred_val_month = X_val_cat['매수고객수']\n",
    "pred_test_month = X_test_cat['매수고객수']"
   ]
  },
  {
   "source": [
    "# stacking"
   ],
   "cell_type": "markdown",
   "metadata": {}
  },
  {
   "cell_type": "code",
   "execution_count": 8,
   "metadata": {
    "tags": []
   },
   "outputs": [
    {
     "output_type": "stream",
     "name": "stdout",
     "text": "6.430457686541004\n"
    }
   ],
   "source": [
    "from sklearn.linear_model import LinearRegression\n",
    "\n",
    "stacking_df = pd.DataFrame(pred_train_month)\n",
    "stacking_df['cat2'] = pred_train_cat_4\n",
    "\n",
    "\n",
    "stacking_df_val = pd.DataFrame(pred_val_month)\n",
    "stacking_df_val['cat2'] = pred_val_cat_4\n",
    "\n",
    "\n",
    "stacking_df_test = pd.DataFrame(pred_test_month)\n",
    "stacking_df_test['cat2'] = pred_test_cat_4\n",
    "\n",
    "\n",
    "stackModel = LinearRegression()\n",
    "stackModel.fit(stacking_df, y_train_cat)\n",
    "stack_pred = stackModel.predict(stacking_df_val)\n",
    "print(np.sqrt(mean_squared_error(y_val_cat, stack_pred)))\n"
   ]
  },
  {
   "cell_type": "code",
   "execution_count": 9,
   "metadata": {},
   "outputs": [
    {
     "output_type": "execute_result",
     "data": {
      "text/plain": "          매수고객수      cat2\n매수고객수  1.000000  0.960886\ncat2   0.960886  1.000000",
      "text/html": "<div>\n<style scoped>\n    .dataframe tbody tr th:only-of-type {\n        vertical-align: middle;\n    }\n\n    .dataframe tbody tr th {\n        vertical-align: top;\n    }\n\n    .dataframe thead th {\n        text-align: right;\n    }\n</style>\n<table border=\"1\" class=\"dataframe\">\n  <thead>\n    <tr style=\"text-align: right;\">\n      <th></th>\n      <th>매수고객수</th>\n      <th>cat2</th>\n    </tr>\n  </thead>\n  <tbody>\n    <tr>\n      <th>매수고객수</th>\n      <td>1.000000</td>\n      <td>0.960886</td>\n    </tr>\n    <tr>\n      <th>cat2</th>\n      <td>0.960886</td>\n      <td>1.000000</td>\n    </tr>\n  </tbody>\n</table>\n</div>"
     },
     "metadata": {},
     "execution_count": 9
    }
   ],
   "source": [
    "stacking_df_val.corr()"
   ]
  },
  {
   "cell_type": "code",
   "execution_count": 11,
   "metadata": {},
   "outputs": [],
   "source": [
    "finalStack_X = pd.concat([stacking_df, stacking_df_val])\n",
    "finalStack_y = pd.concat([y_train_cat, y_val_cat])\n",
    "\n",
    "stackModel = LinearRegression()\n",
    "stackModel.fit(stacking_df_val, y_val_cat)\n",
    "stack_pred = stackModel.predict(stacking_df_test)"
   ]
  },
  {
   "cell_type": "code",
   "execution_count": 12,
   "metadata": {},
   "outputs": [
    {
     "output_type": "execute_result",
     "data": {
      "text/plain": "array([1.05638472, 0.19672514])"
     },
     "metadata": {},
     "execution_count": 12
    }
   ],
   "source": [
    "stackModel.coef_"
   ]
  },
  {
   "cell_type": "code",
   "execution_count": 13,
   "metadata": {},
   "outputs": [],
   "source": [
    "cat_answer = makeSub(X_test_cat, stack_pred)\n",
    "cat_answer.to_csv('1003_stacking_cat.csv', index=False)\n"
   ]
  },
  {
   "cell_type": "code",
   "execution_count": 16,
   "metadata": {},
   "outputs": [
    {
     "output_type": "execute_result",
     "data": {
      "text/plain": "      그룹명    종목번호1    종목번호2    종목번호3\n43  MAD44  A005930  A005935  A105560\n44  MAD45  A005930  A035420  A035720\n45  MAD46  A005930  A035720  A105560\n46  MAD47  A005930  A005935  A017670\n47  MAD48  A005930  A035420  A051910",
      "text/html": "<div>\n<style scoped>\n    .dataframe tbody tr th:only-of-type {\n        vertical-align: middle;\n    }\n\n    .dataframe tbody tr th {\n        vertical-align: top;\n    }\n\n    .dataframe thead th {\n        text-align: right;\n    }\n</style>\n<table border=\"1\" class=\"dataframe\">\n  <thead>\n    <tr style=\"text-align: right;\">\n      <th></th>\n      <th>그룹명</th>\n      <th>종목번호1</th>\n      <th>종목번호2</th>\n      <th>종목번호3</th>\n    </tr>\n  </thead>\n  <tbody>\n    <tr>\n      <th>43</th>\n      <td>MAD44</td>\n      <td>A005930</td>\n      <td>A005935</td>\n      <td>A105560</td>\n    </tr>\n    <tr>\n      <th>44</th>\n      <td>MAD45</td>\n      <td>A005930</td>\n      <td>A035420</td>\n      <td>A035720</td>\n    </tr>\n    <tr>\n      <th>45</th>\n      <td>MAD46</td>\n      <td>A005930</td>\n      <td>A035720</td>\n      <td>A105560</td>\n    </tr>\n    <tr>\n      <th>46</th>\n      <td>MAD47</td>\n      <td>A005930</td>\n      <td>A005935</td>\n      <td>A017670</td>\n    </tr>\n    <tr>\n      <th>47</th>\n      <td>MAD48</td>\n      <td>A005930</td>\n      <td>A035420</td>\n      <td>A051910</td>\n    </tr>\n  </tbody>\n</table>\n</div>"
     },
     "metadata": {},
     "execution_count": 16
    }
   ],
   "source": [
    "cat_answer.tail()"
   ]
  }
 ]
}