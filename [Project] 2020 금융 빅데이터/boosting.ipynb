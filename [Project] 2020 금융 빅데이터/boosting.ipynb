{
 "cells": [
  {
   "cell_type": "code",
   "execution_count": 20,
   "metadata": {
    "ExecuteTime": {
     "end_time": "2020-09-12T15:36:48.381183Z",
     "start_time": "2020-09-12T15:36:47.928148Z"
    }
   },
   "outputs": [],
   "source": [
    "import pandas as pd\n",
    "import numpy as np\n",
    "import matplotlib.pyplot as plt\n",
    "import seaborn as sns\n",
    "\n",
    "trade = pd.read_csv('trade_train.csv', index_col=0)\n",
    "stock = pd.read_csv('stocks.csv', index_col=0)\n",
    "answer = pd.read_csv('answer_sheet.csv')"
   ]
  },
  {
   "cell_type": "code",
   "execution_count": 23,
   "metadata": {
    "ExecuteTime": {
     "end_time": "2020-09-12T15:37:49.434696Z",
     "start_time": "2020-09-12T15:37:48.880170Z"
    }
   },
   "outputs": [],
   "source": [
    "import lightgbm as lgb\n",
    "from catboost import CatBoostRegressor, Pool\n",
    "from sklearn.linear_model import Ridge, Lasso\n",
    "from sklearn.ensemble import RandomForestRegressor\n",
    "from sklearn.metrics import mean_squared_error"
   ]
  },
  {
   "cell_type": "code",
   "execution_count": 141,
   "metadata": {
    "ExecuteTime": {
     "end_time": "2020-09-12T17:03:00.922779Z",
     "start_time": "2020-09-12T17:03:00.793218Z"
    }
   },
   "outputs": [],
   "source": [
    "seq2seq_df = pd.read_csv('seq2seq_df.csv')"
   ]
  },
  {
   "cell_type": "markdown",
   "metadata": {},
   "source": [
    "# make dataset"
   ]
  },
  {
   "cell_type": "code",
   "execution_count": 49,
   "metadata": {
    "ExecuteTime": {
     "end_time": "2020-09-12T16:05:01.804446Z",
     "start_time": "2020-09-12T16:05:01.783961Z"
    }
   },
   "outputs": [],
   "source": [
    "def makeDataset(before_df, use_cut=False, cut_quantile=0.99, rolling_range=[2,3], diff_range=[1,2]):\n",
    "    df = before_df.copy()\n",
    "    df = df.sort_values(by=['기준년월','종목번호','그룹번호']).reset_index(drop=True)\n",
    "    \n",
    "    # cut\n",
    "    if use_cut:\n",
    "        cut1 = df['매수고객수'].quantile(cutQuantile)\n",
    "        cut2 = df['매도고객수'].quantile(cutQuantile)\n",
    "\n",
    "        df.loc[df['매수고객수'] > cut1] = cut1\n",
    "        df.loc[df['매도고객수'] > cut2] = cut2\n",
    "\n",
    "    # rolling\n",
    "    rolling_cols = ['매도고객수', '매수고객수']\n",
    "    for rolling_col in rolling_cols:\n",
    "        for i in rolling_range:\n",
    "            df[str(rolling_col)+'rolling_mean'+str(i)] = \\\n",
    "                df.groupby(['그룹번호','종목번호'])[rolling_col].transform(lambda x : x.rolling(i).mean())\n",
    "        for i in rolling_range:\n",
    "            df[str(rolling_col)+'rolling_std'+str(i)] = \\\n",
    "                df.groupby(['그룹번호','종목번호'])[rolling_col].transform(lambda x : x.rolling(i).std())\n",
    "        for i in rolling_range:\n",
    "            df[str(rolling_col)+'rolling_max'+str(i)] = \\\n",
    "                df.groupby(['그룹번호','종목번호'])[rolling_col].transform(lambda x : x.rolling(i).max())\n",
    "        for i in rolling_range:\n",
    "            df[str(rolling_col)+'rolling_min'+str(i)] = \\\n",
    "                df.groupby(['그룹번호','종목번호'])[rolling_col].transform(lambda x : x.rolling(i).min())\n",
    "\n",
    "    # diff\n",
    "    diff_cols = ['매도고객수', '매수고객수']\n",
    "    for diff_col in diff_cols:\n",
    "        for i in rolling_range:\n",
    "            df[str(diff_col)+'diff1'] = df.groupby(['그룹번호','종목번호'])[diff_col].diff(i)\n",
    "            df[str(diff_col)+'diff2'] = df.groupby(['그룹번호','종목번호'])[diff_col].diff(i)\n",
    "\n",
    "    df = df.dropna(axis=0).reset_index(drop=True)\n",
    "\n",
    "    # target\n",
    "    df['target'] = df.groupby(['종목번호','그룹번호'])['매수고객수'].shift(-1)\n",
    "\n",
    "    df_cols = df.columns\n",
    "    for cols in df_cols:\n",
    "        if df[cols].dtypes == np.float64:\n",
    "            df[cols] = round(df[cols], 2)\n",
    "    \n",
    "    print(f'cut use : {use_cut}, quantile : {cut_quantile}, rolling range: {rolling_range}, diff range : {diff_range}')         \n",
    "    return df"
   ]
  },
  {
   "cell_type": "markdown",
   "metadata": {},
   "source": [
    "# CV"
   ]
  },
  {
   "cell_type": "code",
   "execution_count": 84,
   "metadata": {
    "ExecuteTime": {
     "end_time": "2020-09-12T16:25:47.633106Z",
     "start_time": "2020-09-12T16:25:47.615136Z"
    }
   },
   "outputs": [],
   "source": [
    "def makeCV(df, train_ = [201910, 201911, 201912, 202001, 202002, 202003, 202004], val_ = 202005, test_ = 202006, use_catboost=False):\n",
    "    \n",
    "    y_train = df.loc[df['기준년월'].isin(train_), 'target'].reset_index(drop=True)\n",
    "    y_val = df.loc[df['기준년월']==val_, 'target'].reset_index(drop=True)\n",
    "    \n",
    "    X_train = df.loc[df['기준년월'].isin(train_)].reset_index(drop=True)\n",
    "    X_val = df.loc[df['기준년월']==val_].reset_index(drop=True)\n",
    "    X_test = df.loc[df['기준년월']==test_].reset_index(drop=True)\n",
    "    \n",
    "    X_train = X_train.iloc[:, :-2]\n",
    "    X_val = X_val.iloc[:, :-2]\n",
    "    X_test = X_test.iloc[:, :-2]\n",
    "    \n",
    "    X_train['year'] = X_train['기준년월'].map(str).map(lambda x : x[:4])\n",
    "    X_val['year'] = X_val['기준년월'].map(str).map(lambda x : x[:4])\n",
    "    X_test['year'] = X_test['기준년월'].map(str).map(lambda x : x[:4])\n",
    "    X_train['year'] = X_train['year'].map({'2019' : 0, '2020' : 1})\n",
    "    X_val['year'] = X_val['year'].map({'2019' : 0, '2020' : 1})\n",
    "    X_test['year'] = X_test['year'].map({'2019' : 0, '2020' : 1})\n",
    "\n",
    "    weight_idx = []\n",
    "    for i in train_:\n",
    "        idx = X_train.loc[X_train['기준년월']==i].index[0]\n",
    "        weight_idx.append(idx)\n",
    "    print(f'weight_idx : {weight_idx}')\n",
    "        \n",
    "    X_train.drop('기준년월', axis=1 , inplace=True)\n",
    "    X_val.drop('기준년월', axis=1 , inplace=True)\n",
    "    X_test.drop('기준년월', axis=1 ,inplace=True)\n",
    "    \n",
    "    if use_catboost:\n",
    "        X_train_cat, y_train_cat = X_train.copy(), y_train.copy()\n",
    "        X_val_cat, y_val_cat = X_val.copy(), y_val.copy()\n",
    "        X_test_cat = X_test.copy()\n",
    "        return X_train_cat, y_train_cat, X_val_cat, y_val_cat, X_test_cat\n",
    "    \n",
    "    return X_train, y_train, X_val, y_val, X_test"
   ]
  },
  {
   "cell_type": "markdown",
   "metadata": {},
   "source": [
    "# Encoding\n",
    "- 종목번호, 그룹번호\n",
    "- 나중에 cat2vec 하면 여기에 이용해보기"
   ]
  },
  {
   "cell_type": "code",
   "execution_count": 71,
   "metadata": {
    "ExecuteTime": {
     "end_time": "2020-09-12T16:18:00.425139Z",
     "start_time": "2020-09-12T16:18:00.414180Z"
    }
   },
   "outputs": [],
   "source": [
    "def encoding(X_train, X_val, X_test, category_cols = ['종목번호', '시장구분', '표준산업구분코드_대분류','그룹번호']):\n",
    "    idx = X_train.loc[X_train['year']==1, category_cols].shape[0]\n",
    "    import category_encoders as ce\n",
    "    encoder = ce.TargetEncoder()\n",
    "    encoder.fit(X_train.loc[X_train['year']==1, category_cols], y_train[-idx:])\n",
    "\n",
    "    X_train[category_cols] = encoder.transform(X_train[category_cols])\n",
    "    X_val[category_cols] = encoder.transform(X_val[category_cols])\n",
    "    X_test[category_cols] = encoder.transform(X_test[category_cols])\n",
    "    \n",
    "    return X_train, X_val, X_test"
   ]
  },
  {
   "cell_type": "markdown",
   "metadata": {},
   "source": [
    "# submission"
   ]
  },
  {
   "cell_type": "code",
   "execution_count": 52,
   "metadata": {
    "ExecuteTime": {
     "end_time": "2020-09-12T16:05:06.341870Z",
     "start_time": "2020-09-12T16:05:06.335872Z"
    }
   },
   "outputs": [],
   "source": [
    "def make_sub(X_test_cat, prediction):\n",
    "    answer = pd.read_csv('answer_sheet.csv')\n",
    "    result_cols = ['종목번호','그룹번호']\n",
    "    sub = X_test_cat[result_cols]\n",
    "    sub['pred'] = prediction\n",
    "    sub = sub.sort_values(by=['그룹번호','pred'], ascending=[True, False])\n",
    "    group_num = sub['그룹번호'].unique()\n",
    "    for num in group_num:\n",
    "        val = sub.loc[sub['그룹번호']==num][:3]['종목번호'].sort_values().values\n",
    "        answer.loc[answer['그룹명']==num,'종목번호1':] = val\n",
    "    return answer"
   ]
  },
  {
   "cell_type": "markdown",
   "metadata": {},
   "source": [
    "# catboost"
   ]
  },
  {
   "cell_type": "code",
   "execution_count": 116,
   "metadata": {
    "ExecuteTime": {
     "end_time": "2020-09-12T16:51:03.392135Z",
     "start_time": "2020-09-12T16:51:03.370160Z"
    }
   },
   "outputs": [],
   "source": [
    "def modelCatboost(X_train_cat, y_train_cat ,X_val_cat, y_val_cat, X_test_cat, category_cols, weight=None, params=None, selected_feature=None):\n",
    "    \n",
    "    if selected_feature:\n",
    "        X_train_cat, X_val_cat, X_test_cat = \\\n",
    "        X_train_cat[selected_feature], X_val_cat[selected_feature], X_test_cat[selected_feature]\n",
    "\n",
    "    sample_weight = np.zeros(X_train.shape[0])    \n",
    "    for idx in weight:    \n",
    "        sample_weight[idx:] = weight[idx]\n",
    "    \n",
    "    if not params:\n",
    "        params = {\n",
    "            'iterations': 5000,\n",
    "            'learning_rate': 0.05,\n",
    "            'random_seed': 42,\n",
    "            'use_best_model': True,\n",
    "            'task_type' : 'GPU',\n",
    "            'early_stopping_rounds' : 500,\n",
    "            'eval_metric' : 'RMSE'\n",
    "        }\n",
    "\n",
    "    train_pool = Pool(X_train_cat, \n",
    "                      y_train_cat, \n",
    "                      cat_features=category_cols, \n",
    "                      weight=sample_weight)\n",
    "    validate_pool = Pool(X_val_cat, \n",
    "                         y_val_cat, \n",
    "                         cat_features=category_cols)\n",
    "\n",
    "    model = CatBoostRegressor(**params)\n",
    "    model.fit(train_pool, eval_set=validate_pool, verbose=100)\n",
    "    \n",
    "    pred_train = model.predict(X_train_cat)\n",
    "    pred_val = model.predict(X_val_cat)\n",
    "    pred_test = model.predict(X_test_cat)\n",
    "    \n",
    "    # model score\n",
    "    print('catboost best score')\n",
    "    print(model.best_score_)\n",
    "    \n",
    "    # model feature importance\n",
    "    print('catboost feature importance')\n",
    "    feature_importances = model.get_feature_importance(train_pool)\n",
    "    feature_names = X_train.columns\n",
    "    for score, name in sorted(zip(feature_importances, feature_names), reverse=True):\n",
    "        print('{}: {}'.format(name, score))\n",
    "        \n",
    "    return model, pred_train, pred_val, pred_test"
   ]
  },
  {
   "cell_type": "markdown",
   "metadata": {},
   "source": [
    "# lgb"
   ]
  },
  {
   "cell_type": "code",
   "execution_count": 107,
   "metadata": {
    "ExecuteTime": {
     "end_time": "2020-09-12T16:42:39.014476Z",
     "start_time": "2020-09-12T16:42:39.000961Z"
    }
   },
   "outputs": [],
   "source": [
    "def modelLightgbm(X_train, y_train ,X_val, y_val, X_test, category_cols, weight=None, params=None, selected_feature=None):\n",
    "    \n",
    "    if selected_feature:\n",
    "        X_train, X_val, X_test = \\\n",
    "        X_train[selected_feature], X_val[selected_feature], X_test[selected_feature]\n",
    "        \n",
    "    sample_weight = np.zeros(X_train.shape[0])    \n",
    "    for idx in weight:    \n",
    "        sample_weight[idx:] = weight[idx]\n",
    "    \n",
    "    if not params:\n",
    "        params = {'objective': 'regression',\n",
    "                     'metric': 'rmse',\n",
    "                     'boosting_type': 'gbdt',\n",
    "                     'learning_rate': 0.005,\n",
    "                     'seed': 42,\n",
    "                     'num_iterations' : 5000,\n",
    "                     'early_stopping_rounds' : 1000\n",
    "                    }\n",
    "\n",
    "    trn_data = lgb.Dataset(X_train,\n",
    "                           label=y_train,\n",
    "                           categorical_feature=category_cols, \n",
    "                           weight=sample_weight)\n",
    "    val_data = lgb.Dataset(X_val,\n",
    "                           label=y_val,\n",
    "                           categorical_feature=category_cols)\n",
    "\n",
    "    model = lgb.train(params,\n",
    "                    trn_data,\n",
    "                    valid_sets=[trn_data, val_data],\n",
    "                    verbose_eval=100)\n",
    "    \n",
    "    pred_train = model.predict(X_train)\n",
    "    pred_val = model.predict(X_val)\n",
    "    pred_test = model.predict(X_test)\n",
    "    \n",
    "    # model feature importance\n",
    "    print('lightgbm feature importance')\n",
    "    feature_importances = model.feature_importance()\n",
    "    feature_names = model.feature_name()\n",
    "    for score, name in sorted(zip(feature_importances, feature_names), reverse=True):\n",
    "        print('{}: {}'.format(name, score))\n",
    "        \n",
    "    return model, pred_train, pred_val, pred_test"
   ]
  },
  {
   "cell_type": "markdown",
   "metadata": {},
   "source": [
    "# Ridge, Lasso"
   ]
  },
  {
   "cell_type": "code",
   "execution_count": 19,
   "metadata": {
    "ExecuteTime": {
     "end_time": "2020-09-12T15:29:41.812145Z",
     "start_time": "2020-09-12T15:29:41.795147Z"
    }
   },
   "outputs": [],
   "source": [
    "def linear(X_train, y_train, X_val, y_val, X_test, use_ridge=False, use_lasso=False, max_iter=1000):\n",
    "    \n",
    "    if use_ridge:\n",
    "        ridge = Ridge(max_iter=max_iter)\n",
    "        ridge.fit(X_train, y_train)\n",
    "        \n",
    "        pred_train = ridge.predict(X_train)\n",
    "        pred_val = ridge.predict(X_val)\n",
    "        pred_test = ridge.predict(X_test)\n",
    "        \n",
    "        print(f'ridge train rmse : {np.sqrt(mean_squared_error(y_train, pred_train))}')\n",
    "        print(f'ridge validation rmse : {np.sqrt(mean_squared_error(y_val, pred_val))}')\n",
    "        \n",
    "        return model, pred_train, pred_val, pred_test\n",
    "\n",
    "    if use_lasso:\n",
    "        lasso = Lasso(max_iter=max_iter)\n",
    "        lasso.fit(X_train, y_train)\n",
    "        \n",
    "        pred_train = lasso.predict(X_train)\n",
    "        pred_val = lasso.predict(X_val)\n",
    "        pred_test = lasso.predict(X_test)\n",
    "        \n",
    "        print(f'lasso train rmse : {np.sqrt(mean_squared_error(y_train, pred_train))}')\n",
    "        print(f'lasso validation rmse : {np.sqrt(mean_squared_error(y_val, pred_val))}')\n",
    "        \n",
    "        return model, pred_train, pred_val, pred_test"
   ]
  },
  {
   "cell_type": "markdown",
   "metadata": {},
   "source": [
    "# Rf"
   ]
  },
  {
   "cell_type": "code",
   "execution_count": 102,
   "metadata": {
    "ExecuteTime": {
     "end_time": "2020-09-06T11:49:38.836183Z",
     "start_time": "2020-09-06T11:48:35.733405Z"
    }
   },
   "outputs": [],
   "source": [
    "rf = RandomForestRegressor(n_estimators=2000, n_jobs=-1, random_state=42)\n",
    "rf.fit(X_train, y_train)\n",
    "rf_val_pred = rf.predict(X_val)"
   ]
  },
  {
   "cell_type": "code",
   "execution_count": 103,
   "metadata": {
    "ExecuteTime": {
     "end_time": "2020-09-06T11:49:38.851697Z",
     "start_time": "2020-09-06T11:49:38.840185Z"
    }
   },
   "outputs": [
    {
     "name": "stdout",
     "output_type": "stream",
     "text": [
      "random forest validation rmse : 7.195825827483215\n"
     ]
    }
   ],
   "source": [
    "print(f'random forest validation rmse : {np.sqrt(mean_squared_error(y_val, rf_val_pred))}')"
   ]
  },
  {
   "cell_type": "markdown",
   "metadata": {},
   "source": [
    "# Ensemble"
   ]
  },
  {
   "cell_type": "code",
   "execution_count": 109,
   "metadata": {
    "ExecuteTime": {
     "end_time": "2020-09-06T11:51:45.640876Z",
     "start_time": "2020-09-06T11:51:44.311373Z"
    },
    "scrolled": true
   },
   "outputs": [],
   "source": [
    "cat_pred = model.predict(X_test_cat)\n",
    "lgb_pred = clf.predict(X_test)\n",
    "ridge_pred = ridge.predict(X_test)\n",
    "lasso_pred = lasso.predict(X_test)\n",
    "rf_pred = rf.predict(X_test)"
   ]
  },
  {
   "cell_type": "code",
   "execution_count": 113,
   "metadata": {
    "ExecuteTime": {
     "end_time": "2020-09-06T11:54:36.845080Z",
     "start_time": "2020-09-06T11:54:36.823472Z"
    }
   },
   "outputs": [],
   "source": [
    "import warnings\n",
    "warnings.filterwarnings(action='ignore')\n",
    "\n",
    "ave_cols = ['종목번호', '그룹번호']\n",
    "ave_df = X_test_cat[ave_cols]\n",
    "ave_df['cat'] = cat_pred\n",
    "ave_df['lgb'] = lgb_pred\n",
    "ave_df['ridge'] = ridge_pred\n",
    "ave_df['lasso'] = lasso_pred\n",
    "ave_df['rf'] = rf_pred"
   ]
  },
  {
   "cell_type": "markdown",
   "metadata": {},
   "source": [
    "# cat\n",
    "- smaller"
   ]
  },
  {
   "cell_type": "code",
   "execution_count": 58,
   "metadata": {
    "ExecuteTime": {
     "end_time": "2020-09-12T16:09:16.163743Z",
     "start_time": "2020-09-12T16:09:16.153173Z"
    }
   },
   "outputs": [],
   "source": [
    "df = makeDataset(seq2seq_df, use_cut=False, cut_quantile=0.99, rolling_range=[2,3], diff_range=[1])"
   ]
  },
  {
   "cell_type": "code",
   "execution_count": 147,
   "metadata": {
    "ExecuteTime": {
     "end_time": "2020-09-12T17:08:47.015105Z",
     "start_time": "2020-09-12T17:08:46.928945Z"
    }
   },
   "outputs": [
    {
     "name": "stdout",
     "output_type": "stream",
     "text": [
      "weight_idx : [0, 6192, 12384, 18720, 25104, 31536, 37968]\n"
     ]
    }
   ],
   "source": [
    "X_train_cat, y_train_cat, X_val_cat, y_val_cat, X_test_cat = \\\n",
    "    makeCV(df, train_ = [201910, 201911, 201912, 202001, 202002, 202003, 202004], val_ = 202005, test_ = 202006, use_catboost=True)"
   ]
  },
  {
   "cell_type": "code",
   "execution_count": 150,
   "metadata": {
    "ExecuteTime": {
     "end_time": "2020-09-12T17:14:26.891635Z",
     "start_time": "2020-09-12T17:13:27.295163Z"
    },
    "scrolled": true
   },
   "outputs": [
    {
     "name": "stdout",
     "output_type": "stream",
     "text": [
      "0:\tlearn: 13.0370648\ttest: 20.4117509\tbest: 20.4117509 (0)\ttotal: 34.1ms\tremaining: 2m 50s\n",
      "100:\tlearn: 9.7544461\ttest: 15.7890480\tbest: 15.7890480 (100)\ttotal: 2.2s\tremaining: 1m 46s\n",
      "200:\tlearn: 8.3769739\ttest: 14.1968691\tbest: 14.1941071 (199)\ttotal: 4.39s\tremaining: 1m 44s\n",
      "300:\tlearn: 7.3204293\ttest: 12.3297154\tbest: 12.3267530 (290)\ttotal: 6.9s\tremaining: 1m 47s\n",
      "400:\tlearn: 6.5200231\ttest: 11.3890727\tbest: 11.3890727 (400)\ttotal: 9.44s\tremaining: 1m 48s\n",
      "500:\tlearn: 6.1165350\ttest: 10.8075134\tbest: 10.8016425 (496)\ttotal: 11.8s\tremaining: 1m 46s\n",
      "600:\tlearn: 5.6761064\ttest: 9.9206066\tbest: 9.9205899 (598)\ttotal: 14.4s\tremaining: 1m 45s\n",
      "700:\tlearn: 5.3059512\ttest: 9.3528984\tbest: 9.3467027 (698)\ttotal: 17s\tremaining: 1m 44s\n",
      "800:\tlearn: 5.2144634\ttest: 9.2900421\tbest: 9.2763927 (784)\ttotal: 19.4s\tremaining: 1m 41s\n",
      "900:\tlearn: 5.0907373\ttest: 9.1639777\tbest: 9.1623334 (897)\ttotal: 22.1s\tremaining: 1m 40s\n",
      "1000:\tlearn: 4.9793504\ttest: 8.9985207\tbest: 8.9848443 (983)\ttotal: 24.5s\tremaining: 1m 37s\n",
      "1100:\tlearn: 4.9106159\ttest: 8.9580729\tbest: 8.9576151 (1098)\ttotal: 26.9s\tremaining: 1m 35s\n",
      "1200:\tlearn: 4.8651090\ttest: 8.9495945\tbest: 8.9425762 (1180)\ttotal: 29.4s\tremaining: 1m 32s\n",
      "1300:\tlearn: 4.7806301\ttest: 8.8040519\tbest: 8.7911587 (1278)\ttotal: 31.9s\tremaining: 1m 30s\n",
      "1400:\tlearn: 4.7375376\ttest: 8.7843846\tbest: 8.7708571 (1383)\ttotal: 34.6s\tremaining: 1m 28s\n",
      "1500:\tlearn: 4.7029169\ttest: 8.7406992\tbest: 8.7318742 (1491)\ttotal: 37s\tremaining: 1m 26s\n",
      "1600:\tlearn: 4.6597020\ttest: 8.7187706\tbest: 8.7181746 (1598)\ttotal: 39.4s\tremaining: 1m 23s\n",
      "1700:\tlearn: 4.6246825\ttest: 8.7473082\tbest: 8.7171338 (1607)\ttotal: 41.9s\tremaining: 1m 21s\n",
      "1800:\tlearn: 4.5805101\ttest: 8.7852073\tbest: 8.7156018 (1755)\ttotal: 44.5s\tremaining: 1m 19s\n",
      "1900:\tlearn: 4.5313778\ttest: 8.7515946\tbest: 8.7156018 (1755)\ttotal: 47.1s\tremaining: 1m 16s\n",
      "2000:\tlearn: 4.4840482\ttest: 8.8106595\tbest: 8.7156018 (1755)\ttotal: 49.6s\tremaining: 1m 14s\n",
      "2100:\tlearn: 4.4682900\ttest: 8.8458201\tbest: 8.7156018 (1755)\ttotal: 52.3s\tremaining: 1m 12s\n",
      "2200:\tlearn: 4.4245365\ttest: 8.8522730\tbest: 8.7156018 (1755)\ttotal: 54.9s\tremaining: 1m 9s\n",
      "bestTest = 8.715601807\n",
      "bestIteration = 1755\n",
      "Shrink model to first 1756 iterations.\n",
      "catboost best score\n",
      "{'learn': {'RMSE': 4.409643510307139}, 'validation': {'RMSE': 8.71560180728698}}\n",
      "catboost feature importance\n",
      "종목번호: 17.024777926796737\n",
      "매도고객수rolling_mean2: 12.541299044334169\n",
      "매수고객수: 10.340922865658902\n",
      "매수고객수diff1: 10.104870038957923\n",
      "그룹번호: 9.290262050768678\n",
      "매수고객수rolling_mean2: 7.8750140595768805\n",
      "매수고객수rolling_max2: 7.787465733024753\n",
      "매수고객수rolling_std2: 4.4758520237056905\n",
      "표준산업구분코드_대분류: 3.5594665140713335\n",
      "매수고객수rolling_min2: 2.435731876501506\n",
      "매도고객수: 2.3583923936477027\n",
      "매도고객수rolling_min2: 2.356081772702158\n",
      "매도고객수diff1: 2.0221687266461212\n",
      "min: 1.8533520331391675\n",
      "거래량2: 1.0519151795430142\n",
      "mean: 0.9919093840709186\n",
      "시장구분: 0.7086975132148441\n",
      "그룹내고객수: 0.5993543252689242\n",
      "매도고객수rolling_max2: 0.4680847650136241\n",
      "거래량4: 0.46258615867280545\n",
      "std: 0.3285546324364513\n",
      "거래량1: 0.31122765900715127\n",
      "매도고객수rolling_std2: 0.3045391902760469\n",
      "year: 0.19443023455747266\n",
      "거래금액_만원단위: 0.17583440178089949\n",
      "max: 0.16639931688338036\n",
      "거래량3: 0.15978820902353685\n",
      "매도고객수diff2: 0.05102197071951941\n"
     ]
    }
   ],
   "source": [
    "category_cols = ['종목번호', '시장구분', '표준산업구분코드_대분류','그룹번호']\n",
    "weight = {0:1, 6144:1, 12336:1, 18528:2, 24864:2, 31248:3, 37680:3}\n",
    "selected_feature = ['종목번호',  '시장구분', '표준산업구분코드_대분류', '그룹번호', '그룹내고객수',\n",
    "       '매수고객수', '매도고객수', '매도고객수rolling_mean2', '매도고객수rolling_mean3',\n",
    "       '매도고객수rolling_std2', '매도고객수rolling_std3', \n",
    "       '매수고객수rolling_mean2', '매수고객수rolling_mean3', '매수고객수rolling_std2',\n",
    "       '매수고객수rolling_std3',  '매도고객수diff1', '매수고객수diff1']\n",
    "model, pred_train, pred_val, pred_test=\\\n",
    "    modelCatboost(X_train_cat, y_train_cat, X_val_cat, y_val_cat, X_test_cat , category_cols, weight=weight, params=None, selected_feature=None)"
   ]
  },
  {
   "cell_type": "code",
   "execution_count": 151,
   "metadata": {
    "ExecuteTime": {
     "end_time": "2020-09-12T17:14:27.035635Z",
     "start_time": "2020-09-12T17:14:26.892608Z"
    }
   },
   "outputs": [
    {
     "name": "stderr",
     "output_type": "stream",
     "text": [
      "<ipython-input-52-0627c326c8e5>:5: SettingWithCopyWarning: \n",
      "A value is trying to be set on a copy of a slice from a DataFrame.\n",
      "Try using .loc[row_indexer,col_indexer] = value instead\n",
      "\n",
      "See the caveats in the documentation: https://pandas.pydata.org/pandas-docs/stable/user_guide/indexing.html#returning-a-view-versus-a-copy\n",
      "  sub['pred'] = prediction\n"
     ]
    }
   ],
   "source": [
    "cat_answer = make_sub(X_test_cat, pred_test)\n",
    "cat_answer.to_csv('0913_cat_5_Fs_rolling23_diff1_lowerWeight.csv', index=False)"
   ]
  },
  {
   "cell_type": "code",
   "execution_count": 142,
   "metadata": {
    "ExecuteTime": {
     "end_time": "2020-09-12T17:07:34.764922Z",
     "start_time": "2020-09-12T17:07:07.865243Z"
    }
   },
   "outputs": [
    {
     "name": "stdout",
     "output_type": "stream",
     "text": [
      "cut use : False, quantile : 0.99, rolling range: [2], diff range : [1]\n"
     ]
    }
   ],
   "source": [
    "df = makeDataset(seq2seq_df, use_cut=False, cut_quantile=0.99, rolling_range=[2], diff_range=[1])"
   ]
  },
  {
   "cell_type": "code",
   "execution_count": 143,
   "metadata": {
    "ExecuteTime": {
     "end_time": "2020-09-12T17:07:39.507134Z",
     "start_time": "2020-09-12T17:07:39.415166Z"
    }
   },
   "outputs": [
    {
     "name": "stdout",
     "output_type": "stream",
     "text": [
      "weight_idx : [0, 6192, 12384, 18720, 25104, 31536, 37968]\n"
     ]
    }
   ],
   "source": [
    "X_train, y_train, X_val, y_val, X_test = \\\n",
    "    makeCV(df, train_ = [201910,201911, 201912, 202001, 202002, 202003, 202004], val_ = 202005, test_ = 202006, use_catboost=False)"
   ]
  },
  {
   "cell_type": "code",
   "execution_count": 144,
   "metadata": {
    "ExecuteTime": {
     "end_time": "2020-09-12T17:07:46.351044Z",
     "start_time": "2020-09-12T17:07:46.222050Z"
    }
   },
   "outputs": [],
   "source": [
    "X_train, X_val, X_test=\\\n",
    "    encoding(X_train, X_val, X_test, category_cols = ['종목번호', '시장구분', '표준산업구분코드_대분류','그룹번호'])"
   ]
  },
  {
   "cell_type": "code",
   "execution_count": 145,
   "metadata": {
    "ExecuteTime": {
     "end_time": "2020-09-12T17:07:57.579937Z",
     "start_time": "2020-09-12T17:07:46.761167Z"
    }
   },
   "outputs": [
    {
     "name": "stderr",
     "output_type": "stream",
     "text": [
      "C:\\Users\\ghktj\\anaconda3\\envs\\pytorch\\lib\\site-packages\\lightgbm\\engine.py:151: UserWarning: Found `num_iterations` in params. Will use it instead of argument\n",
      "  warnings.warn(\"Found `{}` in params. Will use it instead of argument\".format(alias))\n",
      "C:\\Users\\ghktj\\anaconda3\\envs\\pytorch\\lib\\site-packages\\lightgbm\\engine.py:156: UserWarning: Found `early_stopping_rounds` in params. Will use it instead of argument\n",
      "  warnings.warn(\"Found `{}` in params. Will use it instead of argument\".format(alias))\n",
      "C:\\Users\\ghktj\\anaconda3\\envs\\pytorch\\lib\\site-packages\\lightgbm\\basic.py:1551: UserWarning: Using categorical_feature in Dataset.\n",
      "  warnings.warn('Using categorical_feature in Dataset.')\n",
      "C:\\Users\\ghktj\\anaconda3\\envs\\pytorch\\lib\\site-packages\\lightgbm\\basic.py:1286: UserWarning: Overriding the parameters from Reference Dataset.\n",
      "  warnings.warn('Overriding the parameters from Reference Dataset.')\n",
      "C:\\Users\\ghktj\\anaconda3\\envs\\pytorch\\lib\\site-packages\\lightgbm\\basic.py:1098: UserWarning: categorical_column in param dict is overridden.\n",
      "  warnings.warn('{} in param dict is overridden.'.format(cat_alias))\n"
     ]
    },
    {
     "name": "stdout",
     "output_type": "stream",
     "text": [
      "[LightGBM] [Warning] Auto-choosing row-wise multi-threading, the overhead of testing was 0.001406 seconds.\n",
      "You can set `force_row_wise=true` to remove the overhead.\n",
      "And if memory is not enough, you can set `force_col_wise=true`.\n",
      "[LightGBM] [Info] Total Bins 3493\n",
      "[LightGBM] [Info] Number of data points in the train set: 44400, number of used features: 28\n",
      "[LightGBM] [Info] Start training from score 2.137842\n",
      "Training until validation scores don't improve for 1000 rounds\n",
      "[100]\ttraining's rmse: 9.54359\tvalid_1's rmse: 14.9162\n",
      "[200]\ttraining's rmse: 6.94481\tvalid_1's rmse: 11.1425\n",
      "[300]\ttraining's rmse: 5.54281\tvalid_1's rmse: 9.19433\n",
      "[400]\ttraining's rmse: 4.79602\tvalid_1's rmse: 8.34084\n",
      "[500]\ttraining's rmse: 4.35919\tvalid_1's rmse: 7.84182\n",
      "[600]\ttraining's rmse: 4.09998\tvalid_1's rmse: 7.59755\n",
      "[700]\ttraining's rmse: 3.9311\tvalid_1's rmse: 7.47428\n",
      "[800]\ttraining's rmse: 3.79707\tvalid_1's rmse: 7.42138\n",
      "[900]\ttraining's rmse: 3.70309\tvalid_1's rmse: 7.3844\n",
      "[1000]\ttraining's rmse: 3.62237\tvalid_1's rmse: 7.35422\n",
      "[1100]\ttraining's rmse: 3.54466\tvalid_1's rmse: 7.30107\n",
      "[1200]\ttraining's rmse: 3.47828\tvalid_1's rmse: 7.28255\n",
      "[1300]\ttraining's rmse: 3.41925\tvalid_1's rmse: 7.2729\n",
      "[1400]\ttraining's rmse: 3.36695\tvalid_1's rmse: 7.2583\n",
      "[1500]\ttraining's rmse: 3.31921\tvalid_1's rmse: 7.24388\n",
      "[1600]\ttraining's rmse: 3.27547\tvalid_1's rmse: 7.23265\n",
      "[1700]\ttraining's rmse: 3.23501\tvalid_1's rmse: 7.22079\n",
      "[1800]\ttraining's rmse: 3.19739\tvalid_1's rmse: 7.21112\n",
      "[1900]\ttraining's rmse: 3.16236\tvalid_1's rmse: 7.20334\n",
      "[2000]\ttraining's rmse: 3.12875\tvalid_1's rmse: 7.20082\n",
      "[2100]\ttraining's rmse: 3.09788\tvalid_1's rmse: 7.19366\n",
      "[2200]\ttraining's rmse: 3.06832\tvalid_1's rmse: 7.18717\n",
      "[2300]\ttraining's rmse: 3.04129\tvalid_1's rmse: 7.18306\n",
      "[2400]\ttraining's rmse: 3.01495\tvalid_1's rmse: 7.17694\n",
      "[2500]\ttraining's rmse: 2.99056\tvalid_1's rmse: 7.17207\n",
      "[2600]\ttraining's rmse: 2.96844\tvalid_1's rmse: 7.17178\n",
      "[2700]\ttraining's rmse: 2.93698\tvalid_1's rmse: 7.16632\n",
      "[2800]\ttraining's rmse: 2.90397\tvalid_1's rmse: 7.15536\n",
      "[2900]\ttraining's rmse: 2.86978\tvalid_1's rmse: 7.14185\n",
      "[3000]\ttraining's rmse: 2.83928\tvalid_1's rmse: 7.13145\n",
      "[3100]\ttraining's rmse: 2.81219\tvalid_1's rmse: 7.12387\n",
      "[3200]\ttraining's rmse: 2.78242\tvalid_1's rmse: 7.11429\n",
      "[3300]\ttraining's rmse: 2.75492\tvalid_1's rmse: 7.10529\n",
      "[3400]\ttraining's rmse: 2.72584\tvalid_1's rmse: 7.0956\n",
      "[3500]\ttraining's rmse: 2.69615\tvalid_1's rmse: 7.08736\n",
      "[3600]\ttraining's rmse: 2.6668\tvalid_1's rmse: 7.07947\n",
      "[3700]\ttraining's rmse: 2.63976\tvalid_1's rmse: 7.07339\n",
      "[3800]\ttraining's rmse: 2.615\tvalid_1's rmse: 7.06712\n",
      "[3900]\ttraining's rmse: 2.59235\tvalid_1's rmse: 7.0643\n",
      "[4000]\ttraining's rmse: 2.56643\tvalid_1's rmse: 7.05741\n",
      "[4100]\ttraining's rmse: 2.54201\tvalid_1's rmse: 7.05164\n",
      "[4200]\ttraining's rmse: 2.51848\tvalid_1's rmse: 7.04615\n",
      "[4300]\ttraining's rmse: 2.49614\tvalid_1's rmse: 7.04171\n",
      "[4400]\ttraining's rmse: 2.4712\tvalid_1's rmse: 7.03496\n",
      "[4500]\ttraining's rmse: 2.44859\tvalid_1's rmse: 7.02762\n",
      "[4600]\ttraining's rmse: 2.42463\tvalid_1's rmse: 7.02286\n",
      "[4700]\ttraining's rmse: 2.4044\tvalid_1's rmse: 7.01945\n",
      "[4800]\ttraining's rmse: 2.38289\tvalid_1's rmse: 7.01439\n",
      "[4900]\ttraining's rmse: 2.36077\tvalid_1's rmse: 7.01103\n",
      "[5000]\ttraining's rmse: 2.3394\tvalid_1's rmse: 7.00648\n",
      "Did not meet early stopping. Best iteration is:\n",
      "[5000]\ttraining's rmse: 2.3394\tvalid_1's rmse: 7.00648\n",
      "lightgbm feature importance\n",
      "매수고객수rolling_mean2: 11176\n",
      "매수고객수diff1: 10466\n",
      "매수고객수: 9624\n",
      "매도고객수rolling_mean2: 9433\n",
      "매도고객수diff1: 8840\n",
      "매도고객수: 8208\n",
      "매수고객수rolling_std2: 8168\n",
      "그룹내고객수: 8149\n",
      "매수고객수rolling_min2: 7395\n",
      "매도고객수rolling_min2: 7241\n",
      "매수고객수rolling_max2: 6701\n",
      "거래량4: 5849\n",
      "거래량1: 5813\n",
      "거래금액_만원단위: 5477\n",
      "std: 5289\n",
      "매도고객수rolling_max2: 4987\n",
      "거래량2: 4466\n",
      "매도고객수rolling_std2: 4349\n",
      "종목번호: 4219\n",
      "min: 3994\n",
      "거래량3: 3917\n",
      "max: 2379\n",
      "mean: 1324\n",
      "그룹번호: 1294\n",
      "시장구분: 585\n",
      "year: 559\n",
      "표준산업구분코드_대분류: 98\n",
      "매도고객수diff2: 0\n"
     ]
    }
   ],
   "source": [
    "category_cols = ['종목번호', '시장구분', '표준산업구분코드_대분류','그룹번호']\n",
    "weight = {0:1, 6144:1, 12336:1, 18528:2, 24864:2, 31248:6, 37680:6}\n",
    "model, pred_train, pred_val, pred_test=\\\n",
    "    modelLightgbm(X_train, y_train, X_val, y_val, X_test , category_cols, weight=weight, params=None, selected_feature=None)"
   ]
  },
  {
   "cell_type": "code",
   "execution_count": 146,
   "metadata": {
    "ExecuteTime": {
     "end_time": "2020-09-12T17:08:20.892902Z",
     "start_time": "2020-09-12T17:08:20.759176Z"
    }
   },
   "outputs": [
    {
     "name": "stderr",
     "output_type": "stream",
     "text": [
      "<ipython-input-52-0627c326c8e5>:5: SettingWithCopyWarning: \n",
      "A value is trying to be set on a copy of a slice from a DataFrame.\n",
      "Try using .loc[row_indexer,col_indexer] = value instead\n",
      "\n",
      "See the caveats in the documentation: https://pandas.pydata.org/pandas-docs/stable/user_guide/indexing.html#returning-a-view-versus-a-copy\n",
      "  sub['pred'] = prediction\n"
     ]
    }
   ],
   "source": [
    "lgb_answer = make_sub(X_test_cat, pred_test)\n",
    "lgb_answer.to_csv('0913_lgb_2_rolling2_diff1.csv', index=False)"
   ]
  },
  {
   "cell_type": "code",
   "execution_count": 152,
   "metadata": {
    "ExecuteTime": {
     "end_time": "2020-09-12T17:15:44.651116Z",
     "start_time": "2020-09-12T17:15:44.289074Z"
    }
   },
   "outputs": [
    {
     "name": "stdout",
     "output_type": "stream",
     "text": [
      "lasso train rmse : 4.700378025828403\n",
      "lasso validation rmse : 6.630539596472221\n"
     ]
    },
    {
     "name": "stderr",
     "output_type": "stream",
     "text": [
      "C:\\Users\\ghktj\\anaconda3\\envs\\pytorch\\lib\\site-packages\\sklearn\\linear_model\\_coordinate_descent.py:529: ConvergenceWarning: Objective did not converge. You might want to increase the number of iterations. Duality gap: 549788.0052333262, tolerance: 630.6179439436931\n",
      "  model = cd_fast.enet_coordinate_descent(\n"
     ]
    }
   ],
   "source": [
    "model, pred_train, pred_val, pred_test = \\\n",
    "    linear(X_train, y_train, X_val, y_val, X_test, use_ridge=False, use_lasso=True, max_iter=1000)"
   ]
  },
  {
   "cell_type": "code",
   "execution_count": 153,
   "metadata": {
    "ExecuteTime": {
     "end_time": "2020-09-12T17:15:49.810944Z",
     "start_time": "2020-09-12T17:15:49.671176Z"
    }
   },
   "outputs": [
    {
     "name": "stderr",
     "output_type": "stream",
     "text": [
      "<ipython-input-52-0627c326c8e5>:5: SettingWithCopyWarning: \n",
      "A value is trying to be set on a copy of a slice from a DataFrame.\n",
      "Try using .loc[row_indexer,col_indexer] = value instead\n",
      "\n",
      "See the caveats in the documentation: https://pandas.pydata.org/pandas-docs/stable/user_guide/indexing.html#returning-a-view-versus-a-copy\n",
      "  sub['pred'] = prediction\n"
     ]
    }
   ],
   "source": [
    "lasso_answer = make_sub(X_test_cat, pred_test)\n",
    "lasso_answer.to_csv('0913_lasso_2.csv', index=False)"
   ]
  },
  {
   "cell_type": "code",
   "execution_count": null,
   "metadata": {},
   "outputs": [],
   "source": []
  },
  {
   "cell_type": "markdown",
   "metadata": {},
   "source": [
    "# 기초 통계\n",
    "- catboost랑 ensemble\n",
    "- 6월달에 구매한 애들만 평균내서!"
   ]
  },
  {
   "cell_type": "code",
   "execution_count": 162,
   "metadata": {
    "ExecuteTime": {
     "end_time": "2020-09-12T17:18:12.223430Z",
     "start_time": "2020-09-12T17:18:12.212435Z"
    }
   },
   "outputs": [],
   "source": [
    "X_test_cat['pred'] = pred_test"
   ]
  },
  {
   "cell_type": "code",
   "execution_count": 163,
   "metadata": {
    "ExecuteTime": {
     "end_time": "2020-09-12T17:18:19.528534Z",
     "start_time": "2020-09-12T17:18:19.524535Z"
    }
   },
   "outputs": [
    {
     "data": {
      "text/plain": [
       "(6432, 29)"
      ]
     },
     "execution_count": 163,
     "metadata": {},
     "output_type": "execute_result"
    }
   ],
   "source": [
    "X_test_cat.shape"
   ]
  },
  {
   "cell_type": "code",
   "execution_count": 174,
   "metadata": {
    "ExecuteTime": {
     "end_time": "2020-09-12T17:21:24.964160Z",
     "start_time": "2020-09-12T17:21:24.959163Z"
    }
   },
   "outputs": [],
   "source": [
    "X_test_cat['target'] = df.loc[df['기준년월']==202005, 'target'].reset_index(drop=True)"
   ]
  },
  {
   "cell_type": "code",
   "execution_count": 175,
   "metadata": {
    "ExecuteTime": {
     "end_time": "2020-09-12T17:21:26.527212Z",
     "start_time": "2020-09-12T17:21:26.504135Z"
    }
   },
   "outputs": [
    {
     "data": {
      "text/html": [
       "<div>\n",
       "<style scoped>\n",
       "    .dataframe tbody tr th:only-of-type {\n",
       "        vertical-align: middle;\n",
       "    }\n",
       "\n",
       "    .dataframe tbody tr th {\n",
       "        vertical-align: top;\n",
       "    }\n",
       "\n",
       "    .dataframe thead th {\n",
       "        text-align: right;\n",
       "    }\n",
       "</style>\n",
       "<table border=\"1\" class=\"dataframe\">\n",
       "  <thead>\n",
       "    <tr style=\"text-align: right;\">\n",
       "      <th></th>\n",
       "      <th>종목번호</th>\n",
       "      <th>그룹번호</th>\n",
       "      <th>pred</th>\n",
       "      <th>target</th>\n",
       "    </tr>\n",
       "  </thead>\n",
       "  <tbody>\n",
       "    <tr>\n",
       "      <th>0</th>\n",
       "      <td>A000100</td>\n",
       "      <td>MAD01</td>\n",
       "      <td>-0.298653</td>\n",
       "      <td>0.0</td>\n",
       "    </tr>\n",
       "    <tr>\n",
       "      <th>1</th>\n",
       "      <td>A000100</td>\n",
       "      <td>MAD02</td>\n",
       "      <td>-0.429310</td>\n",
       "      <td>0.0</td>\n",
       "    </tr>\n",
       "    <tr>\n",
       "      <th>2</th>\n",
       "      <td>A000100</td>\n",
       "      <td>MAD03</td>\n",
       "      <td>3.558176</td>\n",
       "      <td>7.0</td>\n",
       "    </tr>\n",
       "    <tr>\n",
       "      <th>3</th>\n",
       "      <td>A000100</td>\n",
       "      <td>MAD04</td>\n",
       "      <td>26.316327</td>\n",
       "      <td>26.0</td>\n",
       "    </tr>\n",
       "    <tr>\n",
       "      <th>4</th>\n",
       "      <td>A000100</td>\n",
       "      <td>MAD05</td>\n",
       "      <td>19.814012</td>\n",
       "      <td>20.0</td>\n",
       "    </tr>\n",
       "  </tbody>\n",
       "</table>\n",
       "</div>"
      ],
      "text/plain": [
       "      종목번호   그룹번호       pred  target\n",
       "0  A000100  MAD01  -0.298653     0.0\n",
       "1  A000100  MAD02  -0.429310     0.0\n",
       "2  A000100  MAD03   3.558176     7.0\n",
       "3  A000100  MAD04  26.316327    26.0\n",
       "4  A000100  MAD05  19.814012    20.0"
      ]
     },
     "execution_count": 175,
     "metadata": {},
     "output_type": "execute_result"
    }
   ],
   "source": [
    "tmp = X_test_cat[['종목번호','그룹번호','pred','target']]\n",
    "tmp.head()"
   ]
  },
  {
   "cell_type": "code",
   "execution_count": 176,
   "metadata": {
    "ExecuteTime": {
     "end_time": "2020-09-12T17:21:28.061036Z",
     "start_time": "2020-09-12T17:21:28.048503Z"
    }
   },
   "outputs": [],
   "source": [
    "pred_test = tmp['pred'] + tmp['target']"
   ]
  },
  {
   "cell_type": "code",
   "execution_count": 177,
   "metadata": {
    "ExecuteTime": {
     "end_time": "2020-09-12T17:21:29.246634Z",
     "start_time": "2020-09-12T17:21:29.119173Z"
    }
   },
   "outputs": [
    {
     "name": "stderr",
     "output_type": "stream",
     "text": [
      "<ipython-input-52-0627c326c8e5>:5: SettingWithCopyWarning: \n",
      "A value is trying to be set on a copy of a slice from a DataFrame.\n",
      "Try using .loc[row_indexer,col_indexer] = value instead\n",
      "\n",
      "See the caveats in the documentation: https://pandas.pydata.org/pandas-docs/stable/user_guide/indexing.html#returning-a-view-versus-a-copy\n",
      "  sub['pred'] = prediction\n"
     ]
    }
   ],
   "source": [
    "lasso_answer = make_sub(X_test_cat, pred_test)\n",
    "lasso_answer.to_csv('0913_statistic_lasso_ensemble.csv', index=False)"
   ]
  },
  {
   "cell_type": "code",
   "execution_count": null,
   "metadata": {},
   "outputs": [],
   "source": []
  },
  {
   "cell_type": "code",
   "execution_count": null,
   "metadata": {},
   "outputs": [],
   "source": []
  },
  {
   "cell_type": "code",
   "execution_count": null,
   "metadata": {},
   "outputs": [],
   "source": []
  }
 ],
 "metadata": {
  "kernelspec": {
   "display_name": "Python 3",
   "language": "python",
   "name": "python3"
  },
  "language_info": {
   "codemirror_mode": {
    "name": "ipython",
    "version": 3
   },
   "file_extension": ".py",
   "mimetype": "text/x-python",
   "name": "python",
   "nbconvert_exporter": "python",
   "pygments_lexer": "ipython3",
   "version": "3.8.3"
  }
 },
 "nbformat": 4,
 "nbformat_minor": 4
}
