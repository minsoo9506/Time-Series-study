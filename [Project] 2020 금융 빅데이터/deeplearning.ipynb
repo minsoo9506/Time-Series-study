{
 "cells": [
  {
   "cell_type": "code",
   "execution_count": 1,
   "metadata": {
    "ExecuteTime": {
     "end_time": "2020-09-11T10:47:15.747984Z",
     "start_time": "2020-09-11T10:47:12.579142Z"
    }
   },
   "outputs": [],
   "source": [
    "import pandas as pd\n",
    "import numpy as np\n",
    "import matplotlib.pyplot as plt\n",
    "import seaborn as sns\n",
    "\n",
    "trade = pd.read_csv('trade_train.csv', index_col=0)\n",
    "stock = pd.read_csv('stocks.csv', index_col=0)\n",
    "answer = pd.read_csv('answer_sheet.csv')"
   ]
  },
  {
   "cell_type": "code",
   "execution_count": 172,
   "metadata": {
    "ExecuteTime": {
     "end_time": "2020-09-11T13:16:52.524048Z",
     "start_time": "2020-09-11T13:16:52.381965Z"
    }
   },
   "outputs": [],
   "source": [
    "seq2seq_df = pd.read_csv('seq2seq_df.csv')"
   ]
  },
  {
   "cell_type": "code",
   "execution_count": 296,
   "metadata": {
    "ExecuteTime": {
     "end_time": "2020-09-11T14:48:50.593168Z",
     "start_time": "2020-09-11T14:48:50.581129Z"
    }
   },
   "outputs": [
    {
     "data": {
      "text/plain": [
       "131.20100000001548"
      ]
     },
     "execution_count": 296,
     "metadata": {},
     "output_type": "execute_result"
    }
   ],
   "source": [
    "seq2seq_df['매수고객수'].quantile(0.999)"
   ]
  },
  {
   "cell_type": "code",
   "execution_count": 297,
   "metadata": {
    "ExecuteTime": {
     "end_time": "2020-09-11T14:48:54.440071Z",
     "start_time": "2020-09-11T14:48:54.435070Z"
    }
   },
   "outputs": [
    {
     "data": {
      "text/plain": [
       "106.0"
      ]
     },
     "execution_count": 297,
     "metadata": {},
     "output_type": "execute_result"
    }
   ],
   "source": [
    "seq2seq_df['매도고객수'].quantile(0.999)"
   ]
  },
  {
   "cell_type": "code",
   "execution_count": 298,
   "metadata": {
    "ExecuteTime": {
     "end_time": "2020-09-11T14:48:59.045215Z",
     "start_time": "2020-09-11T14:48:59.001217Z"
    }
   },
   "outputs": [],
   "source": [
    "y1 = seq2seq_df['매수고객수'].quantile(0.999)\n",
    "y2 = seq2seq_df['매도고객수'].quantile(0.999)\n",
    "\n",
    "seq2seq_df.loc[seq2seq_df['매수고객수']>y1] = y1\n",
    "seq2seq_df.loc[seq2seq_df['매도고객수']>y2] = y2"
   ]
  },
  {
   "cell_type": "code",
   "execution_count": 304,
   "metadata": {
    "ExecuteTime": {
     "end_time": "2020-09-11T14:51:04.398093Z",
     "start_time": "2020-09-11T14:50:13.737041Z"
    }
   },
   "outputs": [],
   "source": [
    "df = seq2seq_df.copy()\n",
    "\n",
    "df = df.sort_values(by=['기준년월','종목번호','그룹번호'])\n",
    "\n",
    "df['매수고객수shift1'] = df.groupby(['종목번호','그룹번호'])['매수고객수'].shift(1, fill_value=0)\n",
    "df['매수고객수shift2'] = df.groupby(['종목번호','그룹번호'])['매수고객수'].shift(2, fill_value=0)\n",
    "\n",
    "rolling_cols = ['매도고객수', '매수고객수']\n",
    "for rolling_col in rolling_cols:\n",
    "    for i in [2,3]:\n",
    "        df[str(rolling_col)+'rolling_mean'+str(i)] = \\\n",
    "            df.groupby(['그룹번호','종목번호'])[rolling_col].transform(lambda x : x.rolling(i).mean())\n",
    "    for i in [2,3]:\n",
    "        df[str(rolling_col)+'rolling_std'+str(i)] = \\\n",
    "            df.groupby(['그룹번호','종목번호'])[rolling_col].transform(lambda x : x.rolling(i).std())\n",
    "    for i in [2,3]:\n",
    "        df[str(rolling_col)+'rolling_max'+str(i)] = \\\n",
    "            df.groupby(['그룹번호','종목번호'])[rolling_col].transform(lambda x : x.rolling(i).max())\n",
    "    for i in [2,3]:\n",
    "        df[str(rolling_col)+'rolling_min'+str(i)] = \\\n",
    "            df.groupby(['그룹번호','종목번호'])[rolling_col].transform(lambda x : x.rolling(i).min())\n",
    "        \n",
    "diff_cols = ['매도고객수', '매수고객수']\n",
    "for diff_col in diff_cols:\n",
    "    df[str(diff_col)+'diff1'] = df.groupby(['그룹번호','종목번호'])[diff_col].diff(1)\n",
    "    df[str(diff_col)+'diff2'] = df.groupby(['그룹번호','종목번호'])[diff_col].diff(2)\n",
    "    \n",
    "df_dropna = df.dropna(axis=0).reset_index(drop=True)\n",
    "\n",
    "df_dropna['target'] = df_dropna.groupby(['종목번호','그룹번호'])['매수고객수'].shift(-1)\n",
    "\n",
    "df_cols = df_dropna.columns\n",
    "for cols in df_cols:\n",
    "    if df_dropna[cols].dtypes == np.float64:\n",
    "        df_dropna[cols] = round(df_dropna[cols], 2)"
   ]
  },
  {
   "cell_type": "code",
   "execution_count": 305,
   "metadata": {
    "ExecuteTime": {
     "end_time": "2020-09-11T14:51:04.430009Z",
     "start_time": "2020-09-11T14:51:04.399044Z"
    }
   },
   "outputs": [
    {
     "data": {
      "text/plain": [
       "종목번호                     0\n",
       "min                      0\n",
       "max                      0\n",
       "mean                     0\n",
       "std                      0\n",
       "기준년월                     0\n",
       "거래금액_만원단위                0\n",
       "거래량1                     0\n",
       "거래량2                     0\n",
       "거래량3                     0\n",
       "거래량4                     0\n",
       "시장구분                     0\n",
       "표준산업구분코드_대분류             0\n",
       "그룹번호                     0\n",
       "그룹내고객수                   0\n",
       "매수고객수                    0\n",
       "매도고객수                    0\n",
       "매수고객수shift1              0\n",
       "매수고객수shift2              0\n",
       "매도고객수rolling_mean2       0\n",
       "매도고객수rolling_mean3       0\n",
       "매도고객수rolling_std2        0\n",
       "매도고객수rolling_std3        0\n",
       "매도고객수rolling_max2        0\n",
       "매도고객수rolling_max3        0\n",
       "매도고객수rolling_min2        0\n",
       "매도고객수rolling_min3        0\n",
       "매수고객수rolling_mean2       0\n",
       "매수고객수rolling_mean3       0\n",
       "매수고객수rolling_std2        0\n",
       "매수고객수rolling_std3        0\n",
       "매수고객수rolling_max2        0\n",
       "매수고객수rolling_max3        0\n",
       "매수고객수rolling_min2        0\n",
       "매수고객수rolling_min3        0\n",
       "매도고객수diff1               0\n",
       "매도고객수diff2               0\n",
       "매수고객수diff1               0\n",
       "매수고객수diff2               0\n",
       "target                6432\n",
       "dtype: int64"
      ]
     },
     "execution_count": 305,
     "metadata": {},
     "output_type": "execute_result"
    }
   ],
   "source": [
    "df_dropna.isnull().sum()"
   ]
  },
  {
   "cell_type": "code",
   "execution_count": 306,
   "metadata": {
    "ExecuteTime": {
     "end_time": "2020-09-11T14:51:04.446009Z",
     "start_time": "2020-09-11T14:51:04.431010Z"
    }
   },
   "outputs": [
    {
     "data": {
      "text/plain": [
       "Index(['종목번호', 'min', 'max', 'mean', 'std', '기준년월', '거래금액_만원단위', '거래량1',\n",
       "       '거래량2', '거래량3', '거래량4', '시장구분', '표준산업구분코드_대분류', '그룹번호', '그룹내고객수',\n",
       "       '매수고객수', '매도고객수', '매수고객수shift1', '매수고객수shift2', '매도고객수rolling_mean2',\n",
       "       '매도고객수rolling_mean3', '매도고객수rolling_std2', '매도고객수rolling_std3',\n",
       "       '매도고객수rolling_max2', '매도고객수rolling_max3', '매도고객수rolling_min2',\n",
       "       '매도고객수rolling_min3', '매수고객수rolling_mean2', '매수고객수rolling_mean3',\n",
       "       '매수고객수rolling_std2', '매수고객수rolling_std3', '매수고객수rolling_max2',\n",
       "       '매수고객수rolling_max3', '매수고객수rolling_min2', '매수고객수rolling_min3',\n",
       "       '매도고객수diff1', '매도고객수diff2', '매수고객수diff1', '매수고객수diff2', 'target'],\n",
       "      dtype='object')"
      ]
     },
     "execution_count": 306,
     "metadata": {},
     "output_type": "execute_result"
    }
   ],
   "source": [
    "df_dropna.columns"
   ]
  },
  {
   "cell_type": "code",
   "execution_count": 307,
   "metadata": {
    "ExecuteTime": {
     "end_time": "2020-09-11T14:51:06.085482Z",
     "start_time": "2020-09-11T14:51:04.447008Z"
    }
   },
   "outputs": [],
   "source": [
    "df_dropna.to_csv('df_dropna_deep.csv', index=False)"
   ]
  },
  {
   "cell_type": "code",
   "execution_count": 308,
   "metadata": {
    "ExecuteTime": {
     "end_time": "2020-09-11T14:51:06.148336Z",
     "start_time": "2020-09-11T14:51:06.086440Z"
    }
   },
   "outputs": [],
   "source": [
    "train_ = [201911, 201912, 202001, 202002, 202003, 202004]\n",
    "val_ = 202005\n",
    "test_ = 202006\n",
    "\n",
    "X_train = df_dropna.loc[df_dropna['기준년월'].isin(train_)].reset_index(drop=True)\n",
    "X_val = df_dropna.loc[df_dropna['기준년월']==val_].reset_index(drop=True)\n",
    "X_test = df_dropna.loc[df_dropna['기준년월']==test_].reset_index(drop=True)\n",
    "\n",
    "X_train['year'] = X_train['기준년월'].map(str).map(lambda x : x[:4])\n",
    "X_val['year'] = X_val['기준년월'].map(str).map(lambda x : x[:4])\n",
    "X_test['year'] = X_test['기준년월'].map(str).map(lambda x : x[:4])\n",
    "\n",
    "X_train.drop('기준년월', axis=1 , inplace=True)\n",
    "X_val.drop('기준년월', axis=1 , inplace=True)\n",
    "X_test.drop('기준년월', axis=1 ,inplace=True)"
   ]
  },
  {
   "cell_type": "code",
   "execution_count": 309,
   "metadata": {
    "ExecuteTime": {
     "end_time": "2020-09-11T14:51:06.164336Z",
     "start_time": "2020-09-11T14:51:06.149336Z"
    }
   },
   "outputs": [],
   "source": [
    "category_cols = ['종목번호', '시장구분', '표준산업구분코드_대분류','그룹번호','year']"
   ]
  },
  {
   "cell_type": "code",
   "execution_count": 216,
   "metadata": {
    "ExecuteTime": {
     "end_time": "2020-09-11T13:46:07.792186Z",
     "start_time": "2020-09-11T13:46:07.776156Z"
    }
   },
   "outputs": [
    {
     "data": {
      "text/plain": [
       "Index(['종목번호', 'min', 'max', 'mean', 'std', '거래금액_만원단위', '거래량1', '거래량2',\n",
       "       '거래량3', '거래량4', '시장구분', '표준산업구분코드_대분류', '그룹번호', '그룹내고객수', '매수고객수',\n",
       "       '매도고객수', '매수고객수shift1', '매수고객수shift2', '매도고객수rolling_mean2',\n",
       "       '매도고객수rolling_mean3', '매도고객수rolling_std2', '매도고객수rolling_std3',\n",
       "       '매도고객수rolling_max2', '매도고객수rolling_max3', '매도고객수rolling_min2',\n",
       "       '매도고객수rolling_min3', '매수고객수rolling_mean2', '매수고객수rolling_mean3',\n",
       "       '매수고객수rolling_std2', '매수고객수rolling_std3', '매수고객수rolling_max2',\n",
       "       '매수고객수rolling_max3', '매수고객수rolling_min2', '매수고객수rolling_min3',\n",
       "       '매도고객수diff1', '매도고객수diff2', '매수고객수diff1', '매수고객수diff2', 'target',\n",
       "       'year'],\n",
       "      dtype='object')"
      ]
     },
     "execution_count": 216,
     "metadata": {},
     "output_type": "execute_result"
    }
   ],
   "source": [
    "X_train.columns"
   ]
  },
  {
   "cell_type": "code",
   "execution_count": 310,
   "metadata": {
    "ExecuteTime": {
     "end_time": "2020-09-11T14:51:06.306310Z",
     "start_time": "2020-09-11T14:51:06.165336Z"
    }
   },
   "outputs": [],
   "source": [
    "import category_encoders as ce\n",
    "encoder = ce.TargetEncoder()\n",
    "encoder.fit(X_train.loc[X_train['year']=='2020', category_cols], X_train.loc[X_train['year']=='2020', 'target'])\n",
    "\n",
    "X_train[category_cols] = encoder.transform(X_train[category_cols])\n",
    "X_val[category_cols] = encoder.transform(X_val[category_cols])\n",
    "X_test[category_cols] = encoder.transform(X_test[category_cols])"
   ]
  },
  {
   "cell_type": "code",
   "execution_count": 218,
   "metadata": {
    "ExecuteTime": {
     "end_time": "2020-09-11T13:46:08.451128Z",
     "start_time": "2020-09-11T13:46:08.443128Z"
    }
   },
   "outputs": [
    {
     "data": {
      "text/plain": [
       "Index(['종목번호', 'min', 'max', 'mean', 'std', '거래금액_만원단위', '거래량1', '거래량2',\n",
       "       '거래량3', '거래량4', '시장구분', '표준산업구분코드_대분류', '그룹번호', '그룹내고객수', '매수고객수',\n",
       "       '매도고객수', '매수고객수shift1', '매수고객수shift2', '매도고객수rolling_mean2',\n",
       "       '매도고객수rolling_mean3', '매도고객수rolling_std2', '매도고객수rolling_std3',\n",
       "       '매도고객수rolling_max2', '매도고객수rolling_max3', '매도고객수rolling_min2',\n",
       "       '매도고객수rolling_min3', '매수고객수rolling_mean2', '매수고객수rolling_mean3',\n",
       "       '매수고객수rolling_std2', '매수고객수rolling_std3', '매수고객수rolling_max2',\n",
       "       '매수고객수rolling_max3', '매수고객수rolling_min2', '매수고객수rolling_min3',\n",
       "       '매도고객수diff1', '매도고객수diff2', '매수고객수diff1', '매수고객수diff2', 'target',\n",
       "       'year'],\n",
       "      dtype='object')"
      ]
     },
     "execution_count": 218,
     "metadata": {},
     "output_type": "execute_result"
    }
   ],
   "source": [
    "X_train.columns"
   ]
  },
  {
   "cell_type": "code",
   "execution_count": 311,
   "metadata": {
    "ExecuteTime": {
     "end_time": "2020-09-11T14:51:06.338337Z",
     "start_time": "2020-09-11T14:51:06.307309Z"
    }
   },
   "outputs": [],
   "source": [
    "cols = ['매수고객수shift1', '매수고객수shift2','매수고객수',\n",
    "       '종목번호', 'min', 'max', 'mean', 'std', '거래금액_만원단위', '거래량1', '거래량2',\n",
    "       '거래량3', '거래량4', '시장구분', '표준산업구분코드_대분류', \n",
    "       '그룹번호', '그룹내고객수', '매도고객수',  '매도고객수rolling_mean2',\n",
    "       '매도고객수rolling_mean3', '매도고객수rolling_std2', '매도고객수rolling_std3',\n",
    "       '매도고객수rolling_max2', '매도고객수rolling_max3', '매도고객수rolling_min2',\n",
    "       '매도고객수rolling_min3', '매수고객수rolling_mean2', '매수고객수rolling_mean3',\n",
    "       '매수고객수rolling_std2', '매수고객수rolling_std3', '매수고객수rolling_max2',\n",
    "       '매수고객수rolling_max3', '매수고객수rolling_min2', '매수고객수rolling_min3',\n",
    "       '매도고객수diff1', '매도고객수diff2', '매수고객수diff1', '매수고객수diff2', 'year', 'target']\n",
    "\n",
    "X_train = X_train.loc[:,cols]\n",
    "X_val = X_val.loc[:,cols]\n",
    "X_test = X_test.loc[:,cols]"
   ]
  },
  {
   "cell_type": "code",
   "execution_count": 220,
   "metadata": {
    "ExecuteTime": {
     "end_time": "2020-09-11T13:46:09.879159Z",
     "start_time": "2020-09-11T13:46:09.868191Z"
    }
   },
   "outputs": [
    {
     "data": {
      "text/plain": [
       "Index(['매수고객수shift1', '매수고객수shift2', '매수고객수', '종목번호', 'min', 'max', 'mean',\n",
       "       'std', '거래금액_만원단위', '거래량1', '거래량2', '거래량3', '거래량4', '시장구분',\n",
       "       '표준산업구분코드_대분류', '그룹번호', '그룹내고객수', '매도고객수', '매도고객수rolling_mean2',\n",
       "       '매도고객수rolling_mean3', '매도고객수rolling_std2', '매도고객수rolling_std3',\n",
       "       '매도고객수rolling_max2', '매도고객수rolling_max3', '매도고객수rolling_min2',\n",
       "       '매도고객수rolling_min3', '매수고객수rolling_mean2', '매수고객수rolling_mean3',\n",
       "       '매수고객수rolling_std2', '매수고객수rolling_std3', '매수고객수rolling_max2',\n",
       "       '매수고객수rolling_max3', '매수고객수rolling_min2', '매수고객수rolling_min3',\n",
       "       '매도고객수diff1', '매도고객수diff2', '매수고객수diff1', '매수고객수diff2', 'year',\n",
       "       'target'],\n",
       "      dtype='object')"
      ]
     },
     "execution_count": 220,
     "metadata": {},
     "output_type": "execute_result"
    }
   ],
   "source": [
    "X_train.columns"
   ]
  },
  {
   "cell_type": "code",
   "execution_count": 312,
   "metadata": {
    "ExecuteTime": {
     "end_time": "2020-09-11T14:51:06.370445Z",
     "start_time": "2020-09-11T14:51:06.339307Z"
    }
   },
   "outputs": [],
   "source": [
    "from sklearn.preprocessing import MinMaxScaler\n",
    "scaler = MinMaxScaler((-1, 1))\n",
    "scaler.fit(X_train)\n",
    "\n",
    "X_train_scaled = pd.DataFrame(scaler.transform(X_train), columns=X_train.columns)\n",
    "X_val_scaled = pd.DataFrame(scaler.transform(X_val), columns=X_train.columns)\n",
    "X_test_scaled = pd.DataFrame(scaler.transform(X_test), columns=X_train.columns)"
   ]
  },
  {
   "cell_type": "code",
   "execution_count": 225,
   "metadata": {
    "ExecuteTime": {
     "end_time": "2020-09-11T13:47:19.766242Z",
     "start_time": "2020-09-11T13:47:19.755218Z"
    }
   },
   "outputs": [],
   "source": [
    "import torch\n",
    "import torch.nn as nn\n",
    "from torch.utils.data import DataLoader, Dataset\n",
    "import torch.nn.functional as F\n",
    "\n",
    "from sklearn.metrics import mean_squared_error"
   ]
  },
  {
   "cell_type": "code",
   "execution_count": 226,
   "metadata": {
    "ExecuteTime": {
     "end_time": "2020-09-11T13:47:20.004670Z",
     "start_time": "2020-09-11T13:47:19.996698Z"
    }
   },
   "outputs": [
    {
     "name": "stdout",
     "output_type": "stream",
     "text": [
      "cuda\n"
     ]
    }
   ],
   "source": [
    "if torch.cuda.is_available():\n",
    "    device = 'cuda'\n",
    "print(device)"
   ]
  },
  {
   "cell_type": "code",
   "execution_count": 313,
   "metadata": {
    "ExecuteTime": {
     "end_time": "2020-09-11T14:51:06.386445Z",
     "start_time": "2020-09-11T14:51:06.371445Z"
    }
   },
   "outputs": [],
   "source": [
    "class MyDataset(Dataset):\n",
    "    def __init__(self, one_df):\n",
    "        super(MyDataset, self).__init__()\n",
    "        \n",
    "        self.df = one_df\n",
    "  \n",
    "    def __len__(self):\n",
    "        return self.df.shape[0]\n",
    "        \n",
    "    def __getitem__(self, idx):\n",
    "        rnn_x = self.df.iloc[idx, 0:3].values\n",
    "        company_x = self.df.iloc[idx, 3:15].values\n",
    "        group_x = self.df.iloc[idx, 15:-1].values\n",
    "        y = self.df.iloc[idx, -1]\n",
    "        return rnn_x.reshape(3,-1), company_x, group_x, y"
   ]
  },
  {
   "cell_type": "code",
   "execution_count": 314,
   "metadata": {
    "ExecuteTime": {
     "end_time": "2020-09-11T14:51:06.402444Z",
     "start_time": "2020-09-11T14:51:06.387446Z"
    }
   },
   "outputs": [],
   "source": [
    "batch_size=64"
   ]
  },
  {
   "cell_type": "code",
   "execution_count": 315,
   "metadata": {
    "ExecuteTime": {
     "end_time": "2020-09-11T14:51:06.418476Z",
     "start_time": "2020-09-11T14:51:06.403447Z"
    }
   },
   "outputs": [],
   "source": [
    "train_dataset = MyDataset(X_train_scaled)\n",
    "train_dataloader = DataLoader(dataset=train_dataset, batch_size=batch_size, shuffle=True)\n",
    "\n",
    "val_dataset = MyDataset(X_val_scaled)\n",
    "val_dataloader = DataLoader(dataset=val_dataset, batch_size=batch_size, shuffle=True)"
   ]
  },
  {
   "cell_type": "code",
   "execution_count": 316,
   "metadata": {
    "ExecuteTime": {
     "end_time": "2020-09-11T14:51:06.434444Z",
     "start_time": "2020-09-11T14:51:06.419445Z"
    }
   },
   "outputs": [
    {
     "name": "stdout",
     "output_type": "stream",
     "text": [
      "(3, 1)\n",
      "(12,)\n",
      "(24,)\n"
     ]
    }
   ],
   "source": [
    "print(train_dataset[0][0].shape) # seq_size, input_size\n",
    "print(train_dataset[0][1].shape)\n",
    "print(train_dataset[0][2].shape)"
   ]
  },
  {
   "cell_type": "code",
   "execution_count": 317,
   "metadata": {
    "ExecuteTime": {
     "end_time": "2020-09-11T14:51:06.450444Z",
     "start_time": "2020-09-11T14:51:06.435445Z"
    }
   },
   "outputs": [],
   "source": [
    "class DeepModel(nn.Module):\n",
    "    def __init__(self, rnn_hidden_size=8):\n",
    "        super(DeepModel, self).__init__()\n",
    "        \n",
    "        self.rnn = nn.LSTM(input_size=1, hidden_size=rnn_hidden_size, batch_first=True)\n",
    "\n",
    "        self.fc1_company = nn.Linear(12, 64) \n",
    "        self.fc2_company = nn.Linear(64, 32)\n",
    "        \n",
    "        self.fc1_group = nn.Linear(24, 64)\n",
    "        self.fc2_group = nn.Linear(64, 32)\n",
    "        \n",
    "        self.fc1 = nn.Linear(72, 32)\n",
    "        self.fc2 = nn.Linear(32, 16)\n",
    "        self.fc3 = nn.Linear(16, 1)\n",
    "        \n",
    "        self.batch_size = batch_size\n",
    "        \n",
    "    def forward(self, rnn_x, company_x, group_x):\n",
    "        \n",
    "        output, (h, c) = self.rnn(rnn_x)\n",
    "        company_x = F.relu(self.fc1_company(company_x))\n",
    "        company_x = F.relu(self.fc2_company(company_x))\n",
    "        group_x = F.relu(self.fc1_group(group_x))\n",
    "        group_x = F.relu(self.fc2_group(group_x))\n",
    "        \n",
    "        x = torch.cat([h.view(h.size(1), -1), company_x, group_x], dim=1)\n",
    "        x = F.relu(self.fc1(x))\n",
    "        x = F.relu(self.fc2(x))\n",
    "        x = self.fc3(x)\n",
    "        \n",
    "        return x"
   ]
  },
  {
   "cell_type": "code",
   "execution_count": 318,
   "metadata": {
    "ExecuteTime": {
     "end_time": "2020-09-11T14:51:06.466444Z",
     "start_time": "2020-09-11T14:51:06.454444Z"
    }
   },
   "outputs": [],
   "source": [
    "model = DeepModel().to(device)\n",
    "criterion = nn.MSELoss()\n",
    "learning_rate = 0.005\n",
    "optimizer = torch.optim.Adam(model.parameters(), lr=learning_rate)"
   ]
  },
  {
   "cell_type": "code",
   "execution_count": 319,
   "metadata": {
    "ExecuteTime": {
     "end_time": "2020-09-11T14:57:30.923767Z",
     "start_time": "2020-09-11T14:51:38.053349Z"
    }
   },
   "outputs": [
    {
     "name": "stderr",
     "output_type": "stream",
     "text": [
      "C:\\Users\\ghktj\\anaconda3\\envs\\pytorch\\lib\\site-packages\\torch\\nn\\modules\\loss.py:445: UserWarning: Using a target size (torch.Size([64])) that is different to the input size (torch.Size([64, 1])). This will likely lead to incorrect results due to broadcasting. Please ensure they have the same size.\n",
      "  return F.mse_loss(input, target, reduction=self.reduction)\n"
     ]
    },
    {
     "name": "stdout",
     "output_type": "stream",
     "text": [
      "Epoch : 1 / 20,            Step : 250 / 597, Loss : 0.0034229\n",
      "Epoch : 1 / 20,            Step : 500 / 597, Loss : 0.0092131\n"
     ]
    },
    {
     "name": "stderr",
     "output_type": "stream",
     "text": [
      "C:\\Users\\ghktj\\anaconda3\\envs\\pytorch\\lib\\site-packages\\torch\\nn\\modules\\loss.py:445: UserWarning: Using a target size (torch.Size([15])) that is different to the input size (torch.Size([15, 1])). This will likely lead to incorrect results due to broadcasting. Please ensure they have the same size.\n",
      "  return F.mse_loss(input, target, reduction=self.reduction)\n"
     ]
    },
    {
     "name": "stdout",
     "output_type": "stream",
     "text": [
      "Epoch : 2 / 20,            Step : 250 / 597, Loss : 0.0116492\n",
      "Epoch : 2 / 20,            Step : 500 / 597, Loss : 0.0011899\n",
      "Epoch : 3 / 20,            Step : 250 / 597, Loss : 0.0009811\n",
      "Epoch : 3 / 20,            Step : 500 / 597, Loss : 0.0011471\n",
      "Epoch : 4 / 20,            Step : 250 / 597, Loss : 0.0094079\n",
      "Epoch : 4 / 20,            Step : 500 / 597, Loss : 0.0531990\n",
      "Epoch : 5 / 20,            Step : 250 / 597, Loss : 0.0620425\n",
      "Epoch : 5 / 20,            Step : 500 / 597, Loss : 0.0074792\n",
      "Epoch : 6 / 20,            Step : 250 / 597, Loss : 0.0040300\n",
      "Epoch : 6 / 20,            Step : 500 / 597, Loss : 0.0017104\n",
      "Epoch : 7 / 20,            Step : 250 / 597, Loss : 0.0005218\n",
      "Epoch : 7 / 20,            Step : 500 / 597, Loss : 0.0051581\n",
      "Epoch : 8 / 20,            Step : 250 / 597, Loss : 0.0050161\n",
      "Epoch : 8 / 20,            Step : 500 / 597, Loss : 0.0008830\n",
      "Epoch : 9 / 20,            Step : 250 / 597, Loss : 0.0139184\n",
      "Epoch : 9 / 20,            Step : 500 / 597, Loss : 0.0106000\n",
      "Epoch : 10 / 20,            Step : 250 / 597, Loss : 0.0040351\n",
      "Epoch : 10 / 20,            Step : 500 / 597, Loss : 0.0039620\n",
      "Epoch : 11 / 20,            Step : 250 / 597, Loss : 0.0158236\n",
      "Epoch : 11 / 20,            Step : 500 / 597, Loss : 0.0055168\n",
      "Epoch : 12 / 20,            Step : 250 / 597, Loss : 0.0122658\n",
      "Epoch : 12 / 20,            Step : 500 / 597, Loss : 0.0023172\n",
      "Epoch : 13 / 20,            Step : 250 / 597, Loss : 0.0144507\n",
      "Epoch : 13 / 20,            Step : 500 / 597, Loss : 0.0065366\n",
      "Epoch : 14 / 20,            Step : 250 / 597, Loss : 0.0009251\n",
      "Epoch : 14 / 20,            Step : 500 / 597, Loss : 0.0006119\n",
      "Epoch : 15 / 20,            Step : 250 / 597, Loss : 0.0008608\n",
      "Epoch : 15 / 20,            Step : 500 / 597, Loss : 0.0005603\n",
      "Epoch : 16 / 20,            Step : 250 / 597, Loss : 0.0489865\n",
      "Epoch : 16 / 20,            Step : 500 / 597, Loss : 0.0020850\n",
      "Epoch : 17 / 20,            Step : 250 / 597, Loss : 0.0036288\n",
      "Epoch : 17 / 20,            Step : 500 / 597, Loss : 0.0466441\n",
      "Epoch : 18 / 20,            Step : 250 / 597, Loss : 0.0060370\n",
      "Epoch : 18 / 20,            Step : 500 / 597, Loss : 0.0386837\n",
      "Epoch : 19 / 20,            Step : 250 / 597, Loss : 0.0011860\n",
      "Epoch : 19 / 20,            Step : 500 / 597, Loss : 0.0019410\n",
      "Epoch : 20 / 20,            Step : 250 / 597, Loss : 0.0077291\n",
      "Epoch : 20 / 20,            Step : 500 / 597, Loss : 0.0183692\n"
     ]
    }
   ],
   "source": [
    "# train\n",
    "total_step = len(train_dataloader)\n",
    "num_epochs = 20\n",
    "for epoch in range(num_epochs):\n",
    "    for i, (rnn_x, company_x, group_x, y) in enumerate(train_dataloader):\n",
    "        rnn_x = rnn_x.float().to(device)\n",
    "        company_x = company_x.float().to(device)\n",
    "        group_x = group_x.float().to(device)\n",
    "        y = y.float().to(device)\n",
    "\n",
    "        outputs = model(rnn_x, company_x, group_x)\n",
    "        outputs = outputs.float()\n",
    "        optimizer.zero_grad()\n",
    "        loss = criterion(outputs, y)\n",
    "        loss.backward()\n",
    "        optimizer.step()\n",
    "\n",
    "        if (i+1) % 250 == 0:\n",
    "            print(f'Epoch : {epoch+1} / {num_epochs},\\\n",
    "            Step : {i+1} / {total_step}, Loss : {loss.item():.7f}')"
   ]
  },
  {
   "cell_type": "code",
   "execution_count": 320,
   "metadata": {
    "ExecuteTime": {
     "end_time": "2020-09-11T14:57:30.939457Z",
     "start_time": "2020-09-11T14:57:30.924735Z"
    }
   },
   "outputs": [],
   "source": [
    "## save checkpoints\n",
    "checkpoints = {\n",
    "    'model_state' : model.state_dict(),\n",
    "    'optim_state' : optimizer.state_dict(),\n",
    "}\n",
    " \n",
    "FILE = 'checkpoints.pth'\n",
    "torch.save(checkpoints, FILE)\n",
    " \n",
    "## load checkpoints\n",
    "# loaded_checkpoints = torch.load(FILE)\n",
    "# model.load_state_dict(loaded_checkpoints['model_state'])\n",
    "# optimizer.load_state_dict(loaded_checkpoints['optim_state'])"
   ]
  },
  {
   "cell_type": "code",
   "execution_count": 324,
   "metadata": {
    "ExecuteTime": {
     "end_time": "2020-09-11T14:59:13.630383Z",
     "start_time": "2020-09-11T14:59:11.032011Z"
    }
   },
   "outputs": [],
   "source": [
    "# val\n",
    "total_output = []\n",
    "total_y = []\n",
    "with torch.no_grad():\n",
    "    for i, (rnn_x, company_x, group_x, y) in enumerate(val_dataloader):\n",
    "        rnn_x = rnn_x.float().to(device)\n",
    "        company_x = company_x.float().to(device)\n",
    "        group_x = group_x.float().to(device)\n",
    "\n",
    "        outputs = model(rnn_x, company_x, group_x)\n",
    "        outputs = outputs.to('cpu')\n",
    "        total_output = np.append(total_output, outputs)\n",
    "        total_y = np.append(total_y, y)\n",
    "\n",
    "X_val_scaled_ = X_val_scaled.copy()        \n",
    "X_val_scaled_['target']= total_output\n",
    "X_val_inverse = pd.DataFrame(scaler.inverse_transform(X_val_scaled_), columns=X_train.columns)"
   ]
  },
  {
   "cell_type": "code",
   "execution_count": 331,
   "metadata": {
    "ExecuteTime": {
     "end_time": "2020-09-11T15:00:51.831084Z",
     "start_time": "2020-09-11T15:00:51.824086Z"
    }
   },
   "outputs": [
    {
     "data": {
      "text/plain": [
       "88.35010035409161"
      ]
     },
     "execution_count": 331,
     "metadata": {},
     "output_type": "execute_result"
    }
   ],
   "source": [
    "mean_squared_error(X_val_inverse['target'],X_val['target'])"
   ]
  },
  {
   "cell_type": "code",
   "execution_count": null,
   "metadata": {},
   "outputs": [],
   "source": [
    "print(f'val score : {np.sqrt()}')"
   ]
  },
  {
   "cell_type": "code",
   "execution_count": 155,
   "metadata": {
    "ExecuteTime": {
     "end_time": "2020-09-11T12:38:38.488194Z",
     "start_time": "2020-09-11T12:38:38.322111Z"
    }
   },
   "outputs": [],
   "source": [
    "# df_dropna = pd.read_csv('df_dropna.csv')\n",
    "# test_ = 202006\n",
    "\n",
    "# X_test = df_dropna.loc[df_dropna['기준년월']==test_, :'매수고객수diff2'].reset_index(drop=True)\n",
    "# X_test['year'] = X_test['기준년월'].map(str).map(lambda x : x[:4])\n",
    "# X_test.drop('기준년월', axis=1 ,inplace=True)"
   ]
  },
  {
   "cell_type": "code",
   "execution_count": 157,
   "metadata": {
    "ExecuteTime": {
     "end_time": "2020-09-11T12:38:43.120816Z",
     "start_time": "2020-09-11T12:38:42.991134Z"
    }
   },
   "outputs": [
    {
     "name": "stderr",
     "output_type": "stream",
     "text": [
      "<ipython-input-157-1b0028a3666b>:4: SettingWithCopyWarning: \n",
      "A value is trying to be set on a copy of a slice from a DataFrame.\n",
      "Try using .loc[row_indexer,col_indexer] = value instead\n",
      "\n",
      "See the caveats in the documentation: https://pandas.pydata.org/pandas-docs/stable/user_guide/indexing.html#returning-a-view-versus-a-copy\n",
      "  sub['pred'] = total_output\n"
     ]
    },
    {
     "data": {
      "text/html": [
       "<div>\n",
       "<style scoped>\n",
       "    .dataframe tbody tr th:only-of-type {\n",
       "        vertical-align: middle;\n",
       "    }\n",
       "\n",
       "    .dataframe tbody tr th {\n",
       "        vertical-align: top;\n",
       "    }\n",
       "\n",
       "    .dataframe thead th {\n",
       "        text-align: right;\n",
       "    }\n",
       "</style>\n",
       "<table border=\"1\" class=\"dataframe\">\n",
       "  <thead>\n",
       "    <tr style=\"text-align: right;\">\n",
       "      <th></th>\n",
       "      <th>그룹명</th>\n",
       "      <th>종목번호1</th>\n",
       "      <th>종목번호2</th>\n",
       "      <th>종목번호3</th>\n",
       "    </tr>\n",
       "  </thead>\n",
       "  <tbody>\n",
       "    <tr>\n",
       "      <th>0</th>\n",
       "      <td>MAD01</td>\n",
       "      <td>A000100</td>\n",
       "      <td>A000140</td>\n",
       "      <td>A000440</td>\n",
       "    </tr>\n",
       "    <tr>\n",
       "      <th>1</th>\n",
       "      <td>MAD02</td>\n",
       "      <td>A000100</td>\n",
       "      <td>A000140</td>\n",
       "      <td>A000440</td>\n",
       "    </tr>\n",
       "    <tr>\n",
       "      <th>2</th>\n",
       "      <td>MAD03</td>\n",
       "      <td>A000100</td>\n",
       "      <td>A000140</td>\n",
       "      <td>A000440</td>\n",
       "    </tr>\n",
       "    <tr>\n",
       "      <th>3</th>\n",
       "      <td>MAD04</td>\n",
       "      <td>A000100</td>\n",
       "      <td>A000140</td>\n",
       "      <td>A000440</td>\n",
       "    </tr>\n",
       "    <tr>\n",
       "      <th>4</th>\n",
       "      <td>MAD05</td>\n",
       "      <td>A000100</td>\n",
       "      <td>A000140</td>\n",
       "      <td>A000440</td>\n",
       "    </tr>\n",
       "    <tr>\n",
       "      <th>5</th>\n",
       "      <td>MAD06</td>\n",
       "      <td>A000100</td>\n",
       "      <td>A000140</td>\n",
       "      <td>A000440</td>\n",
       "    </tr>\n",
       "    <tr>\n",
       "      <th>6</th>\n",
       "      <td>MAD07</td>\n",
       "      <td>A000100</td>\n",
       "      <td>A000140</td>\n",
       "      <td>A000440</td>\n",
       "    </tr>\n",
       "    <tr>\n",
       "      <th>7</th>\n",
       "      <td>MAD08</td>\n",
       "      <td>A000100</td>\n",
       "      <td>A000140</td>\n",
       "      <td>A000440</td>\n",
       "    </tr>\n",
       "    <tr>\n",
       "      <th>8</th>\n",
       "      <td>MAD09</td>\n",
       "      <td>A000100</td>\n",
       "      <td>A000140</td>\n",
       "      <td>A000440</td>\n",
       "    </tr>\n",
       "    <tr>\n",
       "      <th>9</th>\n",
       "      <td>MAD10</td>\n",
       "      <td>A000100</td>\n",
       "      <td>A000140</td>\n",
       "      <td>A000440</td>\n",
       "    </tr>\n",
       "    <tr>\n",
       "      <th>10</th>\n",
       "      <td>MAD11</td>\n",
       "      <td>A000100</td>\n",
       "      <td>A000140</td>\n",
       "      <td>A000440</td>\n",
       "    </tr>\n",
       "    <tr>\n",
       "      <th>11</th>\n",
       "      <td>MAD12</td>\n",
       "      <td>A000100</td>\n",
       "      <td>A000140</td>\n",
       "      <td>A000440</td>\n",
       "    </tr>\n",
       "    <tr>\n",
       "      <th>12</th>\n",
       "      <td>MAD13</td>\n",
       "      <td>A000100</td>\n",
       "      <td>A000140</td>\n",
       "      <td>A000440</td>\n",
       "    </tr>\n",
       "    <tr>\n",
       "      <th>13</th>\n",
       "      <td>MAD14</td>\n",
       "      <td>A000100</td>\n",
       "      <td>A000140</td>\n",
       "      <td>A000440</td>\n",
       "    </tr>\n",
       "    <tr>\n",
       "      <th>14</th>\n",
       "      <td>MAD15</td>\n",
       "      <td>A000100</td>\n",
       "      <td>A000140</td>\n",
       "      <td>A000440</td>\n",
       "    </tr>\n",
       "    <tr>\n",
       "      <th>15</th>\n",
       "      <td>MAD16</td>\n",
       "      <td>A000100</td>\n",
       "      <td>A000140</td>\n",
       "      <td>A000440</td>\n",
       "    </tr>\n",
       "    <tr>\n",
       "      <th>16</th>\n",
       "      <td>MAD17</td>\n",
       "      <td>A000100</td>\n",
       "      <td>A000140</td>\n",
       "      <td>A000440</td>\n",
       "    </tr>\n",
       "    <tr>\n",
       "      <th>17</th>\n",
       "      <td>MAD18</td>\n",
       "      <td>A000100</td>\n",
       "      <td>A000140</td>\n",
       "      <td>A000440</td>\n",
       "    </tr>\n",
       "    <tr>\n",
       "      <th>18</th>\n",
       "      <td>MAD19</td>\n",
       "      <td>A000100</td>\n",
       "      <td>A000140</td>\n",
       "      <td>A000440</td>\n",
       "    </tr>\n",
       "    <tr>\n",
       "      <th>19</th>\n",
       "      <td>MAD20</td>\n",
       "      <td>A000100</td>\n",
       "      <td>A000140</td>\n",
       "      <td>A000440</td>\n",
       "    </tr>\n",
       "    <tr>\n",
       "      <th>20</th>\n",
       "      <td>MAD21</td>\n",
       "      <td>A000100</td>\n",
       "      <td>A000140</td>\n",
       "      <td>A000440</td>\n",
       "    </tr>\n",
       "    <tr>\n",
       "      <th>21</th>\n",
       "      <td>MAD22</td>\n",
       "      <td>A000100</td>\n",
       "      <td>A000140</td>\n",
       "      <td>A000440</td>\n",
       "    </tr>\n",
       "    <tr>\n",
       "      <th>22</th>\n",
       "      <td>MAD23</td>\n",
       "      <td>A000100</td>\n",
       "      <td>A000140</td>\n",
       "      <td>A000440</td>\n",
       "    </tr>\n",
       "    <tr>\n",
       "      <th>23</th>\n",
       "      <td>MAD24</td>\n",
       "      <td>A000100</td>\n",
       "      <td>A000140</td>\n",
       "      <td>A000440</td>\n",
       "    </tr>\n",
       "    <tr>\n",
       "      <th>24</th>\n",
       "      <td>MAD25</td>\n",
       "      <td>A000100</td>\n",
       "      <td>A000140</td>\n",
       "      <td>A000440</td>\n",
       "    </tr>\n",
       "    <tr>\n",
       "      <th>25</th>\n",
       "      <td>MAD26</td>\n",
       "      <td>A000100</td>\n",
       "      <td>A000140</td>\n",
       "      <td>A000440</td>\n",
       "    </tr>\n",
       "    <tr>\n",
       "      <th>26</th>\n",
       "      <td>MAD27</td>\n",
       "      <td>A000100</td>\n",
       "      <td>A000140</td>\n",
       "      <td>A000440</td>\n",
       "    </tr>\n",
       "    <tr>\n",
       "      <th>27</th>\n",
       "      <td>MAD28</td>\n",
       "      <td>A000100</td>\n",
       "      <td>A000140</td>\n",
       "      <td>A000440</td>\n",
       "    </tr>\n",
       "    <tr>\n",
       "      <th>28</th>\n",
       "      <td>MAD29</td>\n",
       "      <td>A000100</td>\n",
       "      <td>A000140</td>\n",
       "      <td>A000440</td>\n",
       "    </tr>\n",
       "    <tr>\n",
       "      <th>29</th>\n",
       "      <td>MAD30</td>\n",
       "      <td>A000100</td>\n",
       "      <td>A000140</td>\n",
       "      <td>A000440</td>\n",
       "    </tr>\n",
       "    <tr>\n",
       "      <th>30</th>\n",
       "      <td>MAD31</td>\n",
       "      <td>A000100</td>\n",
       "      <td>A000140</td>\n",
       "      <td>A000440</td>\n",
       "    </tr>\n",
       "    <tr>\n",
       "      <th>31</th>\n",
       "      <td>MAD32</td>\n",
       "      <td>A000100</td>\n",
       "      <td>A000140</td>\n",
       "      <td>A000440</td>\n",
       "    </tr>\n",
       "    <tr>\n",
       "      <th>32</th>\n",
       "      <td>MAD33</td>\n",
       "      <td>A000100</td>\n",
       "      <td>A000140</td>\n",
       "      <td>A000440</td>\n",
       "    </tr>\n",
       "    <tr>\n",
       "      <th>33</th>\n",
       "      <td>MAD34</td>\n",
       "      <td>A000100</td>\n",
       "      <td>A000140</td>\n",
       "      <td>A000440</td>\n",
       "    </tr>\n",
       "    <tr>\n",
       "      <th>34</th>\n",
       "      <td>MAD35</td>\n",
       "      <td>A000100</td>\n",
       "      <td>A000140</td>\n",
       "      <td>A000440</td>\n",
       "    </tr>\n",
       "    <tr>\n",
       "      <th>35</th>\n",
       "      <td>MAD36</td>\n",
       "      <td>A000100</td>\n",
       "      <td>A000140</td>\n",
       "      <td>A000440</td>\n",
       "    </tr>\n",
       "    <tr>\n",
       "      <th>36</th>\n",
       "      <td>MAD37</td>\n",
       "      <td>A000100</td>\n",
       "      <td>A000140</td>\n",
       "      <td>A000440</td>\n",
       "    </tr>\n",
       "    <tr>\n",
       "      <th>37</th>\n",
       "      <td>MAD38</td>\n",
       "      <td>A000100</td>\n",
       "      <td>A000140</td>\n",
       "      <td>A000440</td>\n",
       "    </tr>\n",
       "    <tr>\n",
       "      <th>38</th>\n",
       "      <td>MAD39</td>\n",
       "      <td>A000100</td>\n",
       "      <td>A000140</td>\n",
       "      <td>A000440</td>\n",
       "    </tr>\n",
       "    <tr>\n",
       "      <th>39</th>\n",
       "      <td>MAD40</td>\n",
       "      <td>A000100</td>\n",
       "      <td>A000140</td>\n",
       "      <td>A000440</td>\n",
       "    </tr>\n",
       "    <tr>\n",
       "      <th>40</th>\n",
       "      <td>MAD41</td>\n",
       "      <td>A000100</td>\n",
       "      <td>A000140</td>\n",
       "      <td>A000440</td>\n",
       "    </tr>\n",
       "    <tr>\n",
       "      <th>41</th>\n",
       "      <td>MAD42</td>\n",
       "      <td>A000100</td>\n",
       "      <td>A000140</td>\n",
       "      <td>A000440</td>\n",
       "    </tr>\n",
       "    <tr>\n",
       "      <th>42</th>\n",
       "      <td>MAD43</td>\n",
       "      <td>A000100</td>\n",
       "      <td>A000140</td>\n",
       "      <td>A000440</td>\n",
       "    </tr>\n",
       "    <tr>\n",
       "      <th>43</th>\n",
       "      <td>MAD44</td>\n",
       "      <td>A000100</td>\n",
       "      <td>A000140</td>\n",
       "      <td>A000440</td>\n",
       "    </tr>\n",
       "    <tr>\n",
       "      <th>44</th>\n",
       "      <td>MAD45</td>\n",
       "      <td>A000100</td>\n",
       "      <td>A000140</td>\n",
       "      <td>A000440</td>\n",
       "    </tr>\n",
       "    <tr>\n",
       "      <th>45</th>\n",
       "      <td>MAD46</td>\n",
       "      <td>A000100</td>\n",
       "      <td>A000140</td>\n",
       "      <td>A000440</td>\n",
       "    </tr>\n",
       "    <tr>\n",
       "      <th>46</th>\n",
       "      <td>MAD47</td>\n",
       "      <td>A000100</td>\n",
       "      <td>A000140</td>\n",
       "      <td>A000440</td>\n",
       "    </tr>\n",
       "    <tr>\n",
       "      <th>47</th>\n",
       "      <td>MAD48</td>\n",
       "      <td>A000100</td>\n",
       "      <td>A000140</td>\n",
       "      <td>A000440</td>\n",
       "    </tr>\n",
       "  </tbody>\n",
       "</table>\n",
       "</div>"
      ],
      "text/plain": [
       "      그룹명    종목번호1    종목번호2    종목번호3\n",
       "0   MAD01  A000100  A000140  A000440\n",
       "1   MAD02  A000100  A000140  A000440\n",
       "2   MAD03  A000100  A000140  A000440\n",
       "3   MAD04  A000100  A000140  A000440\n",
       "4   MAD05  A000100  A000140  A000440\n",
       "5   MAD06  A000100  A000140  A000440\n",
       "6   MAD07  A000100  A000140  A000440\n",
       "7   MAD08  A000100  A000140  A000440\n",
       "8   MAD09  A000100  A000140  A000440\n",
       "9   MAD10  A000100  A000140  A000440\n",
       "10  MAD11  A000100  A000140  A000440\n",
       "11  MAD12  A000100  A000140  A000440\n",
       "12  MAD13  A000100  A000140  A000440\n",
       "13  MAD14  A000100  A000140  A000440\n",
       "14  MAD15  A000100  A000140  A000440\n",
       "15  MAD16  A000100  A000140  A000440\n",
       "16  MAD17  A000100  A000140  A000440\n",
       "17  MAD18  A000100  A000140  A000440\n",
       "18  MAD19  A000100  A000140  A000440\n",
       "19  MAD20  A000100  A000140  A000440\n",
       "20  MAD21  A000100  A000140  A000440\n",
       "21  MAD22  A000100  A000140  A000440\n",
       "22  MAD23  A000100  A000140  A000440\n",
       "23  MAD24  A000100  A000140  A000440\n",
       "24  MAD25  A000100  A000140  A000440\n",
       "25  MAD26  A000100  A000140  A000440\n",
       "26  MAD27  A000100  A000140  A000440\n",
       "27  MAD28  A000100  A000140  A000440\n",
       "28  MAD29  A000100  A000140  A000440\n",
       "29  MAD30  A000100  A000140  A000440\n",
       "30  MAD31  A000100  A000140  A000440\n",
       "31  MAD32  A000100  A000140  A000440\n",
       "32  MAD33  A000100  A000140  A000440\n",
       "33  MAD34  A000100  A000140  A000440\n",
       "34  MAD35  A000100  A000140  A000440\n",
       "35  MAD36  A000100  A000140  A000440\n",
       "36  MAD37  A000100  A000140  A000440\n",
       "37  MAD38  A000100  A000140  A000440\n",
       "38  MAD39  A000100  A000140  A000440\n",
       "39  MAD40  A000100  A000140  A000440\n",
       "40  MAD41  A000100  A000140  A000440\n",
       "41  MAD42  A000100  A000140  A000440\n",
       "42  MAD43  A000100  A000140  A000440\n",
       "43  MAD44  A000100  A000140  A000440\n",
       "44  MAD45  A000100  A000140  A000440\n",
       "45  MAD46  A000100  A000140  A000440\n",
       "46  MAD47  A000100  A000140  A000440\n",
       "47  MAD48  A000100  A000140  A000440"
      ]
     },
     "execution_count": 157,
     "metadata": {},
     "output_type": "execute_result"
    }
   ],
   "source": [
    "answer = pd.read_csv('answer_sheet.csv')\n",
    "result_cols = ['종목번호','그룹번호']\n",
    "sub = X_test[result_cols]\n",
    "sub['pred'] = total_output\n",
    "\n",
    "sub = sub.sort_values(by=['그룹번호','pred'], ascending=[True, False])\n",
    "group_num = sub['그룹번호'].unique()\n",
    "\n",
    "for num in group_num:\n",
    "    val = sub.loc[sub['그룹번호']==num][:3]['종목번호'].sort_values().values\n",
    "    answer.loc[answer['그룹명']==num,'종목번호1':] = val\n",
    "answer"
   ]
  },
  {
   "cell_type": "code",
   "execution_count": null,
   "metadata": {},
   "outputs": [],
   "source": []
  }
 ],
 "metadata": {
  "kernelspec": {
   "display_name": "Python 3",
   "language": "python",
   "name": "python3"
  },
  "language_info": {
   "codemirror_mode": {
    "name": "ipython",
    "version": 3
   },
   "file_extension": ".py",
   "mimetype": "text/x-python",
   "name": "python",
   "nbconvert_exporter": "python",
   "pygments_lexer": "ipython3",
   "version": "3.8.3"
  }
 },
 "nbformat": 4,
 "nbformat_minor": 4
}
