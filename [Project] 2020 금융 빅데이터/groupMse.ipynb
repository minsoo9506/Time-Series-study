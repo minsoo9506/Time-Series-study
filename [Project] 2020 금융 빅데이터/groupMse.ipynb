{
 "metadata": {
  "language_info": {
   "codemirror_mode": {
    "name": "ipython",
    "version": 3
   },
   "file_extension": ".py",
   "mimetype": "text/x-python",
   "name": "python",
   "nbconvert_exporter": "python",
   "pygments_lexer": "ipython3",
   "version": "3.8.3-final"
  },
  "orig_nbformat": 2,
  "kernelspec": {
   "name": "python_defaultSpec_1600651868013",
   "display_name": "Python 3.8.3 64-bit ('pytorch': conda)"
  }
 },
 "nbformat": 4,
 "nbformat_minor": 2,
 "cells": [
  {
   "cell_type": "code",
   "execution_count": 58,
   "metadata": {
    "tags": []
   },
   "outputs": [
    {
     "output_type": "stream",
     "name": "stdout",
     "text": "weight_idx : [0, 6144, 12336, 18528, 24864, 31248, 37680, 44112]\nweight_idx : [0, 3840, 7710, 11580, 15540, 19530, 23550, 27570]\nweight_idx : [0, 1408, 2827, 4246, 5698, 7161, 8635, 10109]\nweight_idx : [0, 896, 1799, 2702, 3626, 4557, 5495, 6433]\n"
    }
   ],
   "source": [
    "import pandas as pd\n",
    "import numpy as np\n",
    "import matplotlib.pyplot as plt\n",
    "import seaborn as sns\n",
    "\n",
    "trade = pd.read_csv('trade_train.csv', index_col=0)\n",
    "stock = pd.read_csv('stocks.csv'\n",
    ", index_col=0)\n",
    "answer = pd.read_csv('answer_sheet.csv')\n",
    "\n",
    "from DataSet import makeDataset, makeCV, encoding, makeSub\n",
    "from myModel import modelCatboost, modelLightgbm, linear\n",
    "from sklearn.metrics import mean_squared_error\n",
    "\n",
    "best_feature = [\n",
    "       '종목번호', \n",
    "       '거래량_mean_weekdiff41',  '거래금액_mean', '거래량4_mean', \n",
    "       '그룹번호', \n",
    "       '매수고객수', '매수고객수rolling_mean2', '매수고객수rolling_mean3',\n",
    "       '매수고객수rolling_std2', '매수고객수rolling_std3',\n",
    "       '매수고객수rolling_max2', '매수고객수rolling_max3', \n",
    "       '매수고객수rolling_min2', '매수고객수rolling_min3', \n",
    "       '매수고객수diff1', '매수고객수diff2']\n",
    "\n",
    "#df_rolling23_diff12_MinMax.to_csv('df_rolling23_diff12_MinMax.csv', index=False)\n",
    "df= pd.read_csv('df_rolling23_diff12_MinMax.csv')\n",
    "\n",
    "X_train_cat, y_train_cat, X_val_cat, y_val_cat, X_test_cat = \\\n",
    "    makeCV(df.reset_index(), train_=[201909, 201910, 201911, 201912, 202001, 202002, 202003, 202004], use_catboost=True)\n",
    "\n",
    "X_train_cat1, y_train_cat1, X_val_cat1, y_val_cat1, X_test_cat1 = \\\n",
    "    makeCV(df.loc[df['group_mse']==1].reset_index(drop=True), \n",
    "    train_=[201909, 201910, 201911, 201912, 202001, 202002, 202003, 202004], use_catboost=True)\n",
    "X_train_cat2, y_train_cat2, X_val_cat2, y_val_cat2, X_test_cat2 = \\\n",
    "    makeCV(df.loc[df['group_mse']==2].reset_index(drop=True), \n",
    "    train_=[201909, 201910, 201911, 201912, 202001, 202002, 202003, 202004], use_catboost=True)\n",
    "X_train_cat3, y_train_cat3, X_val_cat3, y_val_cat3, X_test_cat3 = \\\n",
    "    makeCV(df.loc[df['group_mse']==3].reset_index(drop=True), \n",
    "    train_=[201909, 201910, 201911, 201912, 202001, 202002, 202003, 202004], use_catboost=True)\n"
   ]
  },
  {
   "cell_type": "code",
   "execution_count": 59,
   "metadata": {
    "tags": []
   },
   "outputs": [
    {
     "output_type": "stream",
     "name": "stdout",
     "text": "Learning rate set to 0.040956\n0:\tlearn: 3.2095593\ttest: 4.8485333\tbest: 4.8485333 (0)\ttotal: 22ms\tremaining: 1m 49s\n100:\tlearn: 2.3205616\ttest: 3.4270793\tbest: 3.4270793 (100)\ttotal: 2.35s\tremaining: 1m 54s\n200:\tlearn: 2.1918016\ttest: 3.3441897\tbest: 3.3428964 (191)\ttotal: 4.73s\tremaining: 1m 52s\n300:\tlearn: 2.1201100\ttest: 3.3157734\tbest: 3.3135733 (288)\ttotal: 6.84s\tremaining: 1m 46s\n400:\tlearn: 2.0925218\ttest: 3.3144308\tbest: 3.3103953 (391)\ttotal: 8.92s\tremaining: 1m 42s\n500:\tlearn: 2.0580252\ttest: 3.3286573\tbest: 3.3103953 (391)\ttotal: 11.1s\tremaining: 1m 39s\n600:\tlearn: 2.0437160\ttest: 3.3302256\tbest: 3.3103953 (391)\ttotal: 13s\tremaining: 1m 35s\n700:\tlearn: 2.0056427\ttest: 3.3162966\tbest: 3.3103953 (391)\ttotal: 15.2s\tremaining: 1m 33s\n800:\tlearn: 1.9769384\ttest: 3.2987070\tbest: 3.2960663 (775)\ttotal: 17.3s\tremaining: 1m 30s\n900:\tlearn: 1.9388929\ttest: 3.2712922\tbest: 3.2710416 (896)\ttotal: 19.7s\tremaining: 1m 29s\n1000:\tlearn: 1.9152073\ttest: 3.2510415\tbest: 3.2453136 (964)\ttotal: 21.8s\tremaining: 1m 27s\n1100:\tlearn: 1.8846356\ttest: 3.2228912\tbest: 3.2193681 (1084)\ttotal: 24s\tremaining: 1m 25s\n1200:\tlearn: 1.8679905\ttest: 3.2179470\tbest: 3.2141202 (1149)\ttotal: 26.1s\tremaining: 1m 22s\n1300:\tlearn: 1.8307067\ttest: 3.1810885\tbest: 3.1793475 (1283)\ttotal: 28.4s\tremaining: 1m 20s\n1400:\tlearn: 1.8189155\ttest: 3.1769716\tbest: 3.1758106 (1341)\ttotal: 30.6s\tremaining: 1m 18s\n1500:\tlearn: 1.7965182\ttest: 3.1583510\tbest: 3.1577277 (1486)\ttotal: 32.8s\tremaining: 1m 16s\n1600:\tlearn: 1.7828331\ttest: 3.1437616\tbest: 3.1435553 (1576)\ttotal: 35s\tremaining: 1m 14s\n1700:\tlearn: 1.7716240\ttest: 3.1292838\tbest: 3.1287582 (1692)\ttotal: 37.3s\tremaining: 1m 12s\n1800:\tlearn: 1.7599466\ttest: 3.1135334\tbest: 3.1129447 (1797)\ttotal: 40s\tremaining: 1m 10s\n1900:\tlearn: 1.7448910\ttest: 3.1044491\tbest: 3.1040254 (1896)\ttotal: 42.4s\tremaining: 1m 9s\n2000:\tlearn: 1.7319580\ttest: 3.1020889\tbest: 3.0963844 (1946)\ttotal: 44.6s\tremaining: 1m 6s\n2100:\tlearn: 1.7193848\ttest: 3.0998873\tbest: 3.0963844 (1946)\ttotal: 47s\tremaining: 1m 4s\n2200:\tlearn: 1.7108600\ttest: 3.1019276\tbest: 3.0963844 (1946)\ttotal: 49.3s\tremaining: 1m 2s\n2300:\tlearn: 1.7027429\ttest: 3.0884265\tbest: 3.0884265 (2300)\ttotal: 51.6s\tremaining: 1m\n2400:\tlearn: 1.6851903\ttest: 3.0768733\tbest: 3.0764912 (2399)\ttotal: 53.9s\tremaining: 58.4s\n2500:\tlearn: 1.6759888\ttest: 3.0626521\tbest: 3.0618074 (2493)\ttotal: 56.1s\tremaining: 56s\n2600:\tlearn: 1.6620902\ttest: 3.0430704\tbest: 3.0408651 (2539)\ttotal: 58.4s\tremaining: 53.9s\n2700:\tlearn: 1.6586631\ttest: 3.0467246\tbest: 3.0408651 (2539)\ttotal: 1m\tremaining: 51.8s\n2800:\tlearn: 1.6512652\ttest: 3.0437882\tbest: 3.0408651 (2539)\ttotal: 1m 3s\tremaining: 49.5s\n2900:\tlearn: 1.6450073\ttest: 3.0396333\tbest: 3.0384789 (2879)\ttotal: 1m 5s\tremaining: 47.4s\n3000:\tlearn: 1.6228553\ttest: 3.0160332\tbest: 3.0154239 (2997)\ttotal: 1m 7s\tremaining: 45.1s\n3100:\tlearn: 1.6195697\ttest: 3.0123108\tbest: 3.0119918 (3074)\ttotal: 1m 9s\tremaining: 42.9s\n3200:\tlearn: 1.6136611\ttest: 3.0146127\tbest: 3.0119918 (3074)\ttotal: 1m 12s\tremaining: 40.6s\n3300:\tlearn: 1.6106488\ttest: 3.0181810\tbest: 3.0119918 (3074)\ttotal: 1m 14s\tremaining: 38.4s\n3400:\tlearn: 1.6079387\ttest: 3.0197238\tbest: 3.0119918 (3074)\ttotal: 1m 16s\tremaining: 36.2s\n3500:\tlearn: 1.6034561\ttest: 3.0155708\tbest: 3.0119918 (3074)\ttotal: 1m 19s\tremaining: 33.9s\n3600:\tlearn: 1.5995040\ttest: 3.0135775\tbest: 3.0105594 (3524)\ttotal: 1m 21s\tremaining: 31.7s\n3700:\tlearn: 1.5979148\ttest: 3.0135183\tbest: 3.0105594 (3524)\ttotal: 1m 23s\tremaining: 29.5s\n3800:\tlearn: 1.5925533\ttest: 3.0061205\tbest: 3.0057601 (3789)\ttotal: 1m 26s\tremaining: 27.2s\n3900:\tlearn: 1.5858555\ttest: 3.0007901\tbest: 2.9992517 (3843)\ttotal: 1m 28s\tremaining: 24.9s\n4000:\tlearn: 1.5778636\ttest: 2.9880279\tbest: 2.9869849 (3991)\ttotal: 1m 31s\tremaining: 22.7s\n4100:\tlearn: 1.5711502\ttest: 2.9799212\tbest: 2.9753543 (4032)\ttotal: 1m 33s\tremaining: 20.5s\n4200:\tlearn: 1.5695744\ttest: 2.9819745\tbest: 2.9753543 (4032)\ttotal: 1m 35s\tremaining: 18.2s\n4300:\tlearn: 1.5680528\ttest: 2.9813815\tbest: 2.9753543 (4032)\ttotal: 1m 38s\tremaining: 16s\n4400:\tlearn: 1.5671377\ttest: 2.9806996\tbest: 2.9753543 (4032)\ttotal: 1m 40s\tremaining: 13.7s\n4500:\tlearn: 1.5645947\ttest: 2.9776931\tbest: 2.9753543 (4032)\ttotal: 1m 43s\tremaining: 11.4s\nbestTest = 2.975354332\nbestIteration = 4032\nShrink model to first 4033 iterations.\ncatboost best score\n{'learn': {'RMSE': 1.5636435162073294}, 'validation': {'RMSE': 2.975354332394046}}\n"
    }
   ],
   "source": [
    "params = {\n",
    "    'iterations': 5000,\n",
    "    # 'learning_rate': 0.01,\n",
    "    'random_seed': 42,\n",
    "    'use_best_model': True,\n",
    "    'task_type' : 'GPU',\n",
    "    'border_count' : 254,\n",
    "    'depth' : 6,\n",
    "    'early_stopping_rounds' : 500,\n",
    "    'eval_metric' : 'RMSE' \n",
    "}\n",
    "category_cols = ['종목번호', '그룹번호']\n",
    "weight = {0:1, 3840:1, 7710:1, 11580:1, 15540:5, 19530:5, 23550:5, 27570:5}\n",
    "\n",
    "model_cat_1, pred_train_cat_1, pred_val_cat_1, pred_test_cat_1=\\\n",
    "    modelCatboost(X_train_cat1, y_train_cat1, X_val_cat1, y_val_cat1, X_test_cat1, \\\n",
    "                  category_cols, params=params, selected_feature=best_feature, weight=weight)"
   ]
  },
  {
   "cell_type": "code",
   "execution_count": 60,
   "metadata": {
    "tags": []
   },
   "outputs": [
    {
     "output_type": "stream",
     "name": "stdout",
     "text": "Learning rate set to 0.038913\n0:\tlearn: 9.2605969\ttest: 13.5467485\tbest: 13.5467485 (0)\ttotal: 26ms\tremaining: 2m 9s\n100:\tlearn: 5.0845333\ttest: 7.7975933\tbest: 7.7975933 (100)\ttotal: 1.78s\tremaining: 1m 26s\n200:\tlearn: 4.3794828\ttest: 6.9964601\tbest: 6.9964601 (200)\ttotal: 3.87s\tremaining: 1m 32s\n300:\tlearn: 4.1095649\ttest: 6.7947538\tbest: 6.7925170 (295)\ttotal: 6.03s\tremaining: 1m 34s\n400:\tlearn: 3.9337517\ttest: 6.7203014\tbest: 6.7176395 (396)\ttotal: 8.12s\tremaining: 1m 33s\n500:\tlearn: 3.8105959\ttest: 6.6479320\tbest: 6.6453938 (498)\ttotal: 10.2s\tremaining: 1m 31s\n600:\tlearn: 3.7229339\ttest: 6.5779088\tbest: 6.5779088 (600)\ttotal: 12.3s\tremaining: 1m 30s\n700:\tlearn: 3.6627877\ttest: 6.5435834\tbest: 6.5435834 (700)\ttotal: 14.4s\tremaining: 1m 28s\n800:\tlearn: 3.6234269\ttest: 6.4995658\tbest: 6.4907329 (784)\ttotal: 16.5s\tremaining: 1m 26s\n900:\tlearn: 3.5722215\ttest: 6.4352328\tbest: 6.4352328 (900)\ttotal: 18.7s\tremaining: 1m 25s\n1000:\tlearn: 3.5294487\ttest: 6.4117137\tbest: 6.4117137 (1000)\ttotal: 20.8s\tremaining: 1m 22s\n1100:\tlearn: 3.4930160\ttest: 6.3640712\tbest: 6.3640712 (1100)\ttotal: 23s\tremaining: 1m 21s\n1200:\tlearn: 3.4436037\ttest: 6.3387736\tbest: 6.3344437 (1186)\ttotal: 25s\tremaining: 1m 19s\n1300:\tlearn: 3.4072114\ttest: 6.2917632\tbest: 6.2889098 (1298)\ttotal: 27.2s\tremaining: 1m 17s\n1400:\tlearn: 3.3885600\ttest: 6.2730893\tbest: 6.2722140 (1386)\ttotal: 29.3s\tremaining: 1m 15s\n1500:\tlearn: 3.3659284\ttest: 6.2533363\tbest: 6.2502955 (1478)\ttotal: 31.4s\tremaining: 1m 13s\n1600:\tlearn: 3.3271047\ttest: 6.2434474\tbest: 6.2434445 (1599)\ttotal: 33.6s\tremaining: 1m 11s\n1700:\tlearn: 3.3103765\ttest: 6.2779390\tbest: 6.2423866 (1603)\ttotal: 35.7s\tremaining: 1m 9s\n1800:\tlearn: 3.2865927\ttest: 6.2611789\tbest: 6.2423866 (1603)\ttotal: 38s\tremaining: 1m 7s\n1900:\tlearn: 3.2700830\ttest: 6.2715696\tbest: 6.2423866 (1603)\ttotal: 39.9s\tremaining: 1m 5s\n2000:\tlearn: 3.2458937\ttest: 6.2694059\tbest: 6.2423866 (1603)\ttotal: 42s\tremaining: 1m 3s\n2100:\tlearn: 3.2271420\ttest: 6.2517297\tbest: 6.2423866 (1603)\ttotal: 44.2s\tremaining: 1m\nbestTest = 6.242386603\nbestIteration = 1603\nShrink model to first 1604 iterations.\ncatboost best score\n{'learn': {'RMSE': 3.2261199195343377}, 'validation': {'RMSE': 6.242386602718155}}\n"
    }
   ],
   "source": [
    "params = {\n",
    "    'iterations': 5000,\n",
    "    # 'learning_rate': 0.01,\n",
    "    'random_seed': 42,\n",
    "    'use_best_model': True,\n",
    "    'task_type' : 'GPU',\n",
    "    'border_count' : 254,\n",
    "    'depth' : 6,\n",
    "    'early_stopping_rounds' : 500,\n",
    "    'eval_metric' : 'RMSE' \n",
    "}\n",
    "category_cols = ['종목번호', '그룹번호']\n",
    "weight = {0:1, 1408:1, 2827:1, 4246:1, 5698:5, 7161:5, 8635:5, 10109:5}\n",
    "\n",
    "model_cat_2, pred_train_cat_2, pred_val_cat_2, pred_test_cat_2=\\\n",
    "    modelCatboost(X_train_cat2, y_train_cat2, X_val_cat2, y_val_cat2, X_test_cat2, \\\n",
    "                  category_cols, params=params, selected_feature=best_feature, weight=weight)"
   ]
  },
  {
   "cell_type": "code",
   "execution_count": 61,
   "metadata": {
    "tags": []
   },
   "outputs": [
    {
     "output_type": "stream",
     "name": "stdout",
     "text": "Learning rate set to 0.038027\n0:\tlearn: 32.1910764\ttest: 48.7606639\tbest: 48.7606639 (0)\ttotal: 17.6ms\tremaining: 1m 28s\n100:\tlearn: 12.3453563\ttest: 21.6658606\tbest: 21.6658606 (100)\ttotal: 2.35s\tremaining: 1m 54s\n200:\tlearn: 11.0792483\ttest: 19.1664363\tbest: 19.1625909 (199)\ttotal: 4.75s\tremaining: 1m 53s\n300:\tlearn: 10.5392283\ttest: 18.5128544\tbest: 18.5128544 (300)\ttotal: 7.22s\tremaining: 1m 52s\n400:\tlearn: 10.1174902\ttest: 18.4922584\tbest: 18.4890503 (398)\ttotal: 9.58s\tremaining: 1m 49s\n500:\tlearn: 9.8344553\ttest: 18.2654993\tbest: 18.2546216 (495)\ttotal: 12s\tremaining: 1m 47s\n600:\tlearn: 9.5850059\ttest: 18.3064742\tbest: 18.2546216 (495)\ttotal: 14.4s\tremaining: 1m 45s\n700:\tlearn: 9.3995128\ttest: 18.3317567\tbest: 18.2284417 (645)\ttotal: 16.6s\tremaining: 1m 42s\n800:\tlearn: 9.1947910\ttest: 18.4469269\tbest: 18.2284417 (645)\ttotal: 18.9s\tremaining: 1m 39s\n900:\tlearn: 8.9850765\ttest: 18.6459873\tbest: 18.2284417 (645)\ttotal: 21.3s\tremaining: 1m 36s\n1000:\tlearn: 8.7829937\ttest: 18.7445514\tbest: 18.2284417 (645)\ttotal: 23.7s\tremaining: 1m 34s\n1100:\tlearn: 8.6622999\ttest: 18.7068747\tbest: 18.2284417 (645)\ttotal: 26s\tremaining: 1m 32s\nbestTest = 18.22844168\nbestIteration = 645\nShrink model to first 646 iterations.\ncatboost best score\n{'learn': {'RMSE': 8.61617414472973}, 'validation': {'RMSE': 18.228441680171677}}\n"
    }
   ],
   "source": [
    "params = {\n",
    "    'iterations': 5000,\n",
    "    # 'learning_rate': 0.01,\n",
    "    'random_seed': 42,\n",
    "    'use_best_model': True,\n",
    "    'task_type' : 'GPU',\n",
    "    'border_count' : 254,\n",
    "    'depth' : 6,\n",
    "    'early_stopping_rounds' : 500,\n",
    "    'eval_metric' : 'RMSE' \n",
    "}\n",
    "category_cols = ['종목번호', '그룹번호']\n",
    "weight = {0:1, 896:1, 1799:1, 2702:1, 3626:5, 4557:5, 5495:5, 6433:5}\n",
    "\n",
    "model_cat_3, pred_train_cat_3, pred_val_cat_3, pred_test_cat_3=\\\n",
    "    modelCatboost(X_train_cat3, y_train_cat3, X_val_cat3, y_val_cat3, X_test_cat3, \\\n",
    "                  category_cols, params=params, selected_feature=best_feature, weight=weight)"
   ]
  },
  {
   "source": [
    "# 약간 under fitting 시킨 catboost"
   ],
   "cell_type": "markdown",
   "metadata": {}
  },
  {
   "cell_type": "code",
   "execution_count": 62,
   "metadata": {
    "tags": []
   },
   "outputs": [
    {
     "output_type": "stream",
     "name": "stdout",
     "text": "0:\tlearn: 13.1041855\ttest: 20.7482541\tbest: 20.7482541 (0)\ttotal: 13.6ms\tremaining: 2m 16s\n100:\tlearn: 7.8101906\ttest: 13.0258172\tbest: 13.0258172 (100)\ttotal: 1.36s\tremaining: 2m 13s\n200:\tlearn: 6.8392821\ttest: 11.6999262\tbest: 11.6999262 (200)\ttotal: 2.86s\tremaining: 2m 19s\n300:\tlearn: 6.5619220\ttest: 11.3923902\tbest: 11.3923902 (300)\ttotal: 4.45s\tremaining: 2m 23s\n400:\tlearn: 6.4287964\ttest: 11.1990832\tbest: 11.1990832 (400)\ttotal: 6.01s\tremaining: 2m 23s\n500:\tlearn: 6.3248835\ttest: 11.0711219\tbest: 11.0711219 (500)\ttotal: 7.46s\tremaining: 2m 21s\n600:\tlearn: 6.2658104\ttest: 10.9592645\tbest: 10.9591191 (599)\ttotal: 8.93s\tremaining: 2m 19s\n700:\tlearn: 6.1915109\ttest: 10.8552106\tbest: 10.8534828 (693)\ttotal: 10.4s\tremaining: 2m 17s\n800:\tlearn: 6.1360393\ttest: 10.7901292\tbest: 10.7901292 (800)\ttotal: 11.8s\tremaining: 2m 15s\n900:\tlearn: 6.1106321\ttest: 10.7267004\tbest: 10.7267004 (900)\ttotal: 13.3s\tremaining: 2m 14s\n1000:\tlearn: 6.0828755\ttest: 10.6787267\tbest: 10.6780265 (983)\ttotal: 14.8s\tremaining: 2m 12s\n1100:\tlearn: 6.0572281\ttest: 10.6719086\tbest: 10.6645764 (1051)\ttotal: 16.1s\tremaining: 2m 10s\n1200:\tlearn: 6.0167139\ttest: 10.6606099\tbest: 10.6578960 (1192)\ttotal: 17.5s\tremaining: 2m 8s\n1300:\tlearn: 6.0017203\ttest: 10.6462136\tbest: 10.6452488 (1297)\ttotal: 18.9s\tremaining: 2m 6s\n1400:\tlearn: 5.9852923\ttest: 10.6346610\tbest: 10.6323746 (1395)\ttotal: 20.4s\tremaining: 2m 5s\n1500:\tlearn: 5.9691544\ttest: 10.5952085\tbest: 10.5950164 (1494)\ttotal: 21.8s\tremaining: 2m 3s\n1600:\tlearn: 5.9554522\ttest: 10.5941116\tbest: 10.5929701 (1580)\ttotal: 23.2s\tremaining: 2m 1s\n1700:\tlearn: 5.9360226\ttest: 10.6046648\tbest: 10.5929701 (1580)\ttotal: 24.7s\tremaining: 2m\n1800:\tlearn: 5.9182608\ttest: 10.6036385\tbest: 10.5929701 (1580)\ttotal: 26.3s\tremaining: 1m 59s\n1900:\tlearn: 5.9003657\ttest: 10.6099162\tbest: 10.5929701 (1580)\ttotal: 27.7s\tremaining: 1m 58s\n2000:\tlearn: 5.8820566\ttest: 10.5917720\tbest: 10.5911449 (1998)\ttotal: 29.3s\tremaining: 1m 57s\n2100:\tlearn: 5.8704606\ttest: 10.5943671\tbest: 10.5899407 (2064)\ttotal: 30.8s\tremaining: 1m 55s\n2200:\tlearn: 5.8642885\ttest: 10.5997638\tbest: 10.5899407 (2064)\ttotal: 32.4s\tremaining: 1m 54s\n2300:\tlearn: 5.8594016\ttest: 10.6008909\tbest: 10.5899407 (2064)\ttotal: 33.9s\tremaining: 1m 53s\n2400:\tlearn: 5.8547877\ttest: 10.6043121\tbest: 10.5899407 (2064)\ttotal: 35.4s\tremaining: 1m 52s\n2500:\tlearn: 5.8339876\ttest: 10.6058047\tbest: 10.5899407 (2064)\ttotal: 37s\tremaining: 1m 50s\n2600:\tlearn: 5.8218908\ttest: 10.6004637\tbest: 10.5899407 (2064)\ttotal: 38.6s\tremaining: 1m 49s\n2700:\tlearn: 5.7942268\ttest: 10.6074812\tbest: 10.5899407 (2064)\ttotal: 40.1s\tremaining: 1m 48s\n2800:\tlearn: 5.7821544\ttest: 10.6165636\tbest: 10.5899407 (2064)\ttotal: 41.7s\tremaining: 1m 47s\n2900:\tlearn: 5.7799486\ttest: 10.6202973\tbest: 10.5899407 (2064)\ttotal: 43.2s\tremaining: 1m 45s\n3000:\tlearn: 5.7756303\ttest: 10.6235769\tbest: 10.5899407 (2064)\ttotal: 44.8s\tremaining: 1m 44s\nbestTest = 10.58994069\nbestIteration = 2064\nShrink model to first 2065 iterations.\ncatboost best score\n{'learn': {'RMSE': 5.771088841750324}, 'validation': {'RMSE': 10.589940694143317}}\n"
    }
   ],
   "source": [
    "# catboost\n",
    "params = {\n",
    "    'iterations': 10000,\n",
    "    'learning_rate': 0.03,\n",
    "    'random_seed': 42,\n",
    "    'use_best_model': True,\n",
    "    'task_type' : 'GPU',\n",
    "    'border_count' : 254,\n",
    "    'depth' : 8,\n",
    "    'early_stopping_rounds' : 1000,\n",
    "    'eval_metric' : 'RMSE' \n",
    "}\n",
    "category_cols = ['종목번호', '그룹번호']\n",
    "weight = {0:1, 6144:1, 12336:1, 18528:1, 24864:3, 31248:3, 37680:3, 44112:3}\n",
    "model_cat_4, pred_train_cat_4, pred_val_cat_4, pred_test_cat_4=\\\n",
    "    modelCatboost(X_train_cat, y_train_cat, X_val_cat, y_val_cat, X_test_cat, \\\n",
    "                  category_cols, params=params, selected_feature=best_feature, weight=weight)"
   ]
  },
  {
   "source": [
    "# lightgbm"
   ],
   "cell_type": "markdown",
   "metadata": {}
  },
  {
   "cell_type": "code",
   "execution_count": 63,
   "metadata": {
    "tags": []
   },
   "outputs": [
    {
     "output_type": "stream",
     "name": "stdout",
     "text": "weight_idx : [0, 6144, 12336, 18528, 24864, 31248, 37680, 44112]\n"
    }
   ],
   "source": [
    "X_train, y_train, X_val, y_val, X_test = \\\n",
    "     makeCV(df, train_=[201909, 201910, 201911, 201912, 202001, 202002, 202003, 202004], use_catboost=False)\n",
    "\n",
    "# label encoding\n",
    "X_train_en, X_val_en, X_test_en = X_train.copy(), X_val.copy(), X_test.copy()\n",
    "\n",
    "from sklearn.preprocessing import LabelEncoder\n",
    "encoder = LabelEncoder()\n",
    "category_cols = ['종목번호', '그룹번호']\n",
    "for i in category_cols:\n",
    "    encoder.fit(X_train.loc[:,i])\n",
    "    X_train_en.loc[:,i] = encoder.transform(X_train.loc[:,i])\n",
    "    X_val_en.loc[:,i] = encoder.transform(X_val.loc[:,i])\n",
    "    X_test_en.loc[:,i] = encoder.transform(X_test.loc[:,i])"
   ]
  },
  {
   "cell_type": "code",
   "execution_count": 64,
   "metadata": {
    "tags": []
   },
   "outputs": [
    {
     "output_type": "stream",
     "name": "stdout",
     "text": "[LightGBM] [Warning] Auto-choosing row-wise multi-threading, the overhead of testing was 0.001381 seconds.\nYou can set `force_row_wise=true` to remove the overhead.\nAnd if memory is not enough, you can set `force_col_wise=true`.\n[LightGBM] [Info] Total Bins 2153\n[LightGBM] [Info] Number of data points in the train set: 50544, number of used features: 16\n[LightGBM] [Info] Start training from score 2.015553\n[100]\ttraining's huber: 0.597787\tvalid_1's huber: 1.59221\n[200]\ttraining's huber: 0.554928\tvalid_1's huber: 1.5968\n[300]\ttraining's huber: 0.499297\tvalid_1's huber: 1.58903\n[400]\ttraining's huber: 0.470829\tvalid_1's huber: 1.58228\n[500]\ttraining's huber: 0.438278\tvalid_1's huber: 1.57531\n[600]\ttraining's huber: 0.418243\tvalid_1's huber: 1.57687\n[700]\ttraining's huber: 0.385236\tvalid_1's huber: 1.56585\n[800]\ttraining's huber: 0.358077\tvalid_1's huber: 1.56177\n[900]\ttraining's huber: 0.339056\tvalid_1's huber: 1.56845\n[1000]\ttraining's huber: 0.326057\tvalid_1's huber: 1.57344\n[1100]\ttraining's huber: 0.306151\tvalid_1's huber: 1.57867\n[1200]\ttraining's huber: 0.298743\tvalid_1's huber: 1.58767\n[1300]\ttraining's huber: 0.288427\tvalid_1's huber: 1.58608\n[1400]\ttraining's huber: 0.276754\tvalid_1's huber: 1.58686\n[1500]\ttraining's huber: 0.272009\tvalid_1's huber: 1.58584\n[1600]\ttraining's huber: 0.256274\tvalid_1's huber: 1.586\n[1700]\ttraining's huber: 0.249609\tvalid_1's huber: 1.58064\n[1800]\ttraining's huber: 0.247236\tvalid_1's huber: 1.57805\n[1900]\ttraining's huber: 0.239721\tvalid_1's huber: 1.58231\n[2000]\ttraining's huber: 0.230932\tvalid_1's huber: 1.57705\n[2100]\ttraining's huber: 0.225924\tvalid_1's huber: 1.57433\n[2200]\ttraining's huber: 0.222461\tvalid_1's huber: 1.57545\n[2300]\ttraining's huber: 0.215843\tvalid_1's huber: 1.57429\n[2400]\ttraining's huber: 0.212906\tvalid_1's huber: 1.57587\n[2500]\ttraining's huber: 0.208739\tvalid_1's huber: 1.57348\n[2600]\ttraining's huber: 0.203836\tvalid_1's huber: 1.5733\n[2700]\ttraining's huber: 0.197638\tvalid_1's huber: 1.57213\n[2800]\ttraining's huber: 0.195606\tvalid_1's huber: 1.56787\n[2900]\ttraining's huber: 0.190077\tvalid_1's huber: 1.56661\n[3000]\ttraining's huber: 0.184097\tvalid_1's huber: 1.5635\n[3100]\ttraining's huber: 0.180487\tvalid_1's huber: 1.56368\n[3200]\ttraining's huber: 0.176487\tvalid_1's huber: 1.5634\n[3300]\ttraining's huber: 0.173402\tvalid_1's huber: 1.56063\n[3400]\ttraining's huber: 0.168094\tvalid_1's huber: 1.56286\n[3500]\ttraining's huber: 0.165381\tvalid_1's huber: 1.56203\n[3600]\ttraining's huber: 0.162647\tvalid_1's huber: 1.56215\n[3700]\ttraining's huber: 0.157174\tvalid_1's huber: 1.56118\n[3800]\ttraining's huber: 0.15546\tvalid_1's huber: 1.56036\n[3900]\ttraining's huber: 0.153047\tvalid_1's huber: 1.56122\n[4000]\ttraining's huber: 0.151094\tvalid_1's huber: 1.56136\n[4100]\ttraining's huber: 0.148101\tvalid_1's huber: 1.56026\n[4200]\ttraining's huber: 0.144568\tvalid_1's huber: 1.56105\n[4300]\ttraining's huber: 0.140829\tvalid_1's huber: 1.56139\n[4400]\ttraining's huber: 0.140692\tvalid_1's huber: 1.5598\n[4500]\ttraining's huber: 0.138055\tvalid_1's huber: 1.55771\n[4600]\ttraining's huber: 0.133781\tvalid_1's huber: 1.55647\n[4700]\ttraining's huber: 0.132549\tvalid_1's huber: 1.5559\n[4800]\ttraining's huber: 0.130365\tvalid_1's huber: 1.55637\n[4900]\ttraining's huber: 0.127382\tvalid_1's huber: 1.55533\n[5000]\ttraining's huber: 0.126748\tvalid_1's huber: 1.55536\n"
    }
   ],
   "source": [
    "params = {'objective': 'regression',\n",
    "             'metric': 'huber',\n",
    "             'boosting_type': 'dart',\n",
    "             'seed': 42,\n",
    "             'num_iterations' : 5000,\n",
    "             'early_stopping_rounds' : 500\n",
    "            }\n",
    "weight = {0:1, 6144:1, 12336:1, 18528:1, 24864:3, 31248:3, 37680:5, 44112:5}\n",
    "category_cols = ['종목번호', '그룹번호']\n",
    "model_lgb_1, pred_train_lgb_1, pred_val_lgb_1, pred_test_lgb_1=\\\n",
    "    modelLightgbm(X_train_en, y_train, X_val_en, y_val, X_test_en , \\\n",
    "                  category_cols, weight=weight, params=params, selected_feature=best_feature)"
   ]
  },
  {
   "source": [
    "# 합치기, Stacking\n"
   ],
   "cell_type": "markdown",
   "metadata": {}
  },
  {
   "cell_type": "code",
   "execution_count": 65,
   "metadata": {},
   "outputs": [],
   "source": [
    "X_train_g = X_train_cat.copy()\n",
    "X_train_g['pred'] = np.nan\n",
    "X_train_g.loc[X_train_g['group_mse']==1, 'pred'] = pred_train_cat_1\n",
    "X_train_g.loc[X_train_g['group_mse']==2, 'pred'] = pred_train_cat_2\n",
    "X_train_g.loc[X_train_g['group_mse']==3, 'pred'] = pred_train_cat_3\n",
    "\n",
    "X_val_g = X_val_cat.copy()\n",
    "X_val_g['pred'] = np.nan\n",
    "X_val_g.loc[X_val_g['group_mse']==1, 'pred'] = pred_val_cat_1\n",
    "X_val_g.loc[X_val_g['group_mse']==2, 'pred'] = pred_val_cat_2\n",
    "X_val_g.loc[X_val_g['group_mse']==3, 'pred'] = pred_val_cat_3\n",
    "\n",
    "X_test_g = X_test_cat.copy()\n",
    "X_test_g['pred'] = np.nan\n",
    "X_test_g.loc[X_test_g['group_mse']==1, 'pred'] = pred_test_cat_1\n",
    "X_test_g.loc[X_test_g['group_mse']==2, 'pred'] = pred_test_cat_2\n",
    "X_test_g.loc[X_test_g['group_mse']==3, 'pred'] = pred_test_cat_3"
   ]
  },
  {
   "cell_type": "code",
   "execution_count": 66,
   "metadata": {},
   "outputs": [],
   "source": [
    "pred_train_month = X_train_cat['매수고객수']\n",
    "pred_val_month = X_val_cat['매수고객수']\n",
    "pred_test_month = X_test_cat['매수고객수']"
   ]
  },
  {
   "cell_type": "code",
   "execution_count": 67,
   "metadata": {
    "tags": []
   },
   "outputs": [
    {
     "output_type": "stream",
     "name": "stdout",
     "text": "8.470003749960265\n"
    }
   ],
   "source": [
    "from sklearn.linear_model import LinearRegression\n",
    "\n",
    "stacking_df = pd.DataFrame(pred_train_month)\n",
    "stacking_df['lgb1'] = pred_train_lgb_1\n",
    "stacking_df['cat1'] = X_train_g['pred']\n",
    "stacking_df['cat2'] = pred_train_cat_4\n",
    "\n",
    "stacking_df_val = pd.DataFrame(pred_val_month)\n",
    "stacking_df_val['lgb1'] = pred_val_lgb_1\n",
    "stacking_df_val['cat1'] = X_val_g['pred']\n",
    "stacking_df_val['cat2'] = pred_val_cat_4\n",
    "\n",
    "stacking_df_test = pd.DataFrame(pred_test_month)\n",
    "stacking_df_test['lgb1'] = pred_test_lgb_1\n",
    "stacking_df_test['cat1'] = X_test_g['pred']\n",
    "stacking_df_test['cat2'] = pred_test_cat_4\n",
    "\n",
    "stackModel = LinearRegression()\n",
    "stackModel.fit(stacking_df, y_train)\n",
    "stack_pred = stackModel.predict(stacking_df_val)\n",
    "print(np.sqrt(mean_squared_error(y_val, stack_pred)))\n"
   ]
  },
  {
   "cell_type": "code",
   "execution_count": 68,
   "metadata": {},
   "outputs": [
    {
     "output_type": "execute_result",
     "data": {
      "text/plain": "          매수고객수      lgb1      cat1      cat2\n매수고객수  1.000000  0.937814  0.968016  0.900636\nlgb1   0.937814  1.000000  0.956924  0.929673\ncat1   0.968016  0.956924  1.000000  0.930193\ncat2   0.900636  0.929673  0.930193  1.000000",
      "text/html": "<div>\n<style scoped>\n    .dataframe tbody tr th:only-of-type {\n        vertical-align: middle;\n    }\n\n    .dataframe tbody tr th {\n        vertical-align: top;\n    }\n\n    .dataframe thead th {\n        text-align: right;\n    }\n</style>\n<table border=\"1\" class=\"dataframe\">\n  <thead>\n    <tr style=\"text-align: right;\">\n      <th></th>\n      <th>매수고객수</th>\n      <th>lgb1</th>\n      <th>cat1</th>\n      <th>cat2</th>\n    </tr>\n  </thead>\n  <tbody>\n    <tr>\n      <th>매수고객수</th>\n      <td>1.000000</td>\n      <td>0.937814</td>\n      <td>0.968016</td>\n      <td>0.900636</td>\n    </tr>\n    <tr>\n      <th>lgb1</th>\n      <td>0.937814</td>\n      <td>1.000000</td>\n      <td>0.956924</td>\n      <td>0.929673</td>\n    </tr>\n    <tr>\n      <th>cat1</th>\n      <td>0.968016</td>\n      <td>0.956924</td>\n      <td>1.000000</td>\n      <td>0.930193</td>\n    </tr>\n    <tr>\n      <th>cat2</th>\n      <td>0.900636</td>\n      <td>0.929673</td>\n      <td>0.930193</td>\n      <td>1.000000</td>\n    </tr>\n  </tbody>\n</table>\n</div>"
     },
     "metadata": {},
     "execution_count": 68
    }
   ],
   "source": [
    "stacking_df_val.corr()"
   ]
  },
  {
   "source": [
    "idx 24864 이후가 2020 년도"
   ],
   "cell_type": "markdown",
   "metadata": {}
  },
  {
   "cell_type": "code",
   "execution_count": 88,
   "metadata": {},
   "outputs": [],
   "source": [
    "finalStack_X = pd.concat([stacking_df, stacking_df_val])\n",
    "finalStack_y = pd.concat([y_train, y_val])\n",
    "\n",
    "stackModel = LinearRegression()\n",
    "stackModel.fit(stacking_df_val[['매수고객수','cat1','cat2']], y_val)\n",
    "stack_pred = stackModel.predict(stacking_df_test[['매수고객수','cat1','cat2']])"
   ]
  },
  {
   "cell_type": "code",
   "execution_count": 89,
   "metadata": {},
   "outputs": [
    {
     "output_type": "execute_result",
     "data": {
      "text/plain": "array([1.08900356, 0.10627904, 0.10468551])"
     },
     "metadata": {},
     "execution_count": 89
    }
   ],
   "source": [
    "stackModel.coef_"
   ]
  },
  {
   "cell_type": "code",
   "execution_count": 90,
   "metadata": {},
   "outputs": [],
   "source": [
    "cat_answer = makeSub(X_test_cat, stack_pred)\n",
    "cat_answer.to_csv('0921_stacking_catg1cat1_valfit_2.csv', index=False)\n"
   ]
  },
  {
   "cell_type": "code",
   "execution_count": null,
   "metadata": {},
   "outputs": [],
   "source": []
  }
 ]
}