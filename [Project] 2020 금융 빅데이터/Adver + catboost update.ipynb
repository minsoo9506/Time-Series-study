{
 "cells": [
  {
   "cell_type": "markdown",
   "metadata": {},
   "source": [
    "- 각 그룹을 마다 target의 시계열 모양에 따라 다르게 생각?\n",
    "    - trade data를 통해 그룹 clustering해볼까"
   ]
  },
  {
   "cell_type": "markdown",
   "metadata": {},
   "source": [
    "- target의 값을 quantile로 그룹핑하여 각각 모델링?\n",
    "    - 해당 모델을 통해 predict average?\n",
    "    - 근데 그러면 큰 target을 학습한 모델의 의견이 거의 따라질듯?\n",
    "    - 그러면 가중치를 좀 다르게 해서?"
   ]
  },
  {
   "cell_type": "code",
   "execution_count": 1,
   "metadata": {
    "ExecuteTime": {
     "end_time": "2020-09-13T12:35:22.039741Z",
     "start_time": "2020-09-13T12:35:20.470769Z"
    }
   },
   "outputs": [],
   "source": [
    "import pandas as pd\n",
    "import numpy as np\n",
    "import matplotlib.pyplot as plt\n",
    "import seaborn as sns\n",
    "\n",
    "import lightgbm as lgb\n",
    "from catboost import CatBoostRegressor, Pool\n",
    "from sklearn.linear_model import Ridge, Lasso\n",
    "from sklearn.ensemble import RandomForestRegressor\n",
    "from sklearn.metrics import mean_squared_error\n",
    "\n",
    "trade = pd.read_csv('trade_train.csv', index_col=0)\n",
    "stock = pd.read_csv('stocks.csv', index_col=0)\n",
    "answer = pd.read_csv('answer_sheet.csv')"
   ]
  },
  {
   "cell_type": "code",
   "execution_count": 2,
   "metadata": {
    "ExecuteTime": {
     "end_time": "2020-09-13T12:35:22.150914Z",
     "start_time": "2020-09-13T12:35:22.040739Z"
    }
   },
   "outputs": [],
   "source": [
    "from DataSet import makeDataset, makeCV, encoding, makeSub\n",
    "from myModel import modelCatboost, modelLightgbm, linear"
   ]
  },
  {
   "cell_type": "code",
   "execution_count": 3,
   "metadata": {
    "ExecuteTime": {
     "end_time": "2020-09-13T12:35:22.278865Z",
     "start_time": "2020-09-13T12:35:22.151829Z"
    }
   },
   "outputs": [],
   "source": [
    "seq2seq_df = pd.read_csv('seq2seq_df.csv')"
   ]
  },
  {
   "cell_type": "markdown",
   "metadata": {},
   "source": [
    "# val과 test X feature 비교 by modeling (adverserial)"
   ]
  },
  {
   "cell_type": "code",
   "execution_count": 10,
   "metadata": {
    "ExecuteTime": {
     "end_time": "2020-09-13T05:15:50.232898Z",
     "start_time": "2020-09-13T05:15:24.261819Z"
    }
   },
   "outputs": [
    {
     "name": "stdout",
     "output_type": "stream",
     "text": [
      "cut use : False, quantile : 0.99, rolling range: [2], diff range : [1]\n"
     ]
    }
   ],
   "source": [
    "# df_roling2_diff1 = makeDataset(seq2seq_df, rolling_range=[2], diff_range=[1])\n",
    "\n",
    "# X_train_cat, y_train_cat, X_val_cat, y_val_cat, X_test_cat = \\\n",
    "#     makeCV(df_roling2_diff1, train_=[201909, 201910, 201911, 201912, 202001, 202002, 202003, 202004], use_catboost=True)\n",
    "\n",
    "# adv_val = X_val_cat.copy()\n",
    "# adv_val['target'] = 1\n",
    "# adv_test = X_test_cat.copy()\n",
    "# adv_test['target'] = 0\n",
    "\n",
    "# adv_train = pd.concat([adv_val, adv_test], axis=0).reset_index(drop=True)\n",
    "\n",
    "# from catboost import CatBoostClassifier\n",
    "\n",
    "# category_cols = ['종목번호', '시장구분', '표준산업구분코드_대분류','그룹번호']\n",
    "\n",
    "# params = {\n",
    "#     'iterations': 2000,\n",
    "#     'learning_rate': 0.05,\n",
    "#     'random_seed': 42,\n",
    "#     'task_type' : 'GPU',\n",
    "#     'early_stopping_rounds' : 500,\n",
    "#     'eval_metric' : 'AUC'\n",
    "# }\n",
    "\n",
    "# train_pool = Pool(adv_train.iloc[:, :-2], \n",
    "#                   adv_train.iloc[:, -1], \n",
    "#                   cat_features=category_cols)\n",
    "\n",
    "# model = CatBoostClassifier(**params)\n",
    "# model.fit(train_pool, verbose=200)\n",
    "\n",
    "# print('catboost feature importance')\n",
    "# feature_importances = model.get_feature_importance(train_pool)\n",
    "# feature_names = adv_train.iloc[:, :-2].columns\n",
    "# for score, name in sorted(zip(feature_importances, feature_names), reverse=True):\n",
    "#     print('{}: {}'.format(name, score))"
   ]
  },
  {
   "cell_type": "markdown",
   "metadata": {},
   "source": [
    "# Df 만들기"
   ]
  },
  {
   "cell_type": "code",
   "execution_count": 4,
   "metadata": {
    "ExecuteTime": {
     "end_time": "2020-09-13T12:36:01.207189Z",
     "start_time": "2020-09-13T12:35:22.777787Z"
    }
   },
   "outputs": [
    {
     "name": "stdout",
     "output_type": "stream",
     "text": [
      "cut use : False, quantile : 0.99, rolling range: [2, 3], diff range : [1, 2], use MinMAx : False\n",
      "cut use : False, quantile : 0.99, rolling range: [2], diff range : [1], use MinMAx : False\n"
     ]
    }
   ],
   "source": [
    "df_rolling23_diff12_NoMinMax = makeDataset(seq2seq_df, rolling_range=[2,3], diff_range=[1,2], save_na=False, use_minmax=False)\n",
    "\n",
    "# df_rolling23_diff1_NoMinMax = makeDataset(seq2seq_df, rolling_range=[2,3], diff_range=[1], save_na=False, use_minmax=False)\n",
    "\n",
    "# df_rolling2_diff12_NoMinmax = makeDataset(seq2seq_df, rolling_range=[2], diff_range=[1,2], save_na=False, use_minmax=False)\n",
    "\n",
    "df_rolling2_diff1_NoMinmax = makeDataset(seq2seq_df, rolling_range=[2], diff_range=[1], save_na=False, use_minmax=False)"
   ]
  },
  {
   "cell_type": "code",
   "execution_count": 5,
   "metadata": {
    "ExecuteTime": {
     "end_time": "2020-09-13T12:36:01.253260Z",
     "start_time": "2020-09-13T12:36:01.208160Z"
    }
   },
   "outputs": [
    {
     "data": {
      "text/html": [
       "<div>\n",
       "<style scoped>\n",
       "    .dataframe tbody tr th:only-of-type {\n",
       "        vertical-align: middle;\n",
       "    }\n",
       "\n",
       "    .dataframe tbody tr th {\n",
       "        vertical-align: top;\n",
       "    }\n",
       "\n",
       "    .dataframe thead th {\n",
       "        text-align: right;\n",
       "    }\n",
       "</style>\n",
       "<table border=\"1\" class=\"dataframe\">\n",
       "  <thead>\n",
       "    <tr style=\"text-align: right;\">\n",
       "      <th></th>\n",
       "      <th>종목번호</th>\n",
       "      <th>min</th>\n",
       "      <th>max</th>\n",
       "      <th>mean</th>\n",
       "      <th>std</th>\n",
       "      <th>기준년월</th>\n",
       "      <th>거래금액_만원단위</th>\n",
       "      <th>거래량1</th>\n",
       "      <th>거래량2</th>\n",
       "      <th>거래량3</th>\n",
       "      <th>...</th>\n",
       "      <th>매수고객수rolling_std3</th>\n",
       "      <th>매도고객수diff1</th>\n",
       "      <th>매도고객수diff2</th>\n",
       "      <th>매수고객수diff1</th>\n",
       "      <th>매수고객수diff2</th>\n",
       "      <th>group_char1</th>\n",
       "      <th>group_char2</th>\n",
       "      <th>group_char3</th>\n",
       "      <th>group_char4</th>\n",
       "      <th>target</th>\n",
       "    </tr>\n",
       "  </thead>\n",
       "  <tbody>\n",
       "    <tr>\n",
       "      <th>0</th>\n",
       "      <td>A000100</td>\n",
       "      <td>217500</td>\n",
       "      <td>233000</td>\n",
       "      <td>226789.47</td>\n",
       "      <td>4394.81</td>\n",
       "      <td>201909</td>\n",
       "      <td>894332.84</td>\n",
       "      <td>24135.4</td>\n",
       "      <td>72702.0</td>\n",
       "      <td>52907.6</td>\n",
       "      <td>...</td>\n",
       "      <td>0.00</td>\n",
       "      <td>0.0</td>\n",
       "      <td>0.0</td>\n",
       "      <td>0.0</td>\n",
       "      <td>0.0</td>\n",
       "      <td>0</td>\n",
       "      <td>1</td>\n",
       "      <td>0</td>\n",
       "      <td>0</td>\n",
       "      <td>0.0</td>\n",
       "    </tr>\n",
       "    <tr>\n",
       "      <th>1</th>\n",
       "      <td>A000100</td>\n",
       "      <td>217500</td>\n",
       "      <td>233000</td>\n",
       "      <td>226789.47</td>\n",
       "      <td>4394.81</td>\n",
       "      <td>201909</td>\n",
       "      <td>894332.84</td>\n",
       "      <td>24135.4</td>\n",
       "      <td>72702.0</td>\n",
       "      <td>52907.6</td>\n",
       "      <td>...</td>\n",
       "      <td>0.00</td>\n",
       "      <td>0.0</td>\n",
       "      <td>0.0</td>\n",
       "      <td>0.0</td>\n",
       "      <td>0.0</td>\n",
       "      <td>0</td>\n",
       "      <td>0</td>\n",
       "      <td>0</td>\n",
       "      <td>1</td>\n",
       "      <td>0.0</td>\n",
       "    </tr>\n",
       "    <tr>\n",
       "      <th>2</th>\n",
       "      <td>A000100</td>\n",
       "      <td>217500</td>\n",
       "      <td>233000</td>\n",
       "      <td>226789.47</td>\n",
       "      <td>4394.81</td>\n",
       "      <td>201909</td>\n",
       "      <td>894332.84</td>\n",
       "      <td>24135.4</td>\n",
       "      <td>72702.0</td>\n",
       "      <td>52907.6</td>\n",
       "      <td>...</td>\n",
       "      <td>0.00</td>\n",
       "      <td>0.0</td>\n",
       "      <td>0.0</td>\n",
       "      <td>0.0</td>\n",
       "      <td>0.0</td>\n",
       "      <td>0</td>\n",
       "      <td>0</td>\n",
       "      <td>1</td>\n",
       "      <td>0</td>\n",
       "      <td>0.0</td>\n",
       "    </tr>\n",
       "    <tr>\n",
       "      <th>3</th>\n",
       "      <td>A000100</td>\n",
       "      <td>217500</td>\n",
       "      <td>233000</td>\n",
       "      <td>226789.47</td>\n",
       "      <td>4394.81</td>\n",
       "      <td>201909</td>\n",
       "      <td>894332.84</td>\n",
       "      <td>24135.4</td>\n",
       "      <td>72702.0</td>\n",
       "      <td>52907.6</td>\n",
       "      <td>...</td>\n",
       "      <td>4.62</td>\n",
       "      <td>0.0</td>\n",
       "      <td>-4.0</td>\n",
       "      <td>0.0</td>\n",
       "      <td>-8.0</td>\n",
       "      <td>1</td>\n",
       "      <td>0</td>\n",
       "      <td>0</td>\n",
       "      <td>0</td>\n",
       "      <td>0.0</td>\n",
       "    </tr>\n",
       "    <tr>\n",
       "      <th>4</th>\n",
       "      <td>A000100</td>\n",
       "      <td>217500</td>\n",
       "      <td>233000</td>\n",
       "      <td>226789.47</td>\n",
       "      <td>4394.81</td>\n",
       "      <td>201909</td>\n",
       "      <td>894332.84</td>\n",
       "      <td>24135.4</td>\n",
       "      <td>72702.0</td>\n",
       "      <td>52907.6</td>\n",
       "      <td>...</td>\n",
       "      <td>2.08</td>\n",
       "      <td>-3.0</td>\n",
       "      <td>-3.0</td>\n",
       "      <td>-3.0</td>\n",
       "      <td>-4.0</td>\n",
       "      <td>1</td>\n",
       "      <td>0</td>\n",
       "      <td>0</td>\n",
       "      <td>0</td>\n",
       "      <td>0.0</td>\n",
       "    </tr>\n",
       "  </tbody>\n",
       "</table>\n",
       "<p>5 rows × 34 columns</p>\n",
       "</div>"
      ],
      "text/plain": [
       "      종목번호     min     max       mean      std    기준년월  거래금액_만원단위     거래량1  \\\n",
       "0  A000100  217500  233000  226789.47  4394.81  201909  894332.84  24135.4   \n",
       "1  A000100  217500  233000  226789.47  4394.81  201909  894332.84  24135.4   \n",
       "2  A000100  217500  233000  226789.47  4394.81  201909  894332.84  24135.4   \n",
       "3  A000100  217500  233000  226789.47  4394.81  201909  894332.84  24135.4   \n",
       "4  A000100  217500  233000  226789.47  4394.81  201909  894332.84  24135.4   \n",
       "\n",
       "      거래량2     거래량3  ...  매수고객수rolling_std3 매도고객수diff1 매도고객수diff2 매수고객수diff1  \\\n",
       "0  72702.0  52907.6  ...               0.00        0.0        0.0        0.0   \n",
       "1  72702.0  52907.6  ...               0.00        0.0        0.0        0.0   \n",
       "2  72702.0  52907.6  ...               0.00        0.0        0.0        0.0   \n",
       "3  72702.0  52907.6  ...               4.62        0.0       -4.0        0.0   \n",
       "4  72702.0  52907.6  ...               2.08       -3.0       -3.0       -3.0   \n",
       "\n",
       "   매수고객수diff2  group_char1  group_char2  group_char3  group_char4  target  \n",
       "0         0.0            0            1            0            0     0.0  \n",
       "1         0.0            0            0            0            1     0.0  \n",
       "2         0.0            0            0            1            0     0.0  \n",
       "3        -8.0            1            0            0            0     0.0  \n",
       "4        -4.0            1            0            0            0     0.0  \n",
       "\n",
       "[5 rows x 34 columns]"
      ]
     },
     "execution_count": 5,
     "metadata": {},
     "output_type": "execute_result"
    }
   ],
   "source": [
    "df_rolling23_diff12_NoMinMax.head()"
   ]
  },
  {
   "cell_type": "markdown",
   "metadata": {},
   "source": [
    "# catboost"
   ]
  },
  {
   "cell_type": "markdown",
   "metadata": {},
   "source": [
    "1. SaveNA : not good\n",
    "2. FS : only about time, 매수고객수만 해도 비슷한 성능 (매도고객수는 일단 drop)\n",
    "3. big parameter change : grow_policy(Lossguide, Depthwise가 val rmse는 너 낮게 하는데 lb는 별로), metric(차이없음 그냥 rmse 고) \n",
    "    - SymmetricTree : lb가 57점으로 가장 잘 나옴\\\n",
    "    \n",
    "# 4. ensemble\n",
    "## - company model 1 + time model 2 voting (company+매도는 cat, 매수는 lgb로 해볼까)\n",
    "## - 6월에 가장 팔린애들 2개 + catboost 예측 1개 voting\n",
    "# 5. 5월도 val하지 않고 fitting"
   ]
  },
  {
   "cell_type": "code",
   "execution_count": 11,
   "metadata": {
    "ExecuteTime": {
     "end_time": "2020-09-13T12:37:36.255477Z",
     "start_time": "2020-09-13T12:37:36.087806Z"
    }
   },
   "outputs": [
    {
     "name": "stdout",
     "output_type": "stream",
     "text": [
      "weight_idx : [0, 6144, 12336, 18528, 24864, 31248, 37680, 44112]\n",
      "weight_idx : [0, 6144, 12336, 18528, 24864, 31248, 37680, 44112]\n"
     ]
    }
   ],
   "source": [
    "X_train_cat, y_train_cat, X_val_cat, y_val_cat, X_test_cat = \\\n",
    "    makeCV(df_rolling23_diff12_NoMinMax, train_=[201909, 201910, 201911, 201912, 202001, 202002, 202003, 202004], use_catboost=True)\n",
    "\n",
    "X_train, y_train, X_val, y_val, X_test = \\\n",
    "    makeCV(df_rolling23_diff12_NoMinMax, train_=[201909, 201910, 201911, 201912, 202001, 202002, 202003, 202004], use_catboost=False)"
   ]
  },
  {
   "cell_type": "code",
   "execution_count": 12,
   "metadata": {
    "ExecuteTime": {
     "end_time": "2020-09-13T12:38:58.157402Z",
     "start_time": "2020-09-13T12:38:58.149812Z"
    }
   },
   "outputs": [
    {
     "data": {
      "text/plain": [
       "Index(['종목번호', 'min', 'max', 'mean', 'std', '거래금액_만원단위', '거래량1', '거래량2',\n",
       "       '거래량3', '거래량4', '시장구분', '표준산업구분코드_대분류', '그룹번호', '그룹내고객수', '매수고객수',\n",
       "       '매도고객수', '매도고객수rolling_mean2', '매도고객수rolling_mean3',\n",
       "       '매도고객수rolling_std2', '매도고객수rolling_std3', '매수고객수rolling_mean2',\n",
       "       '매수고객수rolling_mean3', '매수고객수rolling_std2', '매수고객수rolling_std3',\n",
       "       '매도고객수diff1', '매도고객수diff2', '매수고객수diff1', '매수고객수diff2', 'group_char1',\n",
       "       'group_char2', 'group_char3', 'group_char4', 'year'],\n",
       "      dtype='object')"
      ]
     },
     "execution_count": 12,
     "metadata": {},
     "output_type": "execute_result"
    }
   ],
   "source": [
    "X_train_cat.columns"
   ]
  },
  {
   "cell_type": "markdown",
   "metadata": {},
   "source": [
    "## cat"
   ]
  },
  {
   "cell_type": "code",
   "execution_count": 35,
   "metadata": {
    "ExecuteTime": {
     "end_time": "2020-09-13T12:51:44.128626Z",
     "start_time": "2020-09-13T12:51:44.120628Z"
    }
   },
   "outputs": [],
   "source": [
    "# catboost\n",
    "params = {\n",
    "    'iterations': 5000,\n",
    "    'learning_rate': 0.03,\n",
    "    'random_seed': 42,\n",
    "    'use_best_model': True,\n",
    "    'task_type' : 'GPU',\n",
    "    'early_stopping_rounds' : 700,\n",
    "    'eval_metric' : 'RMSE' \n",
    "}\n",
    "category_cols = ['종목번호', '표준산업구분코드_대분류','그룹번호']\n",
    "#weight = {0:1, 6192:1, 12528:1, 18912:1, 25344:2, 31776:2, 38208:3, 44640:3}\n",
    "#weight = {0:1, 6144:1, 12336:1, 18528:2, 24864:2, 31248:2, 37680:3}\n",
    "weight = {0:1, 6144:1, 12336:1, 18528:1, 24864:3, 31248:3, 37680:3, 44112:3}\n",
    "selected_feature = ['종목번호', '거래금액_만원단위', '거래량1', '거래량2',\n",
    "       '거래량3', '거래량4', '표준산업구분코드_대분류', '그룹번호', '그룹내고객수', '매수고객수',\n",
    "       '매도고객수', '매도고객수rolling_mean2', '매도고객수rolling_mean3',\n",
    "       '매도고객수rolling_std2', '매도고객수rolling_std3', '매수고객수rolling_mean2',\n",
    "       '매수고객수rolling_mean3', '매수고객수rolling_std2', '매수고객수rolling_std3',\n",
    "       '매도고객수diff1', '매도고객수diff2', '매수고객수diff1', '매수고객수diff2', 'group_char1','group_char4', 'year']"
   ]
  },
  {
   "cell_type": "code",
   "execution_count": 36,
   "metadata": {
    "ExecuteTime": {
     "end_time": "2020-09-13T12:53:09.286436Z",
     "start_time": "2020-09-13T12:51:44.432858Z"
    }
   },
   "outputs": [
    {
     "name": "stdout",
     "output_type": "stream",
     "text": [
      "0:\tlearn: 13.1695907\ttest: 20.8556808\tbest: 20.8556808 (0)\ttotal: 20ms\tremaining: 1m 40s\n",
      "100:\tlearn: 7.7315810\ttest: 13.9991671\tbest: 13.9991671 (100)\ttotal: 1.75s\tremaining: 1m 25s\n",
      "200:\tlearn: 6.8735059\ttest: 13.0023692\tbest: 13.0021450 (199)\ttotal: 3.74s\tremaining: 1m 29s\n",
      "300:\tlearn: 6.6841153\ttest: 12.7213051\tbest: 12.7213051 (300)\ttotal: 5.72s\tremaining: 1m 29s\n",
      "400:\tlearn: 6.4976784\ttest: 12.4763415\tbest: 12.4703029 (398)\ttotal: 7.69s\tremaining: 1m 28s\n",
      "500:\tlearn: 6.4021154\ttest: 12.3403986\tbest: 12.3399616 (498)\ttotal: 9.57s\tremaining: 1m 25s\n",
      "600:\tlearn: 6.3322206\ttest: 12.2078193\tbest: 12.2078193 (600)\ttotal: 11.5s\tremaining: 1m 24s\n",
      "700:\tlearn: 6.3010706\ttest: 12.1324756\tbest: 12.1324416 (699)\ttotal: 13.4s\tremaining: 1m 22s\n",
      "800:\tlearn: 6.2856662\ttest: 12.0791028\tbest: 12.0783611 (799)\ttotal: 15.3s\tremaining: 1m 20s\n",
      "900:\tlearn: 6.2560647\ttest: 12.0089647\tbest: 12.0074033 (899)\ttotal: 17.3s\tremaining: 1m 18s\n",
      "1000:\tlearn: 6.2303516\ttest: 11.9675474\tbest: 11.9675474 (1000)\ttotal: 19.3s\tremaining: 1m 17s\n",
      "1100:\tlearn: 6.2133914\ttest: 11.9186673\tbest: 11.9176983 (1099)\ttotal: 21.4s\tremaining: 1m 15s\n",
      "1200:\tlearn: 6.1977918\ttest: 11.8715767\tbest: 11.8708919 (1199)\ttotal: 23.6s\tremaining: 1m 14s\n",
      "1300:\tlearn: 6.1871701\ttest: 11.8654583\tbest: 11.8654583 (1300)\ttotal: 25.7s\tremaining: 1m 12s\n",
      "1400:\tlearn: 6.1774675\ttest: 11.8604138\tbest: 11.8604040 (1398)\ttotal: 27.7s\tremaining: 1m 11s\n",
      "1500:\tlearn: 6.1681421\ttest: 11.8489666\tbest: 11.8486337 (1497)\ttotal: 29.8s\tremaining: 1m 9s\n",
      "1600:\tlearn: 6.1502126\ttest: 11.8312976\tbest: 11.8309556 (1589)\ttotal: 31.9s\tremaining: 1m 7s\n",
      "1700:\tlearn: 6.1312692\ttest: 11.8048049\tbest: 11.8027526 (1691)\ttotal: 33.9s\tremaining: 1m 5s\n",
      "1800:\tlearn: 6.1230068\ttest: 11.7965059\tbest: 11.7965059 (1800)\ttotal: 36s\tremaining: 1m 3s\n",
      "1900:\tlearn: 6.1047838\ttest: 11.8012871\tbest: 11.7906186 (1888)\ttotal: 38s\tremaining: 1m 2s\n",
      "2000:\tlearn: 6.0925271\ttest: 11.7590354\tbest: 11.7588892 (1999)\ttotal: 40.2s\tremaining: 1m\n",
      "2100:\tlearn: 6.0783480\ttest: 11.7583186\tbest: 11.7518010 (2047)\ttotal: 42.3s\tremaining: 58.3s\n",
      "2200:\tlearn: 6.0528213\ttest: 11.7534856\tbest: 11.7479989 (2182)\ttotal: 44.4s\tremaining: 56.5s\n",
      "2300:\tlearn: 6.0425742\ttest: 11.7568876\tbest: 11.7479989 (2182)\ttotal: 46.5s\tremaining: 54.6s\n",
      "2400:\tlearn: 6.0113988\ttest: 11.7378925\tbest: 11.7371003 (2398)\ttotal: 48.7s\tremaining: 52.8s\n",
      "2500:\tlearn: 6.0001310\ttest: 11.7404047\tbest: 11.7365754 (2434)\ttotal: 50.9s\tremaining: 50.8s\n",
      "2600:\tlearn: 5.9956156\ttest: 11.7372381\tbest: 11.7338524 (2575)\ttotal: 53.1s\tremaining: 48.9s\n",
      "2700:\tlearn: 5.9899263\ttest: 11.7298515\tbest: 11.7288822 (2632)\ttotal: 55.2s\tremaining: 47s\n",
      "2800:\tlearn: 5.9802605\ttest: 11.7274265\tbest: 11.7250520 (2748)\ttotal: 57.4s\tremaining: 45s\n",
      "2900:\tlearn: 5.9706961\ttest: 11.7259279\tbest: 11.7250520 (2748)\ttotal: 59.5s\tremaining: 43.1s\n",
      "3000:\tlearn: 5.9584273\ttest: 11.7280243\tbest: 11.7250520 (2748)\ttotal: 1m 1s\tremaining: 41.1s\n",
      "3100:\tlearn: 5.9122741\ttest: 11.6250117\tbest: 11.6219085 (3076)\ttotal: 1m 3s\tremaining: 39.1s\n",
      "3200:\tlearn: 5.9013469\ttest: 11.6231442\tbest: 11.6178732 (3148)\ttotal: 1m 6s\tremaining: 37.2s\n",
      "3300:\tlearn: 5.8924730\ttest: 11.6323751\tbest: 11.6178732 (3148)\ttotal: 1m 8s\tremaining: 35.2s\n",
      "3400:\tlearn: 5.8838988\ttest: 11.6465156\tbest: 11.6178732 (3148)\ttotal: 1m 10s\tremaining: 33.2s\n",
      "3500:\tlearn: 5.8663231\ttest: 11.6482992\tbest: 11.6178732 (3148)\ttotal: 1m 12s\tremaining: 31.2s\n",
      "3600:\tlearn: 5.8480369\ttest: 11.6383651\tbest: 11.6178732 (3148)\ttotal: 1m 15s\tremaining: 29.2s\n",
      "3700:\tlearn: 5.8433555\ttest: 11.6387708\tbest: 11.6178732 (3148)\ttotal: 1m 17s\tremaining: 27.1s\n",
      "3800:\tlearn: 5.8362539\ttest: 11.6370254\tbest: 11.6178732 (3148)\ttotal: 1m 19s\tremaining: 25.1s\n",
      "bestTest = 11.61787324\n",
      "bestIteration = 3148\n",
      "Shrink model to first 3149 iterations.\n",
      "catboost best score\n",
      "{'learn': {'RMSE': 5.825205811548553}, 'validation': {'RMSE': 11.617873240077653}}\n"
     ]
    }
   ],
   "source": [
    "model_cat, pred_train_cat, pred_val_cat, pred_test_cat=\\\n",
    "    modelCatboost(X_train_cat, y_train_cat, X_val_cat, y_val_cat, X_test_cat , \\\n",
    "                  category_cols, weight=weight, params=params, selected_feature=selected_feature)"
   ]
  },
  {
   "cell_type": "code",
   "execution_count": 37,
   "metadata": {
    "ExecuteTime": {
     "end_time": "2020-09-13T12:53:09.332483Z",
     "start_time": "2020-09-13T12:53:09.287437Z"
    }
   },
   "outputs": [
    {
     "name": "stdout",
     "output_type": "stream",
     "text": [
      "매수고객수: 12.093610310079113\n",
      "매수고객수rolling_mean3: 11.532587636104399\n",
      "매수고객수diff2: 8.678626721627106\n",
      "매도고객수rolling_mean2: 7.946725945690698\n",
      "매도고객수: 7.827160652530905\n",
      "매수고객수rolling_mean2: 7.098260310489136\n",
      "그룹번호: 5.894749736825388\n",
      "종목번호: 5.752847861854087\n",
      "매도고객수rolling_std3: 5.73258100877845\n",
      "매수고객수rolling_std2: 4.471144787455622\n",
      "매도고객수diff1: 4.001219925259454\n",
      "매도고객수rolling_mean3: 3.6724673511822012\n",
      "매도고객수diff2: 3.489779045705653\n",
      "매수고객수rolling_std3: 2.8451833729900904\n",
      "매도고객수rolling_std2: 2.722942137241994\n",
      "매수고객수diff1: 2.6736425280208667\n",
      "거래량3: 0.8752338802937513\n",
      "표준산업구분코드_대분류: 0.6592435714723118\n",
      "거래량1: 0.6499811376406484\n",
      "거래량4: 0.5541806463972407\n",
      "거래량2: 0.3892712270901864\n",
      "그룹내고객수: 0.18581004118368033\n",
      "거래금액_만원단위: 0.15201089477817598\n",
      "year: 0.09198768033038023\n",
      "group_char1: 0.008751588978296145\n",
      "group_char4: 0.0\n"
     ]
    }
   ],
   "source": [
    "feature_importances = model_cat.get_feature_importance()\n",
    "feature_names = X_train_cat[selected_feature].columns\n",
    "for score, name in sorted(zip(feature_importances, feature_names), reverse=True):\n",
    "    print('{}: {}'.format(name, score))"
   ]
  },
  {
   "cell_type": "code",
   "execution_count": 31,
   "metadata": {
    "ExecuteTime": {
     "end_time": "2020-09-13T12:47:05.332505Z",
     "start_time": "2020-09-13T12:47:05.209689Z"
    }
   },
   "outputs": [],
   "source": [
    "cat_answer = makeSub(X_test_cat, pred_test_cat)"
   ]
  },
  {
   "cell_type": "code",
   "execution_count": 32,
   "metadata": {
    "ExecuteTime": {
     "end_time": "2020-09-13T12:47:05.848333Z",
     "start_time": "2020-09-13T12:47:05.832715Z"
    }
   },
   "outputs": [],
   "source": [
    "cat_answer.to_csv('0913_cat_fs_roll23_diff12_groupchar.csv', index=False)"
   ]
  },
  {
   "cell_type": "markdown",
   "metadata": {},
   "source": [
    "## lgb\n",
    "- encoding할때 최근 값만 이용?"
   ]
  },
  {
   "cell_type": "code",
   "execution_count": 30,
   "metadata": {
    "ExecuteTime": {
     "end_time": "2020-09-13T09:57:28.141108Z",
     "start_time": "2020-09-13T09:57:28.047110Z"
    }
   },
   "outputs": [],
   "source": [
    "category_cols = ['종목번호','그룹번호']\n",
    "X_train, X_val, X_test = encoding(X_train, y_train, X_val, X_test, category_cols=category_cols)"
   ]
  },
  {
   "cell_type": "code",
   "execution_count": 31,
   "metadata": {
    "ExecuteTime": {
     "end_time": "2020-09-13T09:57:28.157109Z",
     "start_time": "2020-09-13T09:57:28.142109Z"
    },
    "collapsed": true
   },
   "outputs": [
    {
     "data": {
      "text/plain": [
       "Index(['종목번호', 'min', 'max', 'mean', 'std', '거래금액_만원단위', '거래량1', '거래량2',\n",
       "       '거래량3', '거래량4', '시장구분', '표준산업구분코드_대분류', '그룹번호', '그룹내고객수', '매수고객수',\n",
       "       '매도고객수', '매도고객수rolling_mean2', '매도고객수rolling_mean3',\n",
       "       '매도고객수rolling_std2', '매도고객수rolling_std3', '매수고객수rolling_mean2',\n",
       "       '매수고객수rolling_mean3', '매수고객수rolling_std2', '매수고객수rolling_std3',\n",
       "       '매도고객수diff1', '매도고객수diff2', '매수고객수diff1', '매수고객수diff2', 'year'],\n",
       "      dtype='object')"
      ]
     },
     "execution_count": 31,
     "metadata": {},
     "output_type": "execute_result"
    }
   ],
   "source": [
    "X_train.columns"
   ]
  },
  {
   "cell_type": "code",
   "execution_count": 32,
   "metadata": {
    "ExecuteTime": {
     "end_time": "2020-09-13T09:57:28.173108Z",
     "start_time": "2020-09-13T09:57:28.158109Z"
    }
   },
   "outputs": [],
   "source": [
    "# lgb\n",
    "params = {'objective': 'regression',\n",
    "             'metric': 'rmse',\n",
    "             'boosting_type': 'gbdt',\n",
    "             'learning_rate': 0.01,\n",
    "             'seed': 42,\n",
    "             'num_iterations' : 5000,\n",
    "             'early_stopping_rounds' : 500\n",
    "            }\n",
    "#weight = {0:1, 6192:1, 12528:1, 18912:1, 25344:2, 31776:2, 38208:3, 44640:3}\n",
    "weight = {0:1, 6144:1, 12336:1, 18528:2, 24864:2, 31248:2, 37680:3}\n",
    "selected_feature = ['종목번호','그룹번호', '매수고객수',\n",
    "       '매수고객수rolling_mean2','매수고객수rolling_mean3', '매수고객수rolling_std2', '매수고객수rolling_std3',\n",
    "       '매수고객수diff1', '매수고객수diff2']"
   ]
  },
  {
   "cell_type": "code",
   "execution_count": 33,
   "metadata": {
    "ExecuteTime": {
     "end_time": "2020-09-13T09:57:29.544635Z",
     "start_time": "2020-09-13T09:57:28.174110Z"
    },
    "collapsed": true
   },
   "outputs": [
    {
     "name": "stdout",
     "output_type": "stream",
     "text": [
      "[LightGBM] [Warning] Auto-choosing row-wise multi-threading, the overhead of testing was 0.001023 seconds.\n",
      "You can set `force_row_wise=true` to remove the overhead.\n",
      "And if memory is not enough, you can set `force_col_wise=true`.\n",
      "[LightGBM] [Info] Total Bins 905\n",
      "[LightGBM] [Info] Number of data points in the train set: 44400, number of used features: 9\n",
      "[LightGBM] [Info] Start training from score 1.909432\n",
      "Training until validation scores don't improve for 500 rounds\n",
      "[100]\ttraining's rmse: 7.16952\tvalid_1's rmse: 11.2148\n",
      "[200]\ttraining's rmse: 5.46712\tvalid_1's rmse: 8.38786\n",
      "[300]\ttraining's rmse: 4.93311\tvalid_1's rmse: 7.73238\n",
      "[400]\ttraining's rmse: 4.66864\tvalid_1's rmse: 7.56708\n",
      "[500]\ttraining's rmse: 4.47889\tvalid_1's rmse: 7.52825\n",
      "[600]\ttraining's rmse: 4.33632\tvalid_1's rmse: 7.55366\n",
      "[700]\ttraining's rmse: 4.22094\tvalid_1's rmse: 7.55192\n",
      "[800]\ttraining's rmse: 4.12954\tvalid_1's rmse: 7.57242\n",
      "[900]\ttraining's rmse: 4.036\tvalid_1's rmse: 7.63942\n",
      "Early stopping, best iteration is:\n",
      "[470]\ttraining's rmse: 4.53462\tvalid_1's rmse: 7.50526\n"
     ]
    }
   ],
   "source": [
    "model, pred_train, pred_val, pred_test=\\\n",
    "    modelLightgbm(X_train, y_train, X_val, y_val, X_test , \\\n",
    "                  category_cols, weight=weight, params=params, selected_feature=selected_feature)"
   ]
  },
  {
   "cell_type": "code",
   "execution_count": 34,
   "metadata": {
    "ExecuteTime": {
     "end_time": "2020-09-13T09:57:29.560636Z",
     "start_time": "2020-09-13T09:57:29.545636Z"
    },
    "collapsed": true
   },
   "outputs": [
    {
     "name": "stdout",
     "output_type": "stream",
     "text": [
      "매수고객수rolling_mean3: 2368\n",
      "매수고객수rolling_std3: 2004\n",
      "매수고객수: 1767\n",
      "매수고객수rolling_mean2: 1681\n",
      "종목번호: 1589\n",
      "매수고객수diff1: 1317\n",
      "매수고객수diff2: 1188\n",
      "매수고객수rolling_std2: 1167\n",
      "그룹번호: 1019\n"
     ]
    }
   ],
   "source": [
    "feature_importances = model.feature_importance()\n",
    "feature_names = X_train[selected_feature].columns\n",
    "for score, name in sorted(zip(feature_importances, feature_names), reverse=True):\n",
    "    print('{}: {}'.format(name, score))"
   ]
  },
  {
   "cell_type": "code",
   "execution_count": null,
   "metadata": {},
   "outputs": [],
   "source": []
  },
  {
   "cell_type": "markdown",
   "metadata": {},
   "source": [
    "# ensemble"
   ]
  },
  {
   "cell_type": "markdown",
   "metadata": {},
   "source": [
    "일단 target pred 더해서 결과물"
   ]
  },
  {
   "cell_type": "code",
   "execution_count": 35,
   "metadata": {
    "ExecuteTime": {
     "end_time": "2020-09-13T09:58:05.513382Z",
     "start_time": "2020-09-13T09:58:05.506801Z"
    }
   },
   "outputs": [],
   "source": [
    "cat_lgb_sum = pred_test_cat + pred_test"
   ]
  },
  {
   "cell_type": "code",
   "execution_count": 36,
   "metadata": {
    "ExecuteTime": {
     "end_time": "2020-09-13T09:58:06.332559Z",
     "start_time": "2020-09-13T09:58:06.210660Z"
    }
   },
   "outputs": [],
   "source": [
    "cat_answer = makeSub(X_test_cat, cat_lgb_sum)"
   ]
  },
  {
   "cell_type": "code",
   "execution_count": 37,
   "metadata": {
    "ExecuteTime": {
     "end_time": "2020-09-13T09:58:06.964046Z",
     "start_time": "2020-09-13T09:58:06.956502Z"
    }
   },
   "outputs": [],
   "source": [
    "cat_answer.to_csv('0913_catAndLgb_fsDivide_roll23_diff12_dropNa_NoMinMax.csv', index=False)"
   ]
  },
  {
   "cell_type": "code",
   "execution_count": null,
   "metadata": {},
   "outputs": [],
   "source": []
  },
  {
   "cell_type": "markdown",
   "metadata": {},
   "source": [
    "# voting\n",
    "- 그룹마다 특징 이전보다 많이 사는~! 경우의 수를 count\n",
    "- 6월달 가장 잘 팔린 2개 + catboost 가장 잘 팔린 1개\n",
    "- lgb encoding : 2020년도 target만 해보기!"
   ]
  },
  {
   "cell_type": "code",
   "execution_count": 97,
   "metadata": {
    "ExecuteTime": {
     "end_time": "2020-09-13T13:19:19.633444Z",
     "start_time": "2020-09-13T13:19:19.343810Z"
    }
   },
   "outputs": [],
   "source": [
    "# 6월\n",
    "month6 = seq2seq_df.loc[seq2seq_df['기준년월']==202006, ['종목번호','그룹번호','매수고객수']]\n",
    "\n",
    "onlyMonth6 = pd.read_csv('answer_sheet.csv')\n",
    "result_cols = ['종목번호','그룹번호']\n",
    "sub = X_test_cat[result_cols].reset_index(drop=True)\n",
    "\n",
    "tmp = pd.merge(X_test_cat, month6, on=['종목번호','그룹번호'], how='left')\n",
    "\n",
    "sub['pred'] = tmp['매수고객수_y']\n",
    "sub = sub.sort_values(by=['그룹번호','pred'], ascending=[True, False])\n",
    "group_num = sub['그룹번호'].unique()\n",
    "\n",
    "sub_cat = X_test_cat[result_cols].reset_index(drop=True)\n",
    "sub_cat['pred'] = pred_test_cat\n",
    "sub_cat = sub_cat.sort_values(by=['그룹번호','pred'], ascending=[True, False])\n",
    "# sub_cat = sub_cat.sort_values(by=['그룹번호','pred'], ascending=[True, True]) # 오히려 cat이 그나마 rare한 경우 맞추도록\n",
    "\n",
    "for num in group_num:\n",
    "    val_cat = sub_cat.loc[sub_cat['그룹번호']==num][:2]['종목번호'].sort_values().values\n",
    "    val = sub.loc[sub['그룹번호']==num][:3]['종목번호'].sort_values().values\n",
    "    onlyMonth6.loc[onlyMonth6['그룹명']==num,'종목번호1':'종목번호2'] = val_cat\n",
    "    for value in val:\n",
    "        if value not in val:\n",
    "            onlyMonth6.loc[onlyMonth6['그룹명']==num,'종목번호3'] = value\n",
    "            break\n",
    "\n",
    "# 최종 sort\n",
    "for num in group_num:\n",
    "     onlyMonth6.loc[onlyMonth6['그룹명']==num,'종목번호1':] = \\\n",
    "        pd.Series(onlyMonth6.loc[onlyMonth6['그룹명']==num,'종목번호1':].values[0]).sort_values().values"
   ]
  },
  {
   "cell_type": "code",
   "execution_count": 98,
   "metadata": {
    "ExecuteTime": {
     "end_time": "2020-09-13T13:19:35.082376Z",
     "start_time": "2020-09-13T13:19:35.068860Z"
    }
   },
   "outputs": [],
   "source": [
    "onlyMonth6.to_csv('0913_onlyMonth6big1_catbig2_voting.csv', index=False)"
   ]
  },
  {
   "cell_type": "markdown",
   "metadata": {},
   "source": [
    "# Analysis"
   ]
  },
  {
   "cell_type": "markdown",
   "metadata": {},
   "source": [
    "- 그룹마다 특징 이전보다 많이 사는~! 경우의 수를 count\n",
    "- 거래랑은 okay 나머지는 별로인듯\n",
    "    - 나중에 추가적으로 feauture 생성방법 생각해보기"
   ]
  },
  {
   "cell_type": "code",
   "execution_count": null,
   "metadata": {},
   "outputs": [],
   "source": []
  },
  {
   "cell_type": "code",
   "execution_count": null,
   "metadata": {},
   "outputs": [],
   "source": []
  },
  {
   "cell_type": "code",
   "execution_count": null,
   "metadata": {},
   "outputs": [],
   "source": []
  },
  {
   "cell_type": "code",
   "execution_count": null,
   "metadata": {},
   "outputs": [],
   "source": []
  },
  {
   "cell_type": "code",
   "execution_count": null,
   "metadata": {},
   "outputs": [],
   "source": []
  }
 ],
 "metadata": {
  "kernelspec": {
   "display_name": "Python 3",
   "language": "python",
   "name": "python3"
  },
  "language_info": {
   "codemirror_mode": {
    "name": "ipython",
    "version": 3
   },
   "file_extension": ".py",
   "mimetype": "text/x-python",
   "name": "python",
   "nbconvert_exporter": "python",
   "pygments_lexer": "ipython3",
   "version": "3.8.3"
  }
 },
 "nbformat": 4,
 "nbformat_minor": 4
}
