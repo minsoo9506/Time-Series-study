{
 "metadata": {
  "language_info": {
   "codemirror_mode": {
    "name": "ipython",
    "version": 3
   },
   "file_extension": ".py",
   "mimetype": "text/x-python",
   "name": "python",
   "nbconvert_exporter": "python",
   "pygments_lexer": "ipython3",
   "version": "3.8.3-final"
  },
  "orig_nbformat": 2,
  "kernelspec": {
   "name": "python_defaultSpec_1600648950589",
   "display_name": "Python 3.8.3 64-bit ('pytorch': conda)"
  }
 },
 "nbformat": 4,
 "nbformat_minor": 2,
 "cells": [
  {
   "cell_type": "code",
   "execution_count": 1,
   "metadata": {},
   "outputs": [],
   "source": [
    "import pandas as pd\n",
    "import numpy as np\n",
    "import matplotlib.pyplot as plt\n",
    "import seaborn as sns\n",
    "\n",
    "trade = pd.read_csv('trade_train.csv', index_col=0)\n",
    "stock = pd.read_csv('stocks.csv'\n",
    ", index_col=0)\n",
    "answer = pd.read_csv('answer_sheet.csv')"
   ]
  },
  {
   "cell_type": "code",
   "execution_count": 2,
   "metadata": {},
   "outputs": [],
   "source": [
    "from DataSet import makeDataset, makeCV, encoding, makeSub\n",
    "from myModel import modelCatboost, modelLightgbm, linear\n",
    "from sklearn.metrics import mean_squared_error"
   ]
  },
  {
   "cell_type": "code",
   "execution_count": 3,
   "metadata": {},
   "outputs": [],
   "source": [
    "best_feature = [\n",
    "       '종목번호', '거래량_mean_weekdiff41',  '거래금액_mean', \n",
    "       '거래량4_mean', '그룹번호', '매수고객수', '매수고객수rolling_mean2', '매수고객수rolling_mean3', '매수고객수rolling_std2', '매수고객수rolling_std3', '매수고객수rolling_max2', '매수고객수rolling_max3', '매수고객수rolling_min2', '매수고객수rolling_min3', '매수고객수diff1', '매수고객수diff2']"
   ]
  },
  {
   "cell_type": "code",
   "execution_count": 4,
   "metadata": {},
   "outputs": [],
   "source": [
    "seq2seq = pd.read_csv('seq2seq_df.csv')"
   ]
  },
  {
   "cell_type": "code",
   "execution_count": 5,
   "metadata": {
    "tags": []
   },
   "outputs": [
    {
     "output_type": "stream",
     "name": "stdout",
     "text": "cut use : False, quantile : 0.99, rolling range: [2, 3], diff range : [1, 2], use MinMAx : True\n"
    }
   ],
   "source": [
    "#df_rolling23_diff12_MinMax = makeDataset(seq2seq, use_cut=False, cut_quantile=0.99, rolling_range=[2,3], diff_range=[1,2],use_minmax=True)"
   ]
  },
  {
   "cell_type": "code",
   "execution_count": 6,
   "metadata": {},
   "outputs": [],
   "source": [
    "#df_rolling23_diff12_MinMax.to_csv('df_rolling23_diff12_MinMax.csv', index=False)\n",
    "df_rolling23_diff12_MinMax = pd.read_csv('df_rolling23_diff12_MinMax.csv')"
   ]
  },
  {
   "cell_type": "code",
   "execution_count": 9,
   "metadata": {
    "tags": []
   },
   "outputs": [
    {
     "output_type": "stream",
     "name": "stdout",
     "text": "weight_idx : [0, 6144, 12336, 18528, 24864, 31248, 37680, 44112]\n"
    }
   ],
   "source": [
    " X_train_cat, y_train_cat, X_val_cat, y_val_cat, X_test_cat = \\\n",
    "     makeCV(df_rolling23_diff12_MinMax, train_=[201909, 201910, 201911, 201912, 202001, 202002, 202003, 202004], use_catboost=True)\n"
   ]
  },
  {
   "source": [
    "# Catboost optimization"
   ],
   "cell_type": "markdown",
   "metadata": {}
  },
  {
   "cell_type": "code",
   "execution_count": 9,
   "metadata": {},
   "outputs": [],
   "source": [
    "X_train_cv = pd.concat([X_train_cat, X_val_cat])\n",
    "y_train_cv = pd.concat([y_train_cat, y_val_cat])"
   ]
  },
  {
   "cell_type": "code",
   "execution_count": 10,
   "metadata": {},
   "outputs": [],
   "source": [
    "from bayes_opt import BayesianOptimization\n",
    "from catboost import Pool, cv"
   ]
  },
  {
   "cell_type": "code",
   "execution_count": 24,
   "metadata": {},
   "outputs": [],
   "source": [
    "sample_weight = np.zeros(X_train_cv.shape[0])\n",
    "sample_weight[:24864] = 1 \n",
    "sample_weight[24864:] = 3\n",
    "\n",
    "def cat_hyp(depth, bagging_temperature): # Function to optimize depth and bagging temperature\n",
    "    params = {\n",
    "        'iterations': 2500,\n",
    "        #'learning_rate': 0.03,\n",
    "        'random_seed': 42,\n",
    "        'use_best_model': True,\n",
    "        'task_type' : 'GPU',\n",
    "        'border_count' : 254,\n",
    "        'early_stopping_rounds' : 800,\n",
    "        'eval_metric' : 'RMSE',\n",
    "        \"loss_function\": \"RMSE\",\n",
    "        'verbose' : False\n",
    "    }\n",
    "    params[\"depth\"] = int(round(depth)) \n",
    "    params[\"bagging_temperature\"] = bagging_temperature\n",
    "\n",
    "    category_cols = ['종목번호','그룹번호','시장구분']\n",
    "    cv_dataset = Pool(data=X_train_cv[best_feature],\n",
    "                    label=y_train_cv,\n",
    "                    cat_features=category_cols, weight=sample_weight)\n",
    "\n",
    "    scores = cv(cv_dataset,\n",
    "                params,\n",
    "                fold_count=4)\n",
    "    return -np.min(scores['test-RMSE-mean'])  "
   ]
  },
  {
   "cell_type": "code",
   "execution_count": 7,
   "metadata": {
    "tags": []
   },
   "outputs": [],
   "source": [
    "# Search space\n",
    "pds = {'depth': (8, 10),\n",
    "          'bagging_temperature': (0,5)\n",
    "          }\n",
    "\n",
    "# Surrogate model\n",
    "optimizer = BayesianOptimization(cat_hyp, pds, random_state=2100)\n",
    "                                  \n",
    "# Optimize\n",
    "optimizer.maximize(init_points=3, n_iter=7)"
   ]
  },
  {
   "cell_type": "code",
   "execution_count": 105,
   "metadata": {},
   "outputs": [],
   "source": [
    "cat_answer = makeSub(X_test, pred_test_cat_fs)\n",
    "cat_answer.to_csv('0921_catboost_bestFs_borderCount254_depth9_iter5000.csv', index=False)"
   ]
  }
 ]
}