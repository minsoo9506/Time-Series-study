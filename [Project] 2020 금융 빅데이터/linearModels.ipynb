{
 "metadata": {
  "language_info": {
   "codemirror_mode": {
    "name": "ipython",
    "version": 3
   },
   "file_extension": ".py",
   "mimetype": "text/x-python",
   "name": "python",
   "nbconvert_exporter": "python",
   "pygments_lexer": "ipython3",
   "version": "3.8.3-final"
  },
  "orig_nbformat": 2,
  "kernelspec": {
   "name": "python_defaultSpec_1600649459706",
   "display_name": "Python 3.8.3 64-bit ('pytorch': conda)"
  }
 },
 "nbformat": 4,
 "nbformat_minor": 2,
 "cells": [
  {
   "cell_type": "code",
   "execution_count": 2,
   "metadata": {},
   "outputs": [],
   "source": [
    "import pandas as pd\n",
    "import numpy as np\n",
    "import matplotlib.pyplot as plt\n",
    "import seaborn as sns\n",
    "\n",
    "trade = pd.read_csv('trade_train.csv', index_col=0)\n",
    "stock = pd.read_csv('stocks.csv'\n",
    ", index_col=0)\n",
    "answer = pd.read_csv('answer_sheet.csv')"
   ]
  },
  {
   "cell_type": "code",
   "execution_count": 3,
   "metadata": {},
   "outputs": [],
   "source": [
    "from DataSet import makeDataset, makeCV, encoding, makeSub\n",
    "from myModel import linear\n",
    "from sklearn.linear_model import Lasso\n",
    "from sklearn.metrics import mean_squared_error"
   ]
  },
  {
   "cell_type": "code",
   "execution_count": 4,
   "metadata": {},
   "outputs": [],
   "source": [
    "seq2seq_df = pd.read_csv('seq2seq_df.csv')"
   ]
  },
  {
   "cell_type": "code",
   "execution_count": 5,
   "metadata": {
    "tags": []
   },
   "outputs": [],
   "source": [
    "df_rolling23_diff12_MinMax = pd.read_csv('df_rolling23_diff12_MinMax.csv')\n",
    "#df_rolling23_diff12_MinMax = makeDataset(seq2seq_df, rolling_range=[2,3], diff_range=[1,2], save_na=False, use_minmax=True)\n",
    "# df_rolling23_diff1_NoMinMax = makeDataset(seq2seq_df, rolling_range=[2,3], diff_range=[1], save_na=False, use_minmax=False)\n",
    "# df_rolling2_diff12_NoMinmax = makeDataset(seq2seq_df, rolling_range=[2], diff_range=[1,2], save_na=False, use_minmax=False)\n",
    "# df_rolling2_diff1_NoMinmax = makeDataset(seq2seq_df, rolling_range=[2], diff_range=[1], save_na=False, use_minmax=True)"
   ]
  },
  {
   "cell_type": "code",
   "execution_count": 6,
   "metadata": {},
   "outputs": [
    {
     "output_type": "execute_result",
     "data": {
      "text/plain": "      종목번호  종목고가_mean  종목고가_max  종목고가_min  종목고가_std  종목저가_mean  종목저가_max  \\\n0  A000100  229552.63    237000    219000   4287.89  224578.95    230000   \n1  A000100  229552.63    237000    219000   4287.89  224578.95    230000   \n2  A000100  229552.63    237000    219000   4287.89  224578.95    230000   \n\n   종목저가_min  종목저가_std    기준년월  ...  매수고객수rolling_max3  매수고객수rolling_min2  \\\n0    215000   4369.28  201909  ...                0.0                0.0   \n1    215000   4369.28  201909  ...                0.0                0.0   \n2    215000   4369.28  201909  ...                0.0                0.0   \n\n   매수고객수rolling_min3  매도고객수diff1  매도고객수diff2  매수고객수diff1  매수고객수diff2  \\\n0                0.0         0.0         0.0         0.0         0.0   \n1                0.0         0.0         0.0         0.0         0.0   \n2                0.0         0.0         0.0         0.0         0.0   \n\n   group_char1  group_char4  target  \n0            0            0     0.0  \n1            0            1     0.0  \n2            0            0     0.0  \n\n[3 rows x 67 columns]",
      "text/html": "<div>\n<style scoped>\n    .dataframe tbody tr th:only-of-type {\n        vertical-align: middle;\n    }\n\n    .dataframe tbody tr th {\n        vertical-align: top;\n    }\n\n    .dataframe thead th {\n        text-align: right;\n    }\n</style>\n<table border=\"1\" class=\"dataframe\">\n  <thead>\n    <tr style=\"text-align: right;\">\n      <th></th>\n      <th>종목번호</th>\n      <th>종목고가_mean</th>\n      <th>종목고가_max</th>\n      <th>종목고가_min</th>\n      <th>종목고가_std</th>\n      <th>종목저가_mean</th>\n      <th>종목저가_max</th>\n      <th>종목저가_min</th>\n      <th>종목저가_std</th>\n      <th>기준년월</th>\n      <th>...</th>\n      <th>매수고객수rolling_max3</th>\n      <th>매수고객수rolling_min2</th>\n      <th>매수고객수rolling_min3</th>\n      <th>매도고객수diff1</th>\n      <th>매도고객수diff2</th>\n      <th>매수고객수diff1</th>\n      <th>매수고객수diff2</th>\n      <th>group_char1</th>\n      <th>group_char4</th>\n      <th>target</th>\n    </tr>\n  </thead>\n  <tbody>\n    <tr>\n      <th>0</th>\n      <td>A000100</td>\n      <td>229552.63</td>\n      <td>237000</td>\n      <td>219000</td>\n      <td>4287.89</td>\n      <td>224578.95</td>\n      <td>230000</td>\n      <td>215000</td>\n      <td>4369.28</td>\n      <td>201909</td>\n      <td>...</td>\n      <td>0.0</td>\n      <td>0.0</td>\n      <td>0.0</td>\n      <td>0.0</td>\n      <td>0.0</td>\n      <td>0.0</td>\n      <td>0.0</td>\n      <td>0</td>\n      <td>0</td>\n      <td>0.0</td>\n    </tr>\n    <tr>\n      <th>1</th>\n      <td>A000100</td>\n      <td>229552.63</td>\n      <td>237000</td>\n      <td>219000</td>\n      <td>4287.89</td>\n      <td>224578.95</td>\n      <td>230000</td>\n      <td>215000</td>\n      <td>4369.28</td>\n      <td>201909</td>\n      <td>...</td>\n      <td>0.0</td>\n      <td>0.0</td>\n      <td>0.0</td>\n      <td>0.0</td>\n      <td>0.0</td>\n      <td>0.0</td>\n      <td>0.0</td>\n      <td>0</td>\n      <td>1</td>\n      <td>0.0</td>\n    </tr>\n    <tr>\n      <th>2</th>\n      <td>A000100</td>\n      <td>229552.63</td>\n      <td>237000</td>\n      <td>219000</td>\n      <td>4287.89</td>\n      <td>224578.95</td>\n      <td>230000</td>\n      <td>215000</td>\n      <td>4369.28</td>\n      <td>201909</td>\n      <td>...</td>\n      <td>0.0</td>\n      <td>0.0</td>\n      <td>0.0</td>\n      <td>0.0</td>\n      <td>0.0</td>\n      <td>0.0</td>\n      <td>0.0</td>\n      <td>0</td>\n      <td>0</td>\n      <td>0.0</td>\n    </tr>\n  </tbody>\n</table>\n<p>3 rows × 67 columns</p>\n</div>"
     },
     "metadata": {},
     "execution_count": 6
    }
   ],
   "source": [
    "df_rolling23_diff12_MinMax.head(3)"
   ]
  },
  {
   "cell_type": "code",
   "execution_count": 12,
   "metadata": {
    "tags": []
   },
   "outputs": [
    {
     "output_type": "stream",
     "name": "stdout",
     "text": "weight_idx : [0, 6144, 12336, 18528, 24864, 31248, 37680, 44112]\n"
    }
   ],
   "source": [
    " X_train, y_train, X_val, y_val, X_test = \\\n",
    "     makeCV(df_rolling23_diff12_MinMax, train_=[201909, 201910, 201911, 201912, 202001, 202002, 202003, 202004])"
   ]
  },
  {
   "cell_type": "code",
   "execution_count": 13,
   "metadata": {
    "tags": []
   },
   "outputs": [
    {
     "output_type": "stream",
     "name": "stdout",
     "text": "train len: 5108\n"
    }
   ],
   "source": [
    "\n",
    " category_cols = ['종목번호', '시장구분', '표준산업구분코드_대분류', '표준산업구분코드_중분류', '그룹번호']\n",
    " X_train_en, X_val_en, X_test_en = encoding(X_train.copy(), y_train.copy(), X_val.copy(), X_test.copy(), category_cols=category_cols, year2020=True, dropTargetZero=True)"
   ]
  },
  {
   "cell_type": "code",
   "execution_count": 14,
   "metadata": {},
   "outputs": [],
   "source": [
    "best_feature = [\n",
    "       '종목번호', '거래량_mean_weekdiff41',  '거래금액_mean', \n",
    "       '거래량4_mean', '그룹번호', '매수고객수', '매수고객수rolling_mean2', '매수고객수rolling_mean3', '매수고객수rolling_std2', '매수고객수rolling_std3', '매수고객수rolling_max2', '매수고객수rolling_max3', '매수고객수rolling_min2', '매수고객수rolling_min3', '매수고객수diff1', '매수고객수diff2']\n",
    "\n",
    "X_train_en = X_train_en[best_feature]\n",
    "X_val_en = X_val_en[best_feature]\n",
    "X_test_en = X_test_en[best_feature]"
   ]
  },
  {
   "source": [
    "# 48개의 linear model"
   ],
   "cell_type": "markdown",
   "metadata": {}
  },
  {
   "cell_type": "code",
   "execution_count": 15,
   "metadata": {},
   "outputs": [],
   "source": [
    "def lassoModel(train_cols):\n",
    "    groups = X_train['그룹번호'].unique()\n",
    "    X_train_en['pred_train']=np.nan\n",
    "    X_val_en['pred_val']=np.nan\n",
    "    X_test_en['pred_test']=np.nan\n",
    "    val_error = []\n",
    "    coef = np.zeros([48,len(train_cols)])\n",
    "\n",
    "    for idx, group in enumerate(groups):\n",
    "\n",
    "        linear_train = X_train_en.loc[X_train['그룹번호']==group, train_cols]\n",
    "        linear_val = X_val_en.loc[X_val['그룹번호']==group, train_cols]\n",
    "        linear_test = X_test_en.loc[X_test['그룹번호']==group, train_cols]\n",
    "\n",
    "        lasso = Lasso(max_iter=2000)\n",
    "        lasso.fit(linear_train, y_train.iloc[linear_train.index])\n",
    "        \n",
    "        X_train_en.loc[X_train['그룹번호']==group, 'pred_train'] = lasso.predict(linear_train)\n",
    "        X_val_en.loc[X_val['그룹번호']==group, 'pred_val'] = lasso.predict(linear_val)\n",
    "        X_test_en.loc[X_test['그룹번호']==group, 'pred_test'] = lasso.predict(linear_test)\n",
    "        \n",
    "        coef[idx] = lasso.coef_\n",
    "\n",
    "        mse = mean_squared_error( y_val.iloc[linear_val.index], X_val_en.loc[X_val['그룹번호']==group, 'pred_val'])\n",
    "        print('lasso validation rmse', group, np.sqrt(mse))\n",
    "        val_error.append(mse)\n",
    "    print('[coef == 0]')\n",
    "    for i, t in enumerate((coef.mean(axis=0) == 0).tolist()):\n",
    "        if t:\n",
    "            print(train_cols[i])\n",
    "\n",
    "    return coef, val_error"
   ]
  },
  {
   "cell_type": "code",
   "execution_count": 16,
   "metadata": {
    "tags": []
   },
   "outputs": [
    {
     "output_type": "stream",
     "name": "stdout",
     "text": "lasso validation rmse MAD01 10.32213854703865\nlasso validation rmse MAD02 2.915709713247529\nlasso validation rmse MAD03 8.167757218917579\nlasso validation rmse MAD04 19.44189876379759\nlasso validation rmse MAD05 22.19843266247098\nlasso validation rmse MAD06 53.798775989032244\nlasso validation rmse MAD07 3.337932151014475\nlasso validation rmse MAD08 7.600121797606808\nlasso validation rmse MAD09 15.670871947670756\nlasso validation rmse MAD10 5.324039427550753\nlasso validation rmse MAD11 5.9217879289107955\nlasso validation rmse MAD12 5.16625774823753\nlasso validation rmse MAD13 10.250416674555606\nlasso validation rmse MAD14 8.784008418810734\nlasso validation rmse MAD15 4.248895556186751\nlasso validation rmse MAD16 3.2758729040642116\nlasso validation rmse MAD17 10.351340336879462\nlasso validation rmse MAD18 12.986841809081948\nlasso validation rmse MAD19 4.282695954323562\nlasso validation rmse MAD20 3.773434240867231\nlasso validation rmse MAD21 17.060959118650846\nlasso validation rmse MAD22 3.53602363564866\nlasso validation rmse MAD23 54.22759889643696\nlasso validation rmse MAD24 2.2609600391222004\nlasso validation rmse MAD25 2.728653725639177\nlasso validation rmse MAD26 7.227826184853919\nlasso validation rmse MAD27 4.819248305559877\nlasso validation rmse MAD28 3.603480904190512\nlasso validation rmse MAD29 1.5135735499449294\nlasso validation rmse MAD30 2.1054300797926113\nlasso validation rmse MAD31 1.4634859223019945\nlasso validation rmse MAD32 2.5278856527515203\nlasso validation rmse MAD33 8.060074291800536\nlasso validation rmse MAD34 3.4032469132049186\nlasso validation rmse MAD35 21.08548393181332\nlasso validation rmse MAD36 4.795474218362919\nlasso validation rmse MAD37 7.388610398370268\nlasso validation rmse MAD38 17.361740998263045\nlasso validation rmse MAD39 3.364958966036609\nlasso validation rmse MAD40 2.5167733922835955\nlasso validation rmse MAD41 23.109210258645007\nlasso validation rmse MAD42 10.37678975282052\nlasso validation rmse MAD43 80.8224537434336\nlasso validation rmse MAD44 10.115745848348645\nlasso validation rmse MAD45 5.447505095185109\nlasso validation rmse MAD46 23.317472199282044\nlasso validation rmse MAD47 8.30759453282719\nlasso validation rmse MAD48 5.110246320372185\n[coef == 0]\n그룹번호\n매수고객수rolling_mean2\n매수고객수rolling_mean3\n매수고객수rolling_std3\n"
    }
   ],
   "source": [
    "coef1, val_error1 = lassoModel(best_feature)"
   ]
  },
  {
   "source": [
    "- 10이상 : 01, 04, 09, 13, 14, 17, 18, 21, 38, 42, 44\n",
    "- 20이상 : 05, 06, 23, 35, 41, 43, 46\n",
    "- 나머지\n"
   ],
   "cell_type": "markdown",
   "metadata": {}
  }
 ]
}