{
 "cells": [
  {
   "cell_type": "code",
   "execution_count": 3,
   "metadata": {
    "ExecuteTime": {
     "end_time": "2020-09-06T05:04:53.347015Z",
     "start_time": "2020-09-06T05:04:50.171275Z"
    }
   },
   "outputs": [],
   "source": [
    "import pandas as pd\n",
    "import numpy as np\n",
    "import matplotlib.pyplot as plt\n",
    "import seaborn as sns\n",
    "\n",
    "trade = pd.read_csv('trade_train.csv', index_col=0)\n",
    "stock = pd.read_csv('stocks.csv', index_col=0)\n",
    "answer = pd.read_csv('answer_sheet.csv')"
   ]
  },
  {
   "cell_type": "code",
   "execution_count": 4,
   "metadata": {
    "ExecuteTime": {
     "end_time": "2020-09-05T14:10:22.486908Z",
     "start_time": "2020-09-05T14:10:22.321910Z"
    }
   },
   "outputs": [],
   "source": [
    "final_stock = stock.loc[stock['20년7월TOP3대상여부']=='Y'].reset_index(drop=True)\n",
    "final_stock.drop(['종목명','20년7월TOP3대상여부'], axis=1, inplace=True)\n",
    "\n",
    "final_stock['year'] = final_stock['기준일자'].map(lambda x : str(x)[:4])\n",
    "final_stock['month'] = final_stock['기준일자'].map(lambda x : str(x)[4:6])\n",
    "final_stock['day'] = final_stock['기준일자'].map(lambda x : str(x)[6:])\n",
    "\n",
    "company_list = final_stock['종목번호'].unique()\n",
    "\n",
    "def fourWeeks(x):\n",
    "    if x < 8:\n",
    "        return 1\n",
    "    elif x < 15:\n",
    "        return 2\n",
    "    elif x < 22:\n",
    "        return 3\n",
    "    else:\n",
    "        return 4\n",
    "\n",
    "final_stock['week'] = final_stock['day'].astype(np.int16).map(fourWeeks)\n"
   ]
  },
  {
   "cell_type": "code",
   "execution_count": 5,
   "metadata": {},
   "outputs": [
    {
     "output_type": "execute_result",
     "data": {
      "text/plain": "4    10858\n3     8347\n2     8215\n1     8063\nName: week, dtype: int64"
     },
     "metadata": {},
     "execution_count": 5
    }
   ],
   "source": [
    "final_stock['week'].value_counts()"
   ]
  },
  {
   "cell_type": "code",
   "execution_count": 6,
   "metadata": {
    "tags": []
   },
   "outputs": [
    {
     "output_type": "stream",
     "name": "stdout",
     "text": "(1725, 18)\n"
    },
    {
     "output_type": "execute_result",
     "data": {
      "text/plain": "      종목번호     거래량4_mean  거래량4_max  거래량4_min       거래량1_std      거래량2_std  \\\n0  A000100  29075.250000   50035.0   18997.0  136743.365328   5960.026804   \n1  A000100  34131.571429   51455.0   23481.0   16324.680233  11080.926351   \n2  A000100  25128.000000   33724.0   16450.0    3208.891366  52791.795158   \n3  A000100  31877.750000   50118.0   23046.0    4851.435423   6209.414432   \n4  A000100  31503.333333   65260.0   15802.0   29276.735889   9269.334712   \n\n       거래량3_std      거래량4_std    기준일자  거래량_mean_weekdiff41  \\\n0   6328.185577  10956.123529  201907       -126822.950000   \n1   3395.221790   9352.261328  201908        -25283.228571   \n2  23545.205336   5691.504933  201909           992.600000   \n3   3443.524256   8533.890400  201910          1541.250000   \n4   7539.677798  17594.827634  201911        -11207.266667   \n\n   거래량_mean_weekdiff42  거래량_mean_weekdiff43  거래량_max_weekdiff41  \\\n0        -15499.750000        -12617.550000           -345722.0   \n1          3760.971429          9204.071429            -33553.0   \n2        -47574.000000        -27779.600000              6496.0   \n3           633.000000          3497.350000             14461.0   \n4         -6142.666667          4837.733333            -29194.0   \n\n   거래량_max_weekdiff42  거래량_max_weekdiff43  거래량_min_weekdiff41  \\\n0             -3097.0             -1081.0            -41327.0   \n1              3513.0             22457.0            -16334.0   \n2            -96444.0            -55824.0             -2458.0   \n3             13809.0             16565.0             -1157.0   \n4             18794.0             30935.0             -8113.0   \n\n   거래량_min_weekdiff42  거래량_min_weekdiff43  \n0            -19358.0            -14482.0  \n1              6261.0              1990.0  \n2             -9906.0            -19800.0  \n3               470.0             -2632.0  \n4             -8324.0               420.0  ",
      "text/html": "<div>\n<style scoped>\n    .dataframe tbody tr th:only-of-type {\n        vertical-align: middle;\n    }\n\n    .dataframe tbody tr th {\n        vertical-align: top;\n    }\n\n    .dataframe thead th {\n        text-align: right;\n    }\n</style>\n<table border=\"1\" class=\"dataframe\">\n  <thead>\n    <tr style=\"text-align: right;\">\n      <th></th>\n      <th>종목번호</th>\n      <th>거래량4_mean</th>\n      <th>거래량4_max</th>\n      <th>거래량4_min</th>\n      <th>거래량1_std</th>\n      <th>거래량2_std</th>\n      <th>거래량3_std</th>\n      <th>거래량4_std</th>\n      <th>기준일자</th>\n      <th>거래량_mean_weekdiff41</th>\n      <th>거래량_mean_weekdiff42</th>\n      <th>거래량_mean_weekdiff43</th>\n      <th>거래량_max_weekdiff41</th>\n      <th>거래량_max_weekdiff42</th>\n      <th>거래량_max_weekdiff43</th>\n      <th>거래량_min_weekdiff41</th>\n      <th>거래량_min_weekdiff42</th>\n      <th>거래량_min_weekdiff43</th>\n    </tr>\n  </thead>\n  <tbody>\n    <tr>\n      <th>0</th>\n      <td>A000100</td>\n      <td>29075.250000</td>\n      <td>50035.0</td>\n      <td>18997.0</td>\n      <td>136743.365328</td>\n      <td>5960.026804</td>\n      <td>6328.185577</td>\n      <td>10956.123529</td>\n      <td>201907</td>\n      <td>-126822.950000</td>\n      <td>-15499.750000</td>\n      <td>-12617.550000</td>\n      <td>-345722.0</td>\n      <td>-3097.0</td>\n      <td>-1081.0</td>\n      <td>-41327.0</td>\n      <td>-19358.0</td>\n      <td>-14482.0</td>\n    </tr>\n    <tr>\n      <th>1</th>\n      <td>A000100</td>\n      <td>34131.571429</td>\n      <td>51455.0</td>\n      <td>23481.0</td>\n      <td>16324.680233</td>\n      <td>11080.926351</td>\n      <td>3395.221790</td>\n      <td>9352.261328</td>\n      <td>201908</td>\n      <td>-25283.228571</td>\n      <td>3760.971429</td>\n      <td>9204.071429</td>\n      <td>-33553.0</td>\n      <td>3513.0</td>\n      <td>22457.0</td>\n      <td>-16334.0</td>\n      <td>6261.0</td>\n      <td>1990.0</td>\n    </tr>\n    <tr>\n      <th>2</th>\n      <td>A000100</td>\n      <td>25128.000000</td>\n      <td>33724.0</td>\n      <td>16450.0</td>\n      <td>3208.891366</td>\n      <td>52791.795158</td>\n      <td>23545.205336</td>\n      <td>5691.504933</td>\n      <td>201909</td>\n      <td>992.600000</td>\n      <td>-47574.000000</td>\n      <td>-27779.600000</td>\n      <td>6496.0</td>\n      <td>-96444.0</td>\n      <td>-55824.0</td>\n      <td>-2458.0</td>\n      <td>-9906.0</td>\n      <td>-19800.0</td>\n    </tr>\n    <tr>\n      <th>3</th>\n      <td>A000100</td>\n      <td>31877.750000</td>\n      <td>50118.0</td>\n      <td>23046.0</td>\n      <td>4851.435423</td>\n      <td>6209.414432</td>\n      <td>3443.524256</td>\n      <td>8533.890400</td>\n      <td>201910</td>\n      <td>1541.250000</td>\n      <td>633.000000</td>\n      <td>3497.350000</td>\n      <td>14461.0</td>\n      <td>13809.0</td>\n      <td>16565.0</td>\n      <td>-1157.0</td>\n      <td>470.0</td>\n      <td>-2632.0</td>\n    </tr>\n    <tr>\n      <th>4</th>\n      <td>A000100</td>\n      <td>31503.333333</td>\n      <td>65260.0</td>\n      <td>15802.0</td>\n      <td>29276.735889</td>\n      <td>9269.334712</td>\n      <td>7539.677798</td>\n      <td>17594.827634</td>\n      <td>201911</td>\n      <td>-11207.266667</td>\n      <td>-6142.666667</td>\n      <td>4837.733333</td>\n      <td>-29194.0</td>\n      <td>18794.0</td>\n      <td>30935.0</td>\n      <td>-8113.0</td>\n      <td>-8324.0</td>\n      <td>420.0</td>\n    </tr>\n  </tbody>\n</table>\n</div>"
     },
     "metadata": {},
     "execution_count": 6
    }
   ],
   "source": [
    "\n",
    "weekby_df =  pd.DataFrame(final_stock.groupby(['year','month','종목번호','week'])['거래량'].agg(['mean', 'max', 'min', 'std']))\\\n",
    "    .unstack().reset_index()\n",
    "weekby_df['기준일자'] = weekby_df['year'].map(str) + weekby_df['month'].map(str)\n",
    "weekby_df.columns = ['year','month','종목번호','거래량1_mean','거래량2_mean','거래량3_mean','거래량4_mean','거래량1_max','거래량2_max','거래량3_max','거래량4_max','거래량1_min','거래량2_min','거래량3_min','거래량4_min','거래량1_std','거래량2_std','거래량3_std','거래량4_std','기준일자']\n",
    "\n",
    "weekby_df['거래량_mean_weekdiff41'] = weekby_df['거래량4_mean'] - weekby_df['거래량1_mean']\n",
    "weekby_df['거래량_mean_weekdiff42'] = weekby_df['거래량4_mean'] - weekby_df['거래량2_mean']\n",
    "weekby_df['거래량_mean_weekdiff43'] = weekby_df['거래량4_mean'] - weekby_df['거래량3_mean']\n",
    "\n",
    "weekby_df['거래량_max_weekdiff41'] = weekby_df['거래량4_max'] - weekby_df['거래량1_max']\n",
    "weekby_df['거래량_max_weekdiff42'] = weekby_df['거래량4_max'] - weekby_df['거래량2_max']\n",
    "weekby_df['거래량_max_weekdiff43'] = weekby_df['거래량4_max'] - weekby_df['거래량3_max']\n",
    "\n",
    "weekby_df['거래량_min_weekdiff41'] = weekby_df['거래량4_min'] - weekby_df['거래량1_min']\n",
    "weekby_df['거래량_min_weekdiff42'] = weekby_df['거래량4_min'] - weekby_df['거래량2_min']\n",
    "weekby_df['거래량_min_weekdiff43'] = weekby_df['거래량4_min'] - weekby_df['거래량3_min']\n",
    "\n",
    "fillna_func = lambda x : x.fillna(x.mean())\n",
    "weekby_df = weekby_df.groupby(['종목번호','year']).apply(fillna_func)\n",
    "\n",
    "weekby_df.index = range(weekby_df.shape[0])\n",
    "\n",
    "weekby_df_drop_cols = ['year','month','거래량1_mean','거래량2_mean','거래량3_mean','거래량1_max','거래량2_max','거래량3_max','거래량1_min','거래량2_min','거래량3_min']\n",
    "weekby_df.drop(weekby_df_drop_cols, inplace=True, axis=1)\n",
    "\n",
    "print(weekby_df.shape)\n",
    "weekby_df.head()"
   ]
  },
  {
   "cell_type": "code",
   "execution_count": 7,
   "metadata": {
    "tags": []
   },
   "outputs": [
    {
     "output_type": "stream",
     "name": "stdout",
     "text": "(1725, 6)\n"
    },
    {
     "output_type": "execute_result",
     "data": {
      "text/plain": "      종목번호     거래금액_mean  거래금액_max  거래금액_min      거래금액_std    기준일자\n0  A000100  1.509332e+06  10139357    440174  2.002812e+06  201907\n1  A000140  1.266896e+06   9976705      5792  2.479253e+06  201907\n2  A000440  1.288330e+04     32739      2365  9.501437e+03  201907\n3  A000660  2.244919e+07  38395774  10526521  7.441696e+06  201907\n4  A000885  1.351755e+05    438430     35199  8.610133e+04  201907",
      "text/html": "<div>\n<style scoped>\n    .dataframe tbody tr th:only-of-type {\n        vertical-align: middle;\n    }\n\n    .dataframe tbody tr th {\n        vertical-align: top;\n    }\n\n    .dataframe thead th {\n        text-align: right;\n    }\n</style>\n<table border=\"1\" class=\"dataframe\">\n  <thead>\n    <tr style=\"text-align: right;\">\n      <th></th>\n      <th>종목번호</th>\n      <th>거래금액_mean</th>\n      <th>거래금액_max</th>\n      <th>거래금액_min</th>\n      <th>거래금액_std</th>\n      <th>기준일자</th>\n    </tr>\n  </thead>\n  <tbody>\n    <tr>\n      <th>0</th>\n      <td>A000100</td>\n      <td>1.509332e+06</td>\n      <td>10139357</td>\n      <td>440174</td>\n      <td>2.002812e+06</td>\n      <td>201907</td>\n    </tr>\n    <tr>\n      <th>1</th>\n      <td>A000140</td>\n      <td>1.266896e+06</td>\n      <td>9976705</td>\n      <td>5792</td>\n      <td>2.479253e+06</td>\n      <td>201907</td>\n    </tr>\n    <tr>\n      <th>2</th>\n      <td>A000440</td>\n      <td>1.288330e+04</td>\n      <td>32739</td>\n      <td>2365</td>\n      <td>9.501437e+03</td>\n      <td>201907</td>\n    </tr>\n    <tr>\n      <th>3</th>\n      <td>A000660</td>\n      <td>2.244919e+07</td>\n      <td>38395774</td>\n      <td>10526521</td>\n      <td>7.441696e+06</td>\n      <td>201907</td>\n    </tr>\n    <tr>\n      <th>4</th>\n      <td>A000885</td>\n      <td>1.351755e+05</td>\n      <td>438430</td>\n      <td>35199</td>\n      <td>8.610133e+04</td>\n      <td>201907</td>\n    </tr>\n  </tbody>\n</table>\n</div>"
     },
     "metadata": {},
     "execution_count": 7
    }
   ],
   "source": [
    "stock_df = pd.DataFrame(final_stock.groupby(['year','month','종목번호'])['거래금액_만원단위'].agg(['mean', 'max', 'min', 'std'])).reset_index()\n",
    "stock_df['기준일자'] = stock_df['year'].map(str) + stock_df['month'].map(str)\n",
    "stock_df.columns = ['year','month','종목번호','거래금액_mean','거래금액_max', '거래금액_min', '거래금액_std','기준일자']\n",
    "stock_df.drop(['year','month'], inplace=True, axis=1)\n",
    "print(stock_df.shape)\n",
    "stock_df.head()\n"
   ]
  },
  {
   "cell_type": "code",
   "execution_count": 8,
   "metadata": {},
   "outputs": [],
   "source": [
    "stock_weekby_df = pd.merge(stock_df, weekby_df, how='left', on=['종목번호','기준일자'])"
   ]
  },
  {
   "cell_type": "code",
   "execution_count": 9,
   "metadata": {},
   "outputs": [
    {
     "output_type": "execute_result",
     "data": {
      "text/plain": "Index(['종목번호', '거래금액_mean', '거래금액_max', '거래금액_min', '거래금액_std', '기준년월',\n       '거래량4_mean', '거래량4_max', '거래량4_min', '거래량1_std', '거래량2_std', '거래량3_std',\n       '거래량4_std', '거래량_mean_weekdiff41', '거래량_mean_weekdiff42',\n       '거래량_mean_weekdiff43', '거래량_max_weekdiff41', '거래량_max_weekdiff42',\n       '거래량_max_weekdiff43', '거래량_min_weekdiff41', '거래량_min_weekdiff42',\n       '거래량_min_weekdiff43', '시장구분', '표준산업구분코드_대분류', '표준산업구분코드_중분류'],\n      dtype='object')"
     },
     "metadata": {},
     "execution_count": 9
    }
   ],
   "source": [
    "cols = ['종목번호','시장구분','표준산업구분코드_대분류','표준산업구분코드_중분류']\n",
    "add_df =  final_stock[cols].drop_duplicates().reset_index(drop=True)\n",
    "final_company = pd.merge(stock_weekby_df,add_df, on='종목번호')\n",
    "\n",
    "final_company.rename({'기준일자' : '기준년월'}, inplace=True, axis=1)\n",
    "final_company['기준년월'] = final_company['기준년월'].astype(np.int32)\n",
    "\n",
    "final_company.columns"
   ]
  },
  {
   "cell_type": "code",
   "execution_count": 187,
   "metadata": {},
   "outputs": [
    {
     "output_type": "execute_result",
     "data": {
      "text/plain": "Index(['종목번호', '거래금액_mean', '거래금액_max', '거래금액_min', '거래금액_std', '기준년월',\n       '거래량4_mean', '거래량4_max', '거래량4_min', '거래량1_std', '거래량2_std', '거래량3_std',\n       '거래량4_std', '거래량_mean_weekdiff41', '거래량_mean_weekdiff42',\n       '거래량_mean_weekdiff43', '거래량_max_weekdiff41', '거래량_max_weekdiff42',\n       '거래량_max_weekdiff43', '거래량_min_weekdiff41', '거래량_min_weekdiff42',\n       '거래량_min_weekdiff43', '시장구분', '표준산업구분코드_대분류', '표준산업구분코드_중분류'],\n      dtype='object')"
     },
     "metadata": {},
     "execution_count": 187
    }
   ],
   "source": []
  },
  {
   "cell_type": "code",
   "execution_count": 10,
   "metadata": {
    "ExecuteTime": {
     "end_time": "2020-09-04T15:17:39.758929Z",
     "start_time": "2020-09-04T15:17:39.728902Z"
    },
    "tags": []
   },
   "outputs": [
    {
     "output_type": "stream",
     "name": "stdout",
     "text": "(1725, 11)\n"
    },
    {
     "output_type": "execute_result",
     "data": {
      "text/plain": "      종목번호      종목고가_mean  종목고가_max  종목고가_min      종목고가_std      종목저가_mean  \\\n0  A000100  235717.391304    267500    220000  11622.691449  229500.000000   \n1  A000140   10545.217391     14150      9160   1199.408451    9701.304348   \n2  A000440    6826.086957      7540      6130    411.446883    6579.565217   \n3  A000660   75608.695652     80700     68000   3934.799642   73443.478261   \n4  A000885   33491.304348     36200     31500   1483.672668   31717.391304   \n\n   종목저가_max  종목저가_min     종목저가_std    기준년월  \n0    250000    213500  9452.032009  201907  \n1     12000      8910   659.946998  201907  \n2      7190      5760   406.486925  201907  \n3     78200     66200  3765.733791  201907  \n4     33900     29800  1156.071787  201907  ",
      "text/html": "<div>\n<style scoped>\n    .dataframe tbody tr th:only-of-type {\n        vertical-align: middle;\n    }\n\n    .dataframe tbody tr th {\n        vertical-align: top;\n    }\n\n    .dataframe thead th {\n        text-align: right;\n    }\n</style>\n<table border=\"1\" class=\"dataframe\">\n  <thead>\n    <tr style=\"text-align: right;\">\n      <th></th>\n      <th>종목번호</th>\n      <th>종목고가_mean</th>\n      <th>종목고가_max</th>\n      <th>종목고가_min</th>\n      <th>종목고가_std</th>\n      <th>종목저가_mean</th>\n      <th>종목저가_max</th>\n      <th>종목저가_min</th>\n      <th>종목저가_std</th>\n      <th>기준년월</th>\n    </tr>\n  </thead>\n  <tbody>\n    <tr>\n      <th>0</th>\n      <td>A000100</td>\n      <td>235717.391304</td>\n      <td>267500</td>\n      <td>220000</td>\n      <td>11622.691449</td>\n      <td>229500.000000</td>\n      <td>250000</td>\n      <td>213500</td>\n      <td>9452.032009</td>\n      <td>201907</td>\n    </tr>\n    <tr>\n      <th>1</th>\n      <td>A000140</td>\n      <td>10545.217391</td>\n      <td>14150</td>\n      <td>9160</td>\n      <td>1199.408451</td>\n      <td>9701.304348</td>\n      <td>12000</td>\n      <td>8910</td>\n      <td>659.946998</td>\n      <td>201907</td>\n    </tr>\n    <tr>\n      <th>2</th>\n      <td>A000440</td>\n      <td>6826.086957</td>\n      <td>7540</td>\n      <td>6130</td>\n      <td>411.446883</td>\n      <td>6579.565217</td>\n      <td>7190</td>\n      <td>5760</td>\n      <td>406.486925</td>\n      <td>201907</td>\n    </tr>\n    <tr>\n      <th>3</th>\n      <td>A000660</td>\n      <td>75608.695652</td>\n      <td>80700</td>\n      <td>68000</td>\n      <td>3934.799642</td>\n      <td>73443.478261</td>\n      <td>78200</td>\n      <td>66200</td>\n      <td>3765.733791</td>\n      <td>201907</td>\n    </tr>\n    <tr>\n      <th>4</th>\n      <td>A000885</td>\n      <td>33491.304348</td>\n      <td>36200</td>\n      <td>31500</td>\n      <td>1483.672668</td>\n      <td>31717.391304</td>\n      <td>33900</td>\n      <td>29800</td>\n      <td>1156.071787</td>\n      <td>201907</td>\n    </tr>\n  </tbody>\n</table>\n</div>"
     },
     "metadata": {},
     "execution_count": 10
    }
   ],
   "source": [
    "com_data = final_stock.groupby(['year','month','종목번호'])['종목고가','종목저가'].agg(['mean', 'max', 'min', 'std']).reset_index()\n",
    "print(com_data.shape)\n",
    "com_data['기준년월'] = com_data['year'] + com_data['month']\n",
    "com_data.drop(['year','month'], axis=1, inplace=True)\n",
    "com_data['기준년월'] = com_data['기준년월'].astype(np.int32)\n",
    "com_data.columns = ['종목번호','종목고가_mean','종목고가_max','종목고가_min','종목고가_std','종목저가_mean','종목저가_max','종목저가_min','종목저가_std', '기준년월']\n",
    "com_data.head()"
   ]
  },
  {
   "cell_type": "code",
   "execution_count": 11,
   "metadata": {
    "ExecuteTime": {
     "end_time": "2020-09-04T15:53:03.216007Z",
     "start_time": "2020-09-04T15:53:03.192910Z"
    }
   },
   "outputs": [],
   "source": [
    "stockForSeq2Seq = pd.merge(com_data,final_company, on=['종목번호','기준년월'], how='left')"
   ]
  },
  {
   "cell_type": "code",
   "execution_count": 12,
   "metadata": {
    "ExecuteTime": {
     "end_time": "2020-09-04T15:53:03.357674Z",
     "start_time": "2020-09-04T15:53:03.343675Z"
    }
   },
   "outputs": [],
   "source": [
    "stockForSeq2Seq.to_csv('stockForSeq2Seq.csv', index=False)"
   ]
  },
  {
   "cell_type": "markdown",
   "metadata": {},
   "source": [
    "# trade for seq2seq"
   ]
  },
  {
   "cell_type": "code",
   "execution_count": 13,
   "metadata": {
    "ExecuteTime": {
     "end_time": "2020-09-05T14:10:15.581821Z",
     "start_time": "2020-09-05T14:10:15.553812Z"
    }
   },
   "outputs": [],
   "source": [
    "# stockForSeq2Seq = pd.read_csv('stockForSeq2Seq.csv')"
   ]
  },
  {
   "cell_type": "code",
   "execution_count": 14,
   "metadata": {
    "ExecuteTime": {
     "end_time": "2020-09-05T14:10:29.853490Z",
     "start_time": "2020-09-05T14:10:29.833949Z"
    }
   },
   "outputs": [
    {
     "output_type": "execute_result",
     "data": {
      "text/plain": "Index(['기준년월', '그룹번호', '그룹내고객수', '종목번호', '그룹내_매수여부', '그룹내_매도여부', '매수고객수',\n       '매도고객수', '평균매수수량', '평균매도수량', '매수가격_중앙값', '매도가격_중앙값'],\n      dtype='object')"
     },
     "metadata": {},
     "execution_count": 14
    }
   ],
   "source": [
    "top3_trade = trade.loc[trade['종목번호'].isin(company_list)].reset_index(drop=True)\n",
    "top3_trade.columns"
   ]
  },
  {
   "cell_type": "code",
   "execution_count": 15,
   "metadata": {
    "ExecuteTime": {
     "end_time": "2020-09-05T14:10:30.212819Z",
     "start_time": "2020-09-05T14:10:30.203819Z"
    }
   },
   "outputs": [],
   "source": [
    "# strange value\n",
    "top3_trade.iloc[348,10] = \\\n",
    "    top3_trade.loc[(top3_trade['그룹번호']=='MAD48')&(top3_trade['종목번호']=='A035420')][1:]['매수가격_중앙값'].mean()"
   ]
  },
  {
   "cell_type": "code",
   "execution_count": 16,
   "metadata": {
    "ExecuteTime": {
     "end_time": "2020-09-05T14:10:31.008621Z",
     "start_time": "2020-09-05T14:10:30.990654Z"
    }
   },
   "outputs": [],
   "source": [
    "cols = ['기준년월','그룹번호','종목번호','매수고객수','매도고객수']\n",
    "final_trade = top3_trade[cols]"
   ]
  },
  {
   "cell_type": "code",
   "execution_count": 17,
   "metadata": {
    "ExecuteTime": {
     "end_time": "2020-09-05T14:10:31.212994Z",
     "start_time": "2020-09-05T14:10:31.165995Z"
    }
   },
   "outputs": [
    {
     "output_type": "execute_result",
     "data": {
      "text/plain": "         종목번호   그룹번호  group_mse\n6475  A353810  MAD44          2\n6476  A353810  MAD45          1\n6477  A353810  MAD46          3\n6478  A353810  MAD47          1\n6479  A353810  MAD48          1",
      "text/html": "<div>\n<style scoped>\n    .dataframe tbody tr th:only-of-type {\n        vertical-align: middle;\n    }\n\n    .dataframe tbody tr th {\n        vertical-align: top;\n    }\n\n    .dataframe thead th {\n        text-align: right;\n    }\n</style>\n<table border=\"1\" class=\"dataframe\">\n  <thead>\n    <tr style=\"text-align: right;\">\n      <th></th>\n      <th>종목번호</th>\n      <th>그룹번호</th>\n      <th>group_mse</th>\n    </tr>\n  </thead>\n  <tbody>\n    <tr>\n      <th>6475</th>\n      <td>A353810</td>\n      <td>MAD44</td>\n      <td>2</td>\n    </tr>\n    <tr>\n      <th>6476</th>\n      <td>A353810</td>\n      <td>MAD45</td>\n      <td>1</td>\n    </tr>\n    <tr>\n      <th>6477</th>\n      <td>A353810</td>\n      <td>MAD46</td>\n      <td>3</td>\n    </tr>\n    <tr>\n      <th>6478</th>\n      <td>A353810</td>\n      <td>MAD47</td>\n      <td>1</td>\n    </tr>\n    <tr>\n      <th>6479</th>\n      <td>A353810</td>\n      <td>MAD48</td>\n      <td>1</td>\n    </tr>\n  </tbody>\n</table>\n</div>"
     },
     "metadata": {},
     "execution_count": 17
    }
   ],
   "source": [
    "# 각 종목마다 그룹 만들기\n",
    "tmp_com = company_list\n",
    "for i in range(0,47):\n",
    "    tmp_com = np.append(tmp_com,company_list)\n",
    "\n",
    "tmp_group = sorted(final_trade['그룹번호'].unique())\n",
    "for i in range(0,134):\n",
    "    tmp_group = np.append(tmp_group, sorted(final_trade['그룹번호'].unique()))\n",
    "\n",
    "tmp_df = pd.DataFrame(tmp_com).sort_values(by=0).reset_index(drop=True)\n",
    "\n",
    "tmp_df['그룹번호'] = tmp_group\n",
    "tmp_df.columns = ['종목번호','그룹번호']\n",
    "\n",
    "# \n",
    "mse10 = ['MAD01','MAD04','MAD09','MAD13','MAD14','MAD17','MAD18','MAD21','MAD38','MAD42','MAD44']\n",
    "mse20 = ['MAD05','MAD06','MAD23','MAD35','MAD41','MAD43','MAD46']\n",
    "tmp_df['group_mse'] = np.where(tmp_df['그룹번호'].isin(mse10), 2, 1)\n",
    "tmp_df['group_mse'] = np.where(tmp_df['그룹번호'].isin(mse20), 3, tmp_df['group_mse'])\n",
    "\n",
    "tmp_df.tail()"
   ]
  },
  {
   "cell_type": "code",
   "execution_count": 18,
   "metadata": {
    "ExecuteTime": {
     "end_time": "2020-09-05T14:10:31.742185Z",
     "start_time": "2020-09-05T14:10:31.700801Z"
    },
    "tags": []
   },
   "outputs": [
    {
     "output_type": "stream",
     "name": "stdout",
     "text": "(82800, 35)\n"
    },
    {
     "output_type": "execute_result",
     "data": {
      "text/plain": "      종목번호      종목고가_mean  종목고가_max  종목고가_min      종목고가_std  종목저가_mean  \\\n0  A000100  235717.391304    267500    220000  11622.691449   229500.0   \n1  A000100  235717.391304    267500    220000  11622.691449   229500.0   \n2  A000100  235717.391304    267500    220000  11622.691449   229500.0   \n3  A000100  235717.391304    267500    220000  11622.691449   229500.0   \n4  A000100  235717.391304    267500    220000  11622.691449   229500.0   \n\n   종목저가_max  종목저가_min     종목저가_std    기준년월  ...  거래량_max_weekdiff42  \\\n0    250000    213500  9452.032009  201907  ...             -3097.0   \n1    250000    213500  9452.032009  201907  ...             -3097.0   \n2    250000    213500  9452.032009  201907  ...             -3097.0   \n3    250000    213500  9452.032009  201907  ...             -3097.0   \n4    250000    213500  9452.032009  201907  ...             -3097.0   \n\n   거래량_max_weekdiff43  거래량_min_weekdiff41  거래량_min_weekdiff42  \\\n0             -1081.0            -41327.0            -19358.0   \n1             -1081.0            -41327.0            -19358.0   \n2             -1081.0            -41327.0            -19358.0   \n3             -1081.0            -41327.0            -19358.0   \n4             -1081.0            -41327.0            -19358.0   \n\n   거래량_min_weekdiff43  시장구분  표준산업구분코드_대분류      표준산업구분코드_중분류   그룹번호  group_mse  \n0            -14482.0   코스피           제조업  의료용 물질 및 의약품 제조업  MAD01          2  \n1            -14482.0   코스피           제조업  의료용 물질 및 의약품 제조업  MAD02          1  \n2            -14482.0   코스피           제조업  의료용 물질 및 의약품 제조업  MAD03          1  \n3            -14482.0   코스피           제조업  의료용 물질 및 의약품 제조업  MAD04          2  \n4            -14482.0   코스피           제조업  의료용 물질 및 의약품 제조업  MAD05          3  \n\n[5 rows x 35 columns]",
      "text/html": "<div>\n<style scoped>\n    .dataframe tbody tr th:only-of-type {\n        vertical-align: middle;\n    }\n\n    .dataframe tbody tr th {\n        vertical-align: top;\n    }\n\n    .dataframe thead th {\n        text-align: right;\n    }\n</style>\n<table border=\"1\" class=\"dataframe\">\n  <thead>\n    <tr style=\"text-align: right;\">\n      <th></th>\n      <th>종목번호</th>\n      <th>종목고가_mean</th>\n      <th>종목고가_max</th>\n      <th>종목고가_min</th>\n      <th>종목고가_std</th>\n      <th>종목저가_mean</th>\n      <th>종목저가_max</th>\n      <th>종목저가_min</th>\n      <th>종목저가_std</th>\n      <th>기준년월</th>\n      <th>...</th>\n      <th>거래량_max_weekdiff42</th>\n      <th>거래량_max_weekdiff43</th>\n      <th>거래량_min_weekdiff41</th>\n      <th>거래량_min_weekdiff42</th>\n      <th>거래량_min_weekdiff43</th>\n      <th>시장구분</th>\n      <th>표준산업구분코드_대분류</th>\n      <th>표준산업구분코드_중분류</th>\n      <th>그룹번호</th>\n      <th>group_mse</th>\n    </tr>\n  </thead>\n  <tbody>\n    <tr>\n      <th>0</th>\n      <td>A000100</td>\n      <td>235717.391304</td>\n      <td>267500</td>\n      <td>220000</td>\n      <td>11622.691449</td>\n      <td>229500.0</td>\n      <td>250000</td>\n      <td>213500</td>\n      <td>9452.032009</td>\n      <td>201907</td>\n      <td>...</td>\n      <td>-3097.0</td>\n      <td>-1081.0</td>\n      <td>-41327.0</td>\n      <td>-19358.0</td>\n      <td>-14482.0</td>\n      <td>코스피</td>\n      <td>제조업</td>\n      <td>의료용 물질 및 의약품 제조업</td>\n      <td>MAD01</td>\n      <td>2</td>\n    </tr>\n    <tr>\n      <th>1</th>\n      <td>A000100</td>\n      <td>235717.391304</td>\n      <td>267500</td>\n      <td>220000</td>\n      <td>11622.691449</td>\n      <td>229500.0</td>\n      <td>250000</td>\n      <td>213500</td>\n      <td>9452.032009</td>\n      <td>201907</td>\n      <td>...</td>\n      <td>-3097.0</td>\n      <td>-1081.0</td>\n      <td>-41327.0</td>\n      <td>-19358.0</td>\n      <td>-14482.0</td>\n      <td>코스피</td>\n      <td>제조업</td>\n      <td>의료용 물질 및 의약품 제조업</td>\n      <td>MAD02</td>\n      <td>1</td>\n    </tr>\n    <tr>\n      <th>2</th>\n      <td>A000100</td>\n      <td>235717.391304</td>\n      <td>267500</td>\n      <td>220000</td>\n      <td>11622.691449</td>\n      <td>229500.0</td>\n      <td>250000</td>\n      <td>213500</td>\n      <td>9452.032009</td>\n      <td>201907</td>\n      <td>...</td>\n      <td>-3097.0</td>\n      <td>-1081.0</td>\n      <td>-41327.0</td>\n      <td>-19358.0</td>\n      <td>-14482.0</td>\n      <td>코스피</td>\n      <td>제조업</td>\n      <td>의료용 물질 및 의약품 제조업</td>\n      <td>MAD03</td>\n      <td>1</td>\n    </tr>\n    <tr>\n      <th>3</th>\n      <td>A000100</td>\n      <td>235717.391304</td>\n      <td>267500</td>\n      <td>220000</td>\n      <td>11622.691449</td>\n      <td>229500.0</td>\n      <td>250000</td>\n      <td>213500</td>\n      <td>9452.032009</td>\n      <td>201907</td>\n      <td>...</td>\n      <td>-3097.0</td>\n      <td>-1081.0</td>\n      <td>-41327.0</td>\n      <td>-19358.0</td>\n      <td>-14482.0</td>\n      <td>코스피</td>\n      <td>제조업</td>\n      <td>의료용 물질 및 의약품 제조업</td>\n      <td>MAD04</td>\n      <td>2</td>\n    </tr>\n    <tr>\n      <th>4</th>\n      <td>A000100</td>\n      <td>235717.391304</td>\n      <td>267500</td>\n      <td>220000</td>\n      <td>11622.691449</td>\n      <td>229500.0</td>\n      <td>250000</td>\n      <td>213500</td>\n      <td>9452.032009</td>\n      <td>201907</td>\n      <td>...</td>\n      <td>-3097.0</td>\n      <td>-1081.0</td>\n      <td>-41327.0</td>\n      <td>-19358.0</td>\n      <td>-14482.0</td>\n      <td>코스피</td>\n      <td>제조업</td>\n      <td>의료용 물질 및 의약품 제조업</td>\n      <td>MAD05</td>\n      <td>3</td>\n    </tr>\n  </tbody>\n</table>\n<p>5 rows × 35 columns</p>\n</div>"
     },
     "metadata": {},
     "execution_count": 18
    }
   ],
   "source": [
    "seq2seq_df = pd.merge(stockForSeq2Seq, tmp_df, on='종목번호', how='left')\n",
    "print(seq2seq_df.shape)\n",
    "\n",
    "seq2seq_df.head()"
   ]
  },
  {
   "cell_type": "code",
   "execution_count": 19,
   "metadata": {
    "ExecuteTime": {
     "end_time": "2020-09-05T14:10:32.692612Z",
     "start_time": "2020-09-05T14:10:32.684221Z"
    },
    "tags": []
   },
   "outputs": [
    {
     "output_type": "stream",
     "name": "stdout",
     "text": "(48, 2)\n"
    }
   ],
   "source": [
    "tmp_numGroup = top3_trade[['그룹번호','그룹내고객수']].drop_duplicates(subset=['그룹번호']).reset_index(drop=True)\n",
    "print(tmp_numGroup.shape)"
   ]
  },
  {
   "cell_type": "code",
   "execution_count": 20,
   "metadata": {
    "ExecuteTime": {
     "end_time": "2020-09-05T14:10:32.882830Z",
     "start_time": "2020-09-05T14:10:32.818800Z"
    },
    "tags": []
   },
   "outputs": [
    {
     "output_type": "stream",
     "name": "stdout",
     "text": "(82800, 38)\n"
    }
   ],
   "source": [
    "seq2seq_df = seq2seq_df.merge(tmp_numGroup, on='그룹번호', how='left')\n",
    "seq2seq_df = seq2seq_df.merge(final_trade, on=['그룹번호','종목번호','기준년월'], how='left')\n",
    "\n",
    "print(seq2seq_df.shape)"
   ]
  },
  {
   "cell_type": "code",
   "execution_count": 21,
   "metadata": {
    "ExecuteTime": {
     "end_time": "2020-09-05T14:10:33.239862Z",
     "start_time": "2020-09-05T14:10:33.200983Z"
    }
   },
   "outputs": [
    {
     "output_type": "execute_result",
     "data": {
      "text/plain": "종목번호                       0\n종목고가_mean                  0\n종목고가_max                   0\n종목고가_min                   0\n종목고가_std                   0\n종목저가_mean                  0\n종목저가_max                   0\n종목저가_min                   0\n종목저가_std                   0\n기준년월                       0\n거래금액_mean                  0\n거래금액_max                   0\n거래금액_min                   0\n거래금액_std                   0\n거래량4_mean                  0\n거래량4_max                   0\n거래량4_min                   0\n거래량1_std                  48\n거래량2_std                  48\n거래량3_std                   0\n거래량4_std                   0\n거래량_mean_weekdiff41       48\n거래량_mean_weekdiff42       48\n거래량_mean_weekdiff43        0\n거래량_max_weekdiff41        48\n거래량_max_weekdiff42        48\n거래량_max_weekdiff43         0\n거래량_min_weekdiff41        48\n거래량_min_weekdiff42        48\n거래량_min_weekdiff43         0\n시장구분                       0\n표준산업구분코드_대분류               0\n표준산업구분코드_중분류               0\n그룹번호                       0\ngroup_mse                  0\n그룹내고객수                     0\n매수고객수                  75310\n매도고객수                  75310\ndtype: int64"
     },
     "metadata": {},
     "execution_count": 21
    }
   ],
   "source": [
    "seq2seq_df.isnull().sum()"
   ]
  },
  {
   "cell_type": "code",
   "execution_count": 22,
   "metadata": {
    "ExecuteTime": {
     "end_time": "2020-09-05T14:22:18.764417Z",
     "start_time": "2020-09-05T14:22:17.861856Z"
    }
   },
   "outputs": [],
   "source": [
    "# NA\n",
    "seq2seq_df['매수고객수'].fillna(0, inplace=True)\n",
    "seq2seq_df['매도고객수'].fillna(0, inplace=True)\n",
    "\n",
    "fillna_func = lambda x : x.fillna(x.mean())\n",
    "seq2seq_df = seq2seq_df.groupby(['종목번호']).apply(fillna_func)"
   ]
  },
  {
   "cell_type": "code",
   "execution_count": 23,
   "metadata": {
    "ExecuteTime": {
     "end_time": "2020-09-05T14:38:03.060722Z",
     "start_time": "2020-09-05T14:38:02.165969Z"
    }
   },
   "outputs": [],
   "source": [
    "seq2seq_df.index = range(seq2seq_df.shape[0])\n",
    "seq2seq_df.to_csv('seq2seq_df.csv', index=False)"
   ]
  },
  {
   "cell_type": "code",
   "execution_count": 24,
   "metadata": {
    "tags": []
   },
   "outputs": [
    {
     "output_type": "stream",
     "name": "stdout",
     "text": "(82800, 38)\n"
    },
    {
     "output_type": "execute_result",
     "data": {
      "text/plain": "종목번호                   0\n종목고가_mean              0\n종목고가_max               0\n종목고가_min               0\n종목고가_std               0\n종목저가_mean              0\n종목저가_max               0\n종목저가_min               0\n종목저가_std               0\n기준년월                   0\n거래금액_mean              0\n거래금액_max               0\n거래금액_min               0\n거래금액_std               0\n거래량4_mean              0\n거래량4_max               0\n거래량4_min               0\n거래량1_std               0\n거래량2_std               0\n거래량3_std               0\n거래량4_std               0\n거래량_mean_weekdiff41    0\n거래량_mean_weekdiff42    0\n거래량_mean_weekdiff43    0\n거래량_max_weekdiff41     0\n거래량_max_weekdiff42     0\n거래량_max_weekdiff43     0\n거래량_min_weekdiff41     0\n거래량_min_weekdiff42     0\n거래량_min_weekdiff43     0\n시장구분                   0\n표준산업구분코드_대분류           0\n표준산업구분코드_중분류           0\n그룹번호                   0\ngroup_mse              0\n그룹내고객수                 0\n매수고객수                  0\n매도고객수                  0\ndtype: int64"
     },
     "metadata": {},
     "execution_count": 24
    }
   ],
   "source": [
    "print(seq2seq_df.shape)\n",
    "seq2seq_df.isnull().sum()"
   ]
  },
  {
   "cell_type": "code",
   "execution_count": 25,
   "metadata": {
    "tags": []
   },
   "outputs": [
    {
     "output_type": "stream",
     "name": "stdout",
     "text": "target corr with : 종목고가_mean, 0.03220906421424406\ntarget corr with : 종목고가_max, 0.0323747160970236\ntarget corr with : 종목고가_min, 0.030532398093261505\ntarget corr with : 종목고가_std, 0.03364786949843165\ntarget corr with : 종목저가_mean, 0.032508672788435465\ntarget corr with : 종목저가_max, 0.03321859831948532\ntarget corr with : 종목저가_min, 0.03110993862166436\ntarget corr with : 종목저가_std, 0.03209646365585894\ntarget corr with : 기준년월, 0.1373482259816295\ntarget corr with : 거래금액_mean, 0.3355921338927938\ntarget corr with : 거래금액_max, 0.2542088214092789\ntarget corr with : 거래금액_min, 0.3467070984454042\ntarget corr with : 거래금액_std, 0.21503193210120486\ntarget corr with : 거래량4_mean, 0.18388661985408752\ntarget corr with : 거래량4_max, 0.08881093682461996\ntarget corr with : 거래량4_min, 0.29845004085393945\ntarget corr with : 거래량1_std, 0.032158166343337166\ntarget corr with : 거래량2_std, 0.02124438615365513\ntarget corr with : 거래량3_std, -0.001448720046250285\ntarget corr with : 거래량4_std, 0.007578531815821299\ntarget corr with : 거래량_mean_weekdiff41, 0.035904429236586294\ntarget corr with : 거래량_mean_weekdiff42, 0.029972037932441485\ntarget corr with : 거래량_mean_weekdiff43, 0.024550583408513196\ntarget corr with : 거래량_max_weekdiff41, 0.008544171152068299\ntarget corr with : 거래량_max_weekdiff42, 0.0022757680211419264\ntarget corr with : 거래량_max_weekdiff43, 0.01541985130708209\ntarget corr with : 거래량_min_weekdiff41, 0.09680567416720087\ntarget corr with : 거래량_min_weekdiff42, 0.10492943011073878\ntarget corr with : 거래량_min_weekdiff43, 0.06390085321408401\ntarget corr with : 그룹내고객수, 0.21844780417661117\ntarget corr with : 매수고객수, 0.9068191462257422\ntarget corr with : 매도고객수, 0.8776861177676264\n"
    }
   ],
   "source": [
    "tmp = seq2seq_df.loc[seq2seq_df['매수고객수']!=0].reset_index(drop=True)\n",
    "tmp['target'] = tmp.groupby(['종목번호','그룹번호'])['매수고객수'].shift(-1).reset_index(drop=True)\n",
    "tmp.dropna(inplace=True)\n",
    "for i in ['종목고가_mean', '종목고가_max', '종목고가_min', '종목고가_std', '종목저가_mean',\n",
    "       '종목저가_max', '종목저가_min', '종목저가_std', '기준년월', '거래금액_mean', '거래금액_max',\n",
    "       '거래금액_min', '거래금액_std', '거래량4_mean', '거래량4_max', '거래량4_min', '거래량1_std',\n",
    "       '거래량2_std', '거래량3_std', '거래량4_std', '거래량_mean_weekdiff41',\n",
    "       '거래량_mean_weekdiff42', '거래량_mean_weekdiff43', '거래량_max_weekdiff41',\n",
    "       '거래량_max_weekdiff42', '거래량_max_weekdiff43', '거래량_min_weekdiff41',\n",
    "       '거래량_min_weekdiff42', '거래량_min_weekdiff43', '그룹내고객수', '매수고객수', '매도고객수']:\n",
    "    corr = np.corrcoef(tmp['target'], tmp[i])[0,1]\n",
    "    print(f'target corr with : {i}, {corr}')"
   ]
  }
 ],
 "metadata": {
  "kernelspec": {
   "display_name": "Python 3",
   "language": "python",
   "name": "python3"
  },
  "language_info": {
   "codemirror_mode": {
    "name": "ipython",
    "version": 3
   },
   "file_extension": ".py",
   "mimetype": "text/x-python",
   "name": "python",
   "nbconvert_exporter": "python",
   "pygments_lexer": "ipython3",
   "version": "3.8.3-final"
  }
 },
 "nbformat": 4,
 "nbformat_minor": 4
}