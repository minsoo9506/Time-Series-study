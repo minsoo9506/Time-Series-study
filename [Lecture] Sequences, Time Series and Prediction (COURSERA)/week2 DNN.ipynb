{
 "cells": [
  {
   "cell_type": "code",
   "execution_count": 2,
   "metadata": {
    "ExecuteTime": {
     "end_time": "2020-07-23T03:07:59.651910Z",
     "start_time": "2020-07-23T03:07:59.092097Z"
    }
   },
   "outputs": [
    {
     "name": "stdout",
     "output_type": "stream",
     "text": [
      "1.5.1\n"
     ]
    }
   ],
   "source": [
    "import torch\n",
    "import torch.nn as nn\n",
    "from torch.utils.data import Dataset, DataLoader\n",
    "\n",
    "from tqdm import tqdm_notebook\n",
    "import numpy as np\n",
    "import pandas as pd\n",
    "import matplotlib.pyplot as plt\n",
    "print(torch.__version__)"
   ]
  },
  {
   "cell_type": "code",
   "execution_count": 4,
   "metadata": {
    "ExecuteTime": {
     "end_time": "2020-07-23T03:08:08.978416Z",
     "start_time": "2020-07-23T03:08:08.871882Z"
    }
   },
   "outputs": [
    {
     "data": {
      "image/png": "[encoded data removed]",
      "text/plain": [
       "<Figure size 432x288 with 1 Axes>"
      ]
     },
     "metadata": {
      "needs_background": "light"
     },
     "output_type": "display_data"
    }
   ],
   "source": [
    "data = pd.read_csv('starbucks.csv')\n",
    "\n",
    "data['Close'].plot()\n",
    "plt.show()"
   ]
  },
  {
   "cell_type": "code",
   "execution_count": 5,
   "metadata": {
    "ExecuteTime": {
     "end_time": "2020-07-23T03:08:11.106458Z",
     "start_time": "2020-07-23T03:08:11.102645Z"
    }
   },
   "outputs": [],
   "source": [
    "train = data['Close'][:800].reset_index(drop=True)\n",
    "valid = data['Close'][800:].reset_index(drop=True)"
   ]
  },
  {
   "cell_type": "code",
   "execution_count": 6,
   "metadata": {
    "ExecuteTime": {
     "end_time": "2020-07-23T03:08:11.533187Z",
     "start_time": "2020-07-23T03:08:11.516532Z"
    }
   },
   "outputs": [],
   "source": [
    "class WindowedDataset(Dataset):\n",
    "    \n",
    "    def __init__(self, series, windowSize):\n",
    "        self.X = []\n",
    "        self.y = []\n",
    "        for idx in range(0,len(series) - windowSize):\n",
    "            self.X = np.append(self.X, series[idx:idx+windowSize])\n",
    "            self.y = np.append(self.y, series[idx+windowSize])\n",
    "        self.X = self.X.reshape(-1, windowSize)\n",
    "        self.y = self.y.reshape(-1,1)\n",
    "\n",
    "    def __len__(self):\n",
    "        return len(self.X)\n",
    "    \n",
    "    def __getitem__(self, idx):\n",
    "        X = torch.Tensor(self.X[idx])\n",
    "        y = torch.Tensor(self.y[idx])\n",
    "        return X, y"
   ]
  },
  {
   "cell_type": "code",
   "execution_count": 175,
   "metadata": {
    "ExecuteTime": {
     "end_time": "2020-07-21T13:58:01.597909Z",
     "start_time": "2020-07-21T13:58:01.510976Z"
    }
   },
   "outputs": [],
   "source": [
    "window = 10\n",
    "windowedDataset = WindowedDataset(train, windowSize=window)\n",
    "loader = DataLoader(windowedDataset, batch_size=4, shuffle=True)"
   ]
  },
  {
   "cell_type": "code",
   "execution_count": 176,
   "metadata": {
    "ExecuteTime": {
     "end_time": "2020-07-21T13:58:01.666448Z",
     "start_time": "2020-07-21T13:58:01.660740Z"
    }
   },
   "outputs": [],
   "source": [
    "class DNN(nn.Module):\n",
    "    def __init__(self, inputSize, hiddenSize, outputSize):\n",
    "        super().__init__()\n",
    "        \n",
    "        self.layer1 = nn.Linear(inputSize, hiddenSize)\n",
    "        self.layer2 = nn.Linear(hiddenSize, outputSize)\n",
    "        self.relu = nn.ReLU()\n",
    "            \n",
    "    def forward(self, x):\n",
    "        out = self.layer1(x)\n",
    "        out = self.relu(out) \n",
    "        out = self.layer2(out)\n",
    "        return out"
   ]
  },
  {
   "cell_type": "code",
   "execution_count": 177,
   "metadata": {
    "ExecuteTime": {
     "end_time": "2020-07-21T13:58:01.851396Z",
     "start_time": "2020-07-21T13:58:01.843189Z"
    }
   },
   "outputs": [],
   "source": [
    "modelDNN = DNN(window,50,1)"
   ]
  },
  {
   "cell_type": "code",
   "execution_count": 178,
   "metadata": {
    "ExecuteTime": {
     "end_time": "2020-07-21T13:58:02.003519Z",
     "start_time": "2020-07-21T13:58:01.994729Z"
    }
   },
   "outputs": [],
   "source": [
    "criterion = nn.MSELoss()\n",
    "optimizer = torch.optim.Adam(modelDNN.parameters(), lr=0.01)\n",
    "lrScheduler = torch.optim.lr_scheduler.ExponentialLR(optimizer, 0.99)"
   ]
  },
  {
   "cell_type": "code",
   "execution_count": 179,
   "metadata": {
    "ExecuteTime": {
     "end_time": "2020-07-21T13:58:38.212773Z",
     "start_time": "2020-07-21T13:58:02.133162Z"
    }
   },
   "outputs": [
    {
     "name": "stderr",
     "output_type": "stream",
     "text": [
      "/opt/conda/lib/python3.7/site-packages/ipykernel_launcher.py:3: TqdmDeprecationWarning: This function will be removed in tqdm==5.0.0\n",
      "Please use `tqdm.notebook.tqdm` instead of `tqdm.tqdm_notebook`\n",
      "  This is separate from the ipykernel package so we can avoid doing imports until\n"
     ]
    },
    {
     "data": {
      "application/vnd.jupyter.widget-view+json": {
       "model_id": "bea75854428945e88af9cb765bf573f2",
       "version_major": 2,
       "version_minor": 0
      },
      "text/plain": [
       "HBox(children=(FloatProgress(value=0.0, max=500.0), HTML(value='')))"
      ]
     },
     "metadata": {},
     "output_type": "display_data"
    },
    {
     "name": "stderr",
     "output_type": "stream",
     "text": [
      "/opt/conda/lib/python3.7/site-packages/torch/optim/lr_scheduler.py:123: UserWarning: Detected call of `lr_scheduler.step()` before `optimizer.step()`. In PyTorch 1.1.0 and later, you should call them in the opposite order: `optimizer.step()` before `lr_scheduler.step()`.  Failure to do this will result in PyTorch skipping the first value of the learning rate schedule. See more details at https://pytorch.org/docs/stable/optim.html#how-to-adjust-learning-rate\n",
      "  \"https://pytorch.org/docs/stable/optim.html#how-to-adjust-learning-rate\", UserWarning)\n"
     ]
    },
    {
     "name": "stdout",
     "output_type": "stream",
     "text": [
      "epoch : 10 / 500,loss : 1940.564453125\n",
      "epoch : 20 / 500,loss : 1764.3892822265625\n",
      "epoch : 30 / 500,loss : 1976.802978515625\n",
      "epoch : 40 / 500,loss : 1938.34326171875\n",
      "epoch : 50 / 500,loss : 1505.01513671875\n",
      "epoch : 60 / 500,loss : 2065.7177734375\n",
      "epoch : 70 / 500,loss : 1973.994140625\n",
      "epoch : 80 / 500,loss : 2138.18212890625\n",
      "epoch : 90 / 500,loss : 2205.9912109375\n",
      "epoch : 100 / 500,loss : 1705.389892578125\n",
      "epoch : 110 / 500,loss : 1962.14892578125\n",
      "epoch : 120 / 500,loss : 2158.123291015625\n",
      "epoch : 130 / 500,loss : 1782.191650390625\n",
      "epoch : 140 / 500,loss : 2023.2197265625\n",
      "epoch : 150 / 500,loss : 1817.0380859375\n",
      "epoch : 160 / 500,loss : 2041.4473876953125\n",
      "epoch : 170 / 500,loss : 1918.75439453125\n",
      "epoch : 180 / 500,loss : 1920.4384765625\n",
      "epoch : 190 / 500,loss : 1892.2845458984375\n",
      "epoch : 200 / 500,loss : 1773.522705078125\n",
      "epoch : 210 / 500,loss : 1465.6146240234375\n",
      "epoch : 220 / 500,loss : 1769.60107421875\n",
      "epoch : 230 / 500,loss : 1938.724365234375\n",
      "epoch : 240 / 500,loss : 2175.81640625\n",
      "epoch : 250 / 500,loss : 2018.456298828125\n",
      "epoch : 260 / 500,loss : 1874.846923828125\n",
      "epoch : 270 / 500,loss : 1935.4300537109375\n",
      "epoch : 280 / 500,loss : 2244.370849609375\n",
      "epoch : 290 / 500,loss : 1989.923828125\n",
      "epoch : 300 / 500,loss : 1767.8680419921875\n",
      "epoch : 310 / 500,loss : 1759.51513671875\n",
      "epoch : 320 / 500,loss : 1472.2491455078125\n",
      "epoch : 330 / 500,loss : 1554.38623046875\n",
      "epoch : 340 / 500,loss : 1838.808837890625\n",
      "epoch : 350 / 500,loss : 2246.34521484375\n",
      "epoch : 360 / 500,loss : 1912.608154296875\n",
      "epoch : 370 / 500,loss : 1962.734130859375\n",
      "epoch : 380 / 500,loss : 1490.6051025390625\n",
      "epoch : 390 / 500,loss : 1635.478271484375\n",
      "epoch : 400 / 500,loss : 2243.00830078125\n",
      "epoch : 410 / 500,loss : 2030.0927734375\n",
      "epoch : 420 / 500,loss : 2081.6220703125\n",
      "epoch : 430 / 500,loss : 2035.25732421875\n",
      "epoch : 440 / 500,loss : 1971.162109375\n",
      "epoch : 450 / 500,loss : 2080.863037109375\n",
      "epoch : 460 / 500,loss : 1876.22216796875\n",
      "epoch : 470 / 500,loss : 1694.426025390625\n",
      "epoch : 480 / 500,loss : 2088.705810546875\n",
      "epoch : 490 / 500,loss : 1979.429931640625\n",
      "epoch : 500 / 500,loss : 2022.168701171875\n",
      "\n"
     ]
    }
   ],
   "source": [
    "numEpochs = 500\n",
    "nTotalStep = len(loader)\n",
    "for epoch in tqdm_notebook(range(numEpochs)):\n",
    "    for idx, (feature, target) in enumerate(loader):\n",
    "        \n",
    "        yPred = modelDNN(feature)\n",
    "        loss = criterion(yPred, target)\n",
    "        \n",
    "        optimizer.zero_grad()\n",
    "        loss.backward()\n",
    "        lrScheduler.step()\n",
    "        \n",
    "    if (epoch+1) % 10 == 0:\n",
    "        print(f'epoch : {epoch+1} / {numEpochs},loss : {loss.item()}')"
   ]
  },
  {
   "cell_type": "code",
   "execution_count": 183,
   "metadata": {
    "ExecuteTime": {
     "end_time": "2020-07-21T13:59:38.897772Z",
     "start_time": "2020-07-21T13:59:38.865383Z"
    }
   },
   "outputs": [],
   "source": [
    "window = 10\n",
    "windowedDatasetValid = WindowedDataset(valid, windowSize=window)\n",
    "loaderValid = DataLoader(windowedDatasetValid, batch_size=8, shuffle=True)\n",
    "forecast = []\n",
    "with torch.no_grad():\n",
    "        for idx, (feature, target) in enumerate(loaderValid):\n",
    "            output = modelDNN(feature)\n",
    "            forecast = np.append(forecast, output)"
   ]
  },
  {
   "cell_type": "code",
   "execution_count": 184,
   "metadata": {
    "ExecuteTime": {
     "end_time": "2020-07-21T13:59:39.229757Z",
     "start_time": "2020-07-21T13:59:39.220313Z"
    }
   },
   "outputs": [
    {
     "data": {
      "text/plain": [
       "(196,)"
      ]
     },
     "execution_count": 184,
     "metadata": {},
     "output_type": "execute_result"
    }
   ],
   "source": [
    "forecast.shape"
   ]
  },
  {
   "cell_type": "code",
   "execution_count": 185,
   "metadata": {
    "ExecuteTime": {
     "end_time": "2020-07-21T13:59:39.779036Z",
     "start_time": "2020-07-21T13:59:39.650323Z"
    }
   },
   "outputs": [
    {
     "data": {
      "text/plain": [
       "[<matplotlib.lines.Line2D at 0x7f634c445dd0>]"
      ]
     },
     "execution_count": 185,
     "metadata": {},
     "output_type": "execute_result"
    },
    {
     "data": {
      "image/png": "[encoded data removed]",
      "text/plain": [
       "<Figure size 720x432 with 1 Axes>"
      ]
     },
     "metadata": {
      "needs_background": "light"
     },
     "output_type": "display_data"
    }
   ],
   "source": [
    "plt.figure(figsize=(10, 6))\n",
    "\n",
    "plt.plot(forecast)\n",
    "plt.plot(valid)"
   ]
  },
  {
   "cell_type": "markdown",
   "metadata": {},
   "source": [
    "Shit..."
   ]
  }
 ],
 "metadata": {
  "kernelspec": {
   "display_name": "Python 3",
   "language": "python",
   "name": "python3"
  },
  "language_info": {
   "codemirror_mode": {
    "name": "ipython",
    "version": 3
   },
   "file_extension": ".py",
   "mimetype": "text/x-python",
   "name": "python",
   "nbconvert_exporter": "python",
   "pygments_lexer": "ipython3",
   "version": "3.7.7"
  },
  "toc": {
   "base_numbering": 1,
   "nav_menu": {},
   "number_sections": true,
   "sideBar": true,
   "skip_h1_title": false,
   "title_cell": "Table of Contents",
   "title_sidebar": "Contents",
   "toc_cell": false,
   "toc_position": {},
   "toc_section_display": true,
   "toc_window_display": false
  }
 },
 "nbformat": 4,
 "nbformat_minor": 4
}
