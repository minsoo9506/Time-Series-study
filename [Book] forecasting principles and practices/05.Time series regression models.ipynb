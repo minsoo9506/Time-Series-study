{
 "cells": [
  {
   "cell_type": "code",
   "execution_count": 2,
   "metadata": {
    "ExecuteTime": {
     "end_time": "2020-07-06T14:42:05.013155Z",
     "start_time": "2020-07-06T14:42:04.454546Z"
    }
   },
   "outputs": [],
   "source": [
    "import pandas as pd\n",
    "import numpy as np\n",
    "import matplotlib.pyplot as plt\n",
    "import seaborn as sns"
   ]
  },
  {
   "cell_type": "code",
   "execution_count": 3,
   "metadata": {
    "ExecuteTime": {
     "end_time": "2020-07-06T14:42:05.018407Z",
     "start_time": "2020-07-06T14:42:05.014273Z"
    }
   },
   "outputs": [],
   "source": [
    "data = pd.read_csv('data/starbucks.csv')"
   ]
  },
  {
   "cell_type": "markdown",
   "metadata": {},
   "source": [
    "## 5.1 The linear model\n",
    "- simple linear regression\n",
    "$$y_t = \\beta_0 + \\beta_1 x_t + \\varepsilon_t$$\n",
    "\n",
    "- multiple linear regression\n",
    "$$y_t = \\beta_{0} + \\beta_{1} x_{1,t} + \\beta_{2} x_{2,t} + \\cdots + \\beta_{k} x_{k,t} + \\varepsilon_t$$\n",
    "\n",
    "- Assumption\n",
    "    - about target and predictor variables\n",
    "        - linear relationship\n",
    "    - about the errors\n",
    "        - mean zero\n",
    "        - not autocorrelated\n",
    "        - unrelated to the predictor variables"
   ]
  },
  {
   "cell_type": "code",
   "execution_count": 4,
   "metadata": {
    "ExecuteTime": {
     "end_time": "2020-07-06T14:42:07.581430Z",
     "start_time": "2020-07-06T14:42:07.450873Z"
    }
   },
   "outputs": [],
   "source": [
    "# statsmodels package\n",
    "import statsmodels.api as sm"
   ]
  },
  {
   "cell_type": "code",
   "execution_count": 5,
   "metadata": {
    "ExecuteTime": {
     "end_time": "2020-07-06T14:42:21.912385Z",
     "start_time": "2020-07-06T14:42:21.899264Z"
    }
   },
   "outputs": [
    {
     "data": {
      "text/html": [
       "<div>\n",
       "<style scoped>\n",
       "    .dataframe tbody tr th:only-of-type {\n",
       "        vertical-align: middle;\n",
       "    }\n",
       "\n",
       "    .dataframe tbody tr th {\n",
       "        vertical-align: top;\n",
       "    }\n",
       "\n",
       "    .dataframe thead th {\n",
       "        text-align: right;\n",
       "    }\n",
       "</style>\n",
       "<table border=\"1\" class=\"dataframe\">\n",
       "  <thead>\n",
       "    <tr style=\"text-align: right;\">\n",
       "      <th></th>\n",
       "      <th>Date</th>\n",
       "      <th>Close</th>\n",
       "      <th>Volume</th>\n",
       "    </tr>\n",
       "  </thead>\n",
       "  <tbody>\n",
       "    <tr>\n",
       "      <th>0</th>\n",
       "      <td>2015-01-02</td>\n",
       "      <td>38.0061</td>\n",
       "      <td>6906098</td>\n",
       "    </tr>\n",
       "    <tr>\n",
       "      <th>1</th>\n",
       "      <td>2015-01-05</td>\n",
       "      <td>37.2781</td>\n",
       "      <td>11623796</td>\n",
       "    </tr>\n",
       "    <tr>\n",
       "      <th>2</th>\n",
       "      <td>2015-01-06</td>\n",
       "      <td>36.9748</td>\n",
       "      <td>7664340</td>\n",
       "    </tr>\n",
       "  </tbody>\n",
       "</table>\n",
       "</div>"
      ],
      "text/plain": [
       "         Date    Close    Volume\n",
       "0  2015-01-02  38.0061   6906098\n",
       "1  2015-01-05  37.2781  11623796\n",
       "2  2015-01-06  36.9748   7664340"
      ]
     },
     "execution_count": 5,
     "metadata": {},
     "output_type": "execute_result"
    }
   ],
   "source": [
    "data.head(3)"
   ]
  },
  {
   "cell_type": "code",
   "execution_count": 8,
   "metadata": {
    "ExecuteTime": {
     "end_time": "2020-07-06T14:43:36.464709Z",
     "start_time": "2020-07-06T14:43:36.455445Z"
    }
   },
   "outputs": [],
   "source": [
    "# linear regression fitting(=learning, training)\n",
    "X = data['Close']\n",
    "X = sm.add_constant(X)\n",
    "y = data['Volume']\n",
    "model0 = sm.OLS(y, X)\n",
    "result0 = model0.fit()"
   ]
  },
  {
   "cell_type": "code",
   "execution_count": 9,
   "metadata": {
    "ExecuteTime": {
     "end_time": "2020-07-06T14:43:36.783619Z",
     "start_time": "2020-07-06T14:43:36.770563Z"
    }
   },
   "outputs": [
    {
     "data": {
      "text/html": [
       "<table class=\"simpletable\">\n",
       "<caption>OLS Regression Results</caption>\n",
       "<tr>\n",
       "  <th>Dep. Variable:</th>         <td>Volume</td>      <th>  R-squared:         </th> <td>   0.000</td> \n",
       "</tr>\n",
       "<tr>\n",
       "  <th>Model:</th>                   <td>OLS</td>       <th>  Adj. R-squared:    </th> <td>  -0.001</td> \n",
       "</tr>\n",
       "<tr>\n",
       "  <th>Method:</th>             <td>Least Squares</td>  <th>  F-statistic:       </th> <td>  0.4261</td> \n",
       "</tr>\n",
       "<tr>\n",
       "  <th>Date:</th>             <td>Mon, 06 Jul 2020</td> <th>  Prob (F-statistic):</th>  <td> 0.514</td>  \n",
       "</tr>\n",
       "<tr>\n",
       "  <th>Time:</th>                 <td>14:43:36</td>     <th>  Log-Likelihood:    </th> <td> -16941.</td> \n",
       "</tr>\n",
       "<tr>\n",
       "  <th>No. Observations:</th>      <td>  1006</td>      <th>  AIC:               </th> <td>3.389e+04</td>\n",
       "</tr>\n",
       "<tr>\n",
       "  <th>Df Residuals:</th>          <td>  1004</td>      <th>  BIC:               </th> <td>3.390e+04</td>\n",
       "</tr>\n",
       "<tr>\n",
       "  <th>Df Model:</th>              <td>     1</td>      <th>                     </th>     <td> </td>    \n",
       "</tr>\n",
       "<tr>\n",
       "  <th>Covariance Type:</th>      <td>nonrobust</td>    <th>                     </th>     <td> </td>    \n",
       "</tr>\n",
       "</table>\n",
       "<table class=\"simpletable\">\n",
       "<tr>\n",
       "    <td></td>       <th>coef</th>     <th>std err</th>      <th>t</th>      <th>P>|t|</th>  <th>[0.025</th>    <th>0.975]</th>  \n",
       "</tr>\n",
       "<tr>\n",
       "  <th>const</th> <td> 8.472e+06</td> <td> 1.76e+06</td> <td>    4.811</td> <td> 0.000</td> <td> 5.02e+06</td> <td> 1.19e+07</td>\n",
       "</tr>\n",
       "<tr>\n",
       "  <th>Close</th> <td> 2.118e+04</td> <td> 3.24e+04</td> <td>    0.653</td> <td> 0.514</td> <td>-4.25e+04</td> <td> 8.48e+04</td>\n",
       "</tr>\n",
       "</table>\n",
       "<table class=\"simpletable\">\n",
       "<tr>\n",
       "  <th>Omnibus:</th>       <td>912.821</td> <th>  Durbin-Watson:     </th> <td>   1.008</td> \n",
       "</tr>\n",
       "<tr>\n",
       "  <th>Prob(Omnibus):</th> <td> 0.000</td>  <th>  Jarque-Bera (JB):  </th> <td>35938.452</td>\n",
       "</tr>\n",
       "<tr>\n",
       "  <th>Skew:</th>          <td> 4.080</td>  <th>  Prob(JB):          </th> <td>    0.00</td> \n",
       "</tr>\n",
       "<tr>\n",
       "  <th>Kurtosis:</th>      <td>31.121</td>  <th>  Cond. No.          </th> <td>    608.</td> \n",
       "</tr>\n",
       "</table><br/><br/>Warnings:<br/>[1] Standard Errors assume that the covariance matrix of the errors is correctly specified."
      ],
      "text/plain": [
       "<class 'statsmodels.iolib.summary.Summary'>\n",
       "\"\"\"\n",
       "                            OLS Regression Results                            \n",
       "==============================================================================\n",
       "Dep. Variable:                 Volume   R-squared:                       0.000\n",
       "Model:                            OLS   Adj. R-squared:                 -0.001\n",
       "Method:                 Least Squares   F-statistic:                    0.4261\n",
       "Date:                Mon, 06 Jul 2020   Prob (F-statistic):              0.514\n",
       "Time:                        14:43:36   Log-Likelihood:                -16941.\n",
       "No. Observations:                1006   AIC:                         3.389e+04\n",
       "Df Residuals:                    1004   BIC:                         3.390e+04\n",
       "Df Model:                           1                                         \n",
       "Covariance Type:            nonrobust                                         \n",
       "==============================================================================\n",
       "                 coef    std err          t      P>|t|      [0.025      0.975]\n",
       "------------------------------------------------------------------------------\n",
       "const       8.472e+06   1.76e+06      4.811      0.000    5.02e+06    1.19e+07\n",
       "Close       2.118e+04   3.24e+04      0.653      0.514   -4.25e+04    8.48e+04\n",
       "==============================================================================\n",
       "Omnibus:                      912.821   Durbin-Watson:                   1.008\n",
       "Prob(Omnibus):                  0.000   Jarque-Bera (JB):            35938.452\n",
       "Skew:                           4.080   Prob(JB):                         0.00\n",
       "Kurtosis:                      31.121   Cond. No.                         608.\n",
       "==============================================================================\n",
       "\n",
       "Warnings:\n",
       "[1] Standard Errors assume that the covariance matrix of the errors is correctly specified.\n",
       "\"\"\""
      ]
     },
     "execution_count": 9,
     "metadata": {},
     "output_type": "execute_result"
    }
   ],
   "source": [
    "result0.summary()"
   ]
  },
  {
   "cell_type": "code",
   "execution_count": 10,
   "metadata": {
    "ExecuteTime": {
     "end_time": "2020-07-06T14:43:51.595541Z",
     "start_time": "2020-07-06T14:43:51.591057Z"
    }
   },
   "outputs": [
    {
     "data": {
      "text/plain": [
       "const    8.472404e+06\n",
       "Close    2.117616e+04\n",
       "dtype: float64"
      ]
     },
     "execution_count": 10,
     "metadata": {},
     "output_type": "execute_result"
    }
   ],
   "source": [
    "result0.params"
   ]
  },
  {
   "cell_type": "code",
   "execution_count": 11,
   "metadata": {
    "ExecuteTime": {
     "end_time": "2020-07-06T14:43:54.835492Z",
     "start_time": "2020-07-06T14:43:54.831602Z"
    }
   },
   "outputs": [
    {
     "data": {
      "text/plain": [
       "0    9.277228e+06\n",
       "1    9.261811e+06\n",
       "2    9.255389e+06\n",
       "3    9.274659e+06\n",
       "4    9.287604e+06\n",
       "dtype: float64"
      ]
     },
     "execution_count": 11,
     "metadata": {},
     "output_type": "execute_result"
    }
   ],
   "source": [
    "result0.predict(X)[:5]"
   ]
  },
  {
   "cell_type": "markdown",
   "metadata": {},
   "source": [
    "## 5.3 Evaluation the regression model\n",
    "- it is necessary to plot the residuals to check that the assumptions of the model have been satisfied\n",
    "- Acf plot of residuals\n",
    "- Histogram of residuals\n",
    "- Residual plots against fitted values\n",
    "- Outlier and influential observations"
   ]
  },
  {
   "cell_type": "markdown",
   "metadata": {},
   "source": [
    "- https://www.scikit-yb.org/en/latest/index.html : machine learing vis"
   ]
  },
  {
   "cell_type": "code",
   "execution_count": 12,
   "metadata": {
    "ExecuteTime": {
     "end_time": "2020-07-06T14:43:57.003298Z",
     "start_time": "2020-07-06T14:43:56.994388Z"
    }
   },
   "outputs": [
    {
     "data": {
      "text/plain": [
       "0   -2.371130e+06\n",
       "1    2.361985e+06\n",
       "2   -1.591049e+06\n",
       "dtype: float64"
      ]
     },
     "execution_count": 12,
     "metadata": {},
     "output_type": "execute_result"
    }
   ],
   "source": [
    "result0.resid[:3]"
   ]
  },
  {
   "cell_type": "code",
   "execution_count": 13,
   "metadata": {
    "ExecuteTime": {
     "end_time": "2020-07-06T14:43:57.834920Z",
     "start_time": "2020-07-06T14:43:57.727719Z"
    }
   },
   "outputs": [
    {
     "data": {
      "image/png": "[encoded data removed]",
      "text/plain": [
       "<Figure size 432x288 with 1 Axes>"
      ]
     },
     "metadata": {
      "needs_background": "light"
     },
     "output_type": "display_data"
    }
   ],
   "source": [
    "# acf plot of residuals\n",
    "sm.graphics.tsa.plot_acf(result0.resid)\n",
    "plt.show()"
   ]
  },
  {
   "cell_type": "code",
   "execution_count": 14,
   "metadata": {
    "ExecuteTime": {
     "end_time": "2020-07-06T14:43:59.526711Z",
     "start_time": "2020-07-06T14:43:59.404957Z"
    }
   },
   "outputs": [
    {
     "data": {
      "image/png": "[encoded data removed]",
      "text/plain": [
       "<Figure size 432x288 with 1 Axes>"
      ]
     },
     "metadata": {
      "needs_background": "light"
     },
     "output_type": "display_data"
    }
   ],
   "source": [
    "# histgram of acf\n",
    "plt.hist(result0.resid)\n",
    "plt.show()"
   ]
  },
  {
   "cell_type": "code",
   "execution_count": 15,
   "metadata": {
    "ExecuteTime": {
     "end_time": "2020-07-06T14:44:06.151970Z",
     "start_time": "2020-07-06T14:44:05.584223Z"
    }
   },
   "outputs": [
    {
     "name": "stderr",
     "output_type": "stream",
     "text": [
      "/opt/conda/lib/python3.7/site-packages/sklearn/utils/deprecation.py:143: FutureWarning: The sklearn.metrics.classification module is  deprecated in version 0.22 and will be removed in version 0.24. The corresponding classes / functions should instead be imported from sklearn.metrics. Anything that cannot be imported from sklearn.metrics is now part of the private API.\n",
      "  warnings.warn(message, FutureWarning)\n",
      "findfont: Font family ['sans-serif'] not found. Falling back to DejaVu Sans.\n",
      "findfont: Font family ['sans-serif'] not found. Falling back to DejaVu Sans.\n",
      "findfont: Font family ['sans-serif'] not found. Falling back to DejaVu Sans.\n"
     ]
    },
    {
     "data": {
      "image/png": "[encoded data removed]",
      "text/plain": [
       "<Figure size 576x396 with 2 Axes>"
      ]
     },
     "metadata": {},
     "output_type": "display_data"
    },
    {
     "data": {
      "text/plain": [
       "<matplotlib.axes._subplots.AxesSubplot at 0x7fe0a7f0d550>"
      ]
     },
     "execution_count": 15,
     "metadata": {},
     "output_type": "execute_result"
    }
   ],
   "source": [
    "# !conda install -c districtdatalabs yellowbrick -y\n",
    "from sklearn.linear_model import LinearRegression\n",
    "from yellowbrick.regressor import ResidualsPlot\n",
    "\n",
    "sklearnModel = LinearRegression()\n",
    "vis = ResidualsPlot(sklearnModel)\n",
    "\n",
    "vis.fit(X,y)\n",
    "# vis.score(X_test, y_test) : you can vis with test and train\n",
    "vis.show()"
   ]
  },
  {
   "cell_type": "code",
   "execution_count": 16,
   "metadata": {
    "ExecuteTime": {
     "end_time": "2020-07-06T14:44:13.649281Z",
     "start_time": "2020-07-06T14:44:11.568834Z"
    }
   },
   "outputs": [
    {
     "name": "stderr",
     "output_type": "stream",
     "text": [
      "/opt/conda/lib/python3.7/site-packages/sklearn/base.py:213: FutureWarning: From version 0.24, get_params will raise an AttributeError if a parameter cannot be retrieved as an instance attribute. Previously it would return None.\n",
      "  FutureWarning)\n",
      "/opt/conda/lib/python3.7/site-packages/yellowbrick/regressor/influence.py:183: UserWarning: In Matplotlib 3.3 individual lines on a stem plot will be added as a LineCollection instead of individual lines. This significantly improves the performance of a stem plot. To remove this warning and switch to the new behaviour, set the \"use_line_collection\" keyword argument to True.\n",
      "  self.distance_, linefmt=self.linefmt, markerfmt=self.markerfmt\n"
     ]
    },
    {
     "data": {
      "image/png": "[encoded data removed]",
      "text/plain": [
       "<Figure size 576x396 with 1 Axes>"
      ]
     },
     "metadata": {},
     "output_type": "display_data"
    },
    {
     "data": {
      "text/plain": [
       "<matplotlib.axes._subplots.AxesSubplot at 0x7fe0a7d3f6d0>"
      ]
     },
     "execution_count": 16,
     "metadata": {},
     "output_type": "execute_result"
    }
   ],
   "source": [
    "# Outlier and influential observations\n",
    "from yellowbrick.regressor import CooksDistance\n",
    "\n",
    "visualizer = CooksDistance()\n",
    "visualizer.fit(X, y)\n",
    "visualizer.show()"
   ]
  },
  {
   "cell_type": "markdown",
   "metadata": {},
   "source": [
    "## 5.4 Some useful predictors\n",
    "- Trend : $y_t = \\beta_0 + \\beta_1 t + \\epsilon_t$ (using time)\n",
    "- Dummy variables : public holiday, outlier\n",
    "- Seasonal dummy variables\n",
    "- Intervection variables : ex) competitor activity, industrial action\n",
    "- Trading days : ex) number of Sundays in month\n",
    "- Distributed lags\n",
    "- Easter\n",
    "- Fourier series"
   ]
  },
  {
   "cell_type": "code",
   "execution_count": 29,
   "metadata": {
    "ExecuteTime": {
     "end_time": "2020-07-06T14:56:38.915081Z",
     "start_time": "2020-07-06T14:56:38.767723Z"
    }
   },
   "outputs": [
    {
     "data": {
      "text/plain": [
       "<matplotlib.axes._subplots.AxesSubplot at 0x7fe0a3ee3650>"
      ]
     },
     "execution_count": 29,
     "metadata": {},
     "output_type": "execute_result"
    },
    {
     "data": {
      "image/png": "[encoded data removed]",
      "text/plain": [
       "<Figure size 1080x432 with 1 Axes>"
      ]
     },
     "metadata": {},
     "output_type": "display_data"
    }
   ],
   "source": [
    "data['Volume'].plot(figsize=(15,6))"
   ]
  },
  {
   "cell_type": "code",
   "execution_count": 30,
   "metadata": {
    "ExecuteTime": {
     "end_time": "2020-07-06T15:24:46.030469Z",
     "start_time": "2020-07-06T15:24:46.008435Z"
    }
   },
   "outputs": [],
   "source": [
    "data['Date'] = pd.to_datetime(data['Date'])\n",
    "data['year'] = data['Date'].dt.year\n",
    "data['month'] = data['Date'].dt.month\n",
    "data['day'] = data['Date'].dt.day\n",
    "data['weekday'] = data['Date'].dt.weekday # monday : 0 ~"
   ]
  },
  {
   "cell_type": "code",
   "execution_count": 31,
   "metadata": {
    "ExecuteTime": {
     "end_time": "2020-07-06T15:24:46.495730Z",
     "start_time": "2020-07-06T15:24:46.486130Z"
    }
   },
   "outputs": [
    {
     "data": {
      "text/html": [
       "<div>\n",
       "<style scoped>\n",
       "    .dataframe tbody tr th:only-of-type {\n",
       "        vertical-align: middle;\n",
       "    }\n",
       "\n",
       "    .dataframe tbody tr th {\n",
       "        vertical-align: top;\n",
       "    }\n",
       "\n",
       "    .dataframe thead th {\n",
       "        text-align: right;\n",
       "    }\n",
       "</style>\n",
       "<table border=\"1\" class=\"dataframe\">\n",
       "  <thead>\n",
       "    <tr style=\"text-align: right;\">\n",
       "      <th></th>\n",
       "      <th>Date</th>\n",
       "      <th>Close</th>\n",
       "      <th>Volume</th>\n",
       "      <th>year</th>\n",
       "      <th>month</th>\n",
       "      <th>day</th>\n",
       "      <th>weekday</th>\n",
       "    </tr>\n",
       "  </thead>\n",
       "  <tbody>\n",
       "    <tr>\n",
       "      <th>0</th>\n",
       "      <td>2015-01-02</td>\n",
       "      <td>38.0061</td>\n",
       "      <td>6906098</td>\n",
       "      <td>2015</td>\n",
       "      <td>1</td>\n",
       "      <td>2</td>\n",
       "      <td>4</td>\n",
       "    </tr>\n",
       "    <tr>\n",
       "      <th>1</th>\n",
       "      <td>2015-01-05</td>\n",
       "      <td>37.2781</td>\n",
       "      <td>11623796</td>\n",
       "      <td>2015</td>\n",
       "      <td>1</td>\n",
       "      <td>5</td>\n",
       "      <td>0</td>\n",
       "    </tr>\n",
       "    <tr>\n",
       "      <th>2</th>\n",
       "      <td>2015-01-06</td>\n",
       "      <td>36.9748</td>\n",
       "      <td>7664340</td>\n",
       "      <td>2015</td>\n",
       "      <td>1</td>\n",
       "      <td>6</td>\n",
       "      <td>1</td>\n",
       "    </tr>\n",
       "  </tbody>\n",
       "</table>\n",
       "</div>"
      ],
      "text/plain": [
       "        Date    Close    Volume  year  month  day  weekday\n",
       "0 2015-01-02  38.0061   6906098  2015      1    2        4\n",
       "1 2015-01-05  37.2781  11623796  2015      1    5        0\n",
       "2 2015-01-06  36.9748   7664340  2015      1    6        1"
      ]
     },
     "execution_count": 31,
     "metadata": {},
     "output_type": "execute_result"
    }
   ],
   "source": [
    "data.head(3)"
   ]
  },
  {
   "cell_type": "code",
   "execution_count": 46,
   "metadata": {
    "ExecuteTime": {
     "end_time": "2020-07-06T15:29:38.811549Z",
     "start_time": "2020-07-06T15:29:38.647299Z"
    }
   },
   "outputs": [
    {
     "data": {
      "text/plain": [
       "<matplotlib.axes._subplots.AxesSubplot at 0x7fe0a1ddeb50>"
      ]
     },
     "execution_count": 46,
     "metadata": {},
     "output_type": "execute_result"
    },
    {
     "data": {
      "image/png": "[encoded data removed]",
      "text/plain": [
       "<Figure size 576x396 with 1 Axes>"
      ]
     },
     "metadata": {},
     "output_type": "display_data"
    }
   ],
   "source": [
    "sns.boxplot(data=data, x='weekday', y='Volume')"
   ]
  },
  {
   "cell_type": "code",
   "execution_count": 60,
   "metadata": {
    "ExecuteTime": {
     "end_time": "2020-07-06T15:35:12.359486Z",
     "start_time": "2020-07-06T15:35:12.334646Z"
    }
   },
   "outputs": [
    {
     "name": "stdout",
     "output_type": "stream",
     "text": [
      "how many outlier? 11\n"
     ]
    }
   ],
   "source": [
    "# outlier\n",
    "tmp = (data['Volume'] > data['Volume'].quantile(0.99)).sum()\n",
    "print(f'how many outlier? {tmp}')\n",
    "\n",
    "data['outlier'] = data['Volume'] > data['Volume'].quantile(0.99)\n",
    "data['outlier'] = data['outlier'].astype('int')"
   ]
  },
  {
   "cell_type": "code",
   "execution_count": 65,
   "metadata": {
    "ExecuteTime": {
     "end_time": "2020-07-06T15:36:09.925701Z",
     "start_time": "2020-07-06T15:36:09.898435Z"
    }
   },
   "outputs": [
    {
     "name": "stdout",
     "output_type": "stream",
     "text": [
      "Date       datetime64[ns]\n",
      "Close             float64\n",
      "Volume              int64\n",
      "year                int64\n",
      "month               int64\n",
      "day                 int64\n",
      "weekday             int64\n",
      "outlier             int64\n",
      "dtype: object\n",
      "shape : (1006, 8)\n"
     ]
    },
    {
     "data": {
      "text/html": [
       "<div>\n",
       "<style scoped>\n",
       "    .dataframe tbody tr th:only-of-type {\n",
       "        vertical-align: middle;\n",
       "    }\n",
       "\n",
       "    .dataframe tbody tr th {\n",
       "        vertical-align: top;\n",
       "    }\n",
       "\n",
       "    .dataframe thead th {\n",
       "        text-align: right;\n",
       "    }\n",
       "</style>\n",
       "<table border=\"1\" class=\"dataframe\">\n",
       "  <thead>\n",
       "    <tr style=\"text-align: right;\">\n",
       "      <th></th>\n",
       "      <th>Date</th>\n",
       "      <th>Close</th>\n",
       "      <th>Volume</th>\n",
       "      <th>year</th>\n",
       "      <th>month</th>\n",
       "      <th>day</th>\n",
       "      <th>weekday</th>\n",
       "      <th>outlier</th>\n",
       "    </tr>\n",
       "  </thead>\n",
       "  <tbody>\n",
       "    <tr>\n",
       "      <th>0</th>\n",
       "      <td>2015-01-02</td>\n",
       "      <td>38.0061</td>\n",
       "      <td>6906098</td>\n",
       "      <td>2015</td>\n",
       "      <td>1</td>\n",
       "      <td>2</td>\n",
       "      <td>4</td>\n",
       "      <td>0</td>\n",
       "    </tr>\n",
       "    <tr>\n",
       "      <th>1</th>\n",
       "      <td>2015-01-05</td>\n",
       "      <td>37.2781</td>\n",
       "      <td>11623796</td>\n",
       "      <td>2015</td>\n",
       "      <td>1</td>\n",
       "      <td>5</td>\n",
       "      <td>0</td>\n",
       "      <td>0</td>\n",
       "    </tr>\n",
       "    <tr>\n",
       "      <th>2</th>\n",
       "      <td>2015-01-06</td>\n",
       "      <td>36.9748</td>\n",
       "      <td>7664340</td>\n",
       "      <td>2015</td>\n",
       "      <td>1</td>\n",
       "      <td>6</td>\n",
       "      <td>1</td>\n",
       "      <td>0</td>\n",
       "    </tr>\n",
       "  </tbody>\n",
       "</table>\n",
       "</div>"
      ],
      "text/plain": [
       "        Date    Close    Volume  year  month  day  weekday  outlier\n",
       "0 2015-01-02  38.0061   6906098  2015      1    2        4        0\n",
       "1 2015-01-05  37.2781  11623796  2015      1    5        0        0\n",
       "2 2015-01-06  36.9748   7664340  2015      1    6        1        0"
      ]
     },
     "execution_count": 65,
     "metadata": {},
     "output_type": "execute_result"
    }
   ],
   "source": [
    "print(data.dtypes)\n",
    "print(f'shape : {data.shape}')\n",
    "data.head(3)"
   ]
  },
  {
   "cell_type": "code",
   "execution_count": 73,
   "metadata": {
    "ExecuteTime": {
     "end_time": "2020-07-06T15:38:36.487145Z",
     "start_time": "2020-07-06T15:38:36.462231Z"
    }
   },
   "outputs": [],
   "source": [
    "# linear regression fitting(=learning, training)\n",
    "X = data[['Close','year','month','day','weekday','outlier']]\n",
    "X = sm.add_constant(X)\n",
    "y = data['Volume']\n",
    "model1 = sm.OLS(y, X)\n",
    "result1 = model1.fit()"
   ]
  },
  {
   "cell_type": "code",
   "execution_count": 74,
   "metadata": {
    "ExecuteTime": {
     "end_time": "2020-07-06T15:38:37.156904Z",
     "start_time": "2020-07-06T15:38:37.137409Z"
    }
   },
   "outputs": [
    {
     "data": {
      "text/html": [
       "<table class=\"simpletable\">\n",
       "<caption>OLS Regression Results</caption>\n",
       "<tr>\n",
       "  <th>Dep. Variable:</th>         <td>Volume</td>      <th>  R-squared:         </th> <td>   0.426</td> \n",
       "</tr>\n",
       "<tr>\n",
       "  <th>Model:</th>                   <td>OLS</td>       <th>  Adj. R-squared:    </th> <td>   0.423</td> \n",
       "</tr>\n",
       "<tr>\n",
       "  <th>Method:</th>             <td>Least Squares</td>  <th>  F-statistic:       </th> <td>   123.8</td> \n",
       "</tr>\n",
       "<tr>\n",
       "  <th>Date:</th>             <td>Mon, 06 Jul 2020</td> <th>  Prob (F-statistic):</th> <td>6.03e-117</td>\n",
       "</tr>\n",
       "<tr>\n",
       "  <th>Time:</th>                 <td>15:38:37</td>     <th>  Log-Likelihood:    </th> <td> -16662.</td> \n",
       "</tr>\n",
       "<tr>\n",
       "  <th>No. Observations:</th>      <td>  1006</td>      <th>  AIC:               </th> <td>3.334e+04</td>\n",
       "</tr>\n",
       "<tr>\n",
       "  <th>Df Residuals:</th>          <td>   999</td>      <th>  BIC:               </th> <td>3.337e+04</td>\n",
       "</tr>\n",
       "<tr>\n",
       "  <th>Df Model:</th>              <td>     6</td>      <th>                     </th>     <td> </td>    \n",
       "</tr>\n",
       "<tr>\n",
       "  <th>Covariance Type:</th>      <td>nonrobust</td>    <th>                     </th>     <td> </td>    \n",
       "</tr>\n",
       "</table>\n",
       "<table class=\"simpletable\">\n",
       "<tr>\n",
       "     <td></td>        <th>coef</th>     <th>std err</th>      <th>t</th>      <th>P>|t|</th>  <th>[0.025</th>    <th>0.975]</th>  \n",
       "</tr>\n",
       "<tr>\n",
       "  <th>const</th>   <td>-1.486e+09</td> <td> 2.56e+08</td> <td>   -5.813</td> <td> 0.000</td> <td>-1.99e+09</td> <td>-9.84e+08</td>\n",
       "</tr>\n",
       "<tr>\n",
       "  <th>Close</th>   <td>-5.611e+04</td> <td> 3.11e+04</td> <td>   -1.805</td> <td> 0.071</td> <td>-1.17e+05</td> <td> 4905.312</td>\n",
       "</tr>\n",
       "<tr>\n",
       "  <th>year</th>    <td> 7.427e+05</td> <td> 1.27e+05</td> <td>    5.839</td> <td> 0.000</td> <td> 4.93e+05</td> <td> 9.92e+05</td>\n",
       "</tr>\n",
       "<tr>\n",
       "  <th>month</th>   <td> 2.569e+04</td> <td>  3.8e+04</td> <td>    0.677</td> <td> 0.499</td> <td>-4.88e+04</td> <td>    1e+05</td>\n",
       "</tr>\n",
       "<tr>\n",
       "  <th>day</th>     <td>  640.1938</td> <td> 1.37e+04</td> <td>    0.047</td> <td> 0.963</td> <td>-2.62e+04</td> <td> 2.75e+04</td>\n",
       "</tr>\n",
       "<tr>\n",
       "  <th>weekday</th> <td>  2.76e+05</td> <td>  8.6e+04</td> <td>    3.210</td> <td> 0.001</td> <td> 1.07e+05</td> <td> 4.45e+05</td>\n",
       "</tr>\n",
       "<tr>\n",
       "  <th>outlier</th> <td> 2.937e+07</td> <td> 1.16e+06</td> <td>   25.254</td> <td> 0.000</td> <td> 2.71e+07</td> <td> 3.17e+07</td>\n",
       "</tr>\n",
       "</table>\n",
       "<table class=\"simpletable\">\n",
       "<tr>\n",
       "  <th>Omnibus:</th>       <td>364.465</td> <th>  Durbin-Watson:     </th> <td>   1.114</td> \n",
       "</tr>\n",
       "<tr>\n",
       "  <th>Prob(Omnibus):</th> <td> 0.000</td>  <th>  Jarque-Bera (JB):  </th> <td>1430.846</td> \n",
       "</tr>\n",
       "<tr>\n",
       "  <th>Skew:</th>          <td> 1.703</td>  <th>  Prob(JB):          </th> <td>1.98e-311</td>\n",
       "</tr>\n",
       "<tr>\n",
       "  <th>Kurtosis:</th>      <td> 7.747</td>  <th>  Cond. No.          </th> <td>4.32e+06</td> \n",
       "</tr>\n",
       "</table><br/><br/>Warnings:<br/>[1] Standard Errors assume that the covariance matrix of the errors is correctly specified.<br/>[2] The condition number is large, 4.32e+06. This might indicate that there are<br/>strong multicollinearity or other numerical problems."
      ],
      "text/plain": [
       "<class 'statsmodels.iolib.summary.Summary'>\n",
       "\"\"\"\n",
       "                            OLS Regression Results                            \n",
       "==============================================================================\n",
       "Dep. Variable:                 Volume   R-squared:                       0.426\n",
       "Model:                            OLS   Adj. R-squared:                  0.423\n",
       "Method:                 Least Squares   F-statistic:                     123.8\n",
       "Date:                Mon, 06 Jul 2020   Prob (F-statistic):          6.03e-117\n",
       "Time:                        15:38:37   Log-Likelihood:                -16662.\n",
       "No. Observations:                1006   AIC:                         3.334e+04\n",
       "Df Residuals:                     999   BIC:                         3.337e+04\n",
       "Df Model:                           6                                         \n",
       "Covariance Type:            nonrobust                                         \n",
       "==============================================================================\n",
       "                 coef    std err          t      P>|t|      [0.025      0.975]\n",
       "------------------------------------------------------------------------------\n",
       "const      -1.486e+09   2.56e+08     -5.813      0.000   -1.99e+09   -9.84e+08\n",
       "Close      -5.611e+04   3.11e+04     -1.805      0.071   -1.17e+05    4905.312\n",
       "year        7.427e+05   1.27e+05      5.839      0.000    4.93e+05    9.92e+05\n",
       "month       2.569e+04    3.8e+04      0.677      0.499   -4.88e+04       1e+05\n",
       "day          640.1938   1.37e+04      0.047      0.963   -2.62e+04    2.75e+04\n",
       "weekday      2.76e+05    8.6e+04      3.210      0.001    1.07e+05    4.45e+05\n",
       "outlier     2.937e+07   1.16e+06     25.254      0.000    2.71e+07    3.17e+07\n",
       "==============================================================================\n",
       "Omnibus:                      364.465   Durbin-Watson:                   1.114\n",
       "Prob(Omnibus):                  0.000   Jarque-Bera (JB):             1430.846\n",
       "Skew:                           1.703   Prob(JB):                    1.98e-311\n",
       "Kurtosis:                       7.747   Cond. No.                     4.32e+06\n",
       "==============================================================================\n",
       "\n",
       "Warnings:\n",
       "[1] Standard Errors assume that the covariance matrix of the errors is correctly specified.\n",
       "[2] The condition number is large, 4.32e+06. This might indicate that there are\n",
       "strong multicollinearity or other numerical problems.\n",
       "\"\"\""
      ]
     },
     "execution_count": 74,
     "metadata": {},
     "output_type": "execute_result"
    }
   ],
   "source": [
    "result1.summary()"
   ]
  },
  {
   "cell_type": "markdown",
   "metadata": {},
   "source": [
    "## 5.5 Selecting predictors\n",
    "- $R^2$\n",
    "- CV\n",
    "- AIC\n",
    "- BIC\n",
    "- stepwise regression"
   ]
  }
 ],
 "metadata": {
  "kernelspec": {
   "display_name": "Python 3",
   "language": "python",
   "name": "python3"
  },
  "language_info": {
   "codemirror_mode": {
    "name": "ipython",
    "version": 3
   },
   "file_extension": ".py",
   "mimetype": "text/x-python",
   "name": "python",
   "nbconvert_exporter": "python",
   "pygments_lexer": "ipython3",
   "version": "3.7.7"
  }
 },
 "nbformat": 4,
 "nbformat_minor": 4
}
